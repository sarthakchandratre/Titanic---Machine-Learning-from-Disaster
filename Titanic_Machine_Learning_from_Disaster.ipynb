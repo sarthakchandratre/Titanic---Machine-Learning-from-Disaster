{
  "nbformat": 4,
  "nbformat_minor": 0,
  "metadata": {
    "colab": {
      "name": "Titanic - Machine Learning from Disaster.ipynb",
      "provenance": [],
      "collapsed_sections": [
        "6w9AQtioKTiC",
        "NBwuB9R5ru8C",
        "pHZpeTDXhMOA",
        "GKNalNK8ihuj",
        "SS-pYoT8kVsA",
        "TRfBLgIgzpfB",
        "Ubllq7d_6rYw",
        "f6BwUphC-iG1",
        "_GOFwRIk_x5J",
        "KEhbB2BEAb4H",
        "_-Sup_93Hrb6",
        "OOY3sCh-ITIx",
        "SR29ovzKI5zQ",
        "JG9lKVN9k9cj",
        "ExyunADTKbPV",
        "wOptD_0EfhYb",
        "VNcOKtHMKydr",
        "LvM-di1TIMlV",
        "zdWGq1ym5wlU",
        "bnzy4vSVsZOD",
        "iHqK6Cb6zXAo"
      ]
    },
    "kernelspec": {
      "name": "python3",
      "display_name": "Python 3"
    },
    "language_info": {
      "name": "python"
    },
    "accelerator": "TPU",
    "gpuClass": "standard"
  },
  "cells": [
    {
      "cell_type": "markdown",
      "source": [
        "#**Titanic ->**"
      ],
      "metadata": {
        "id": "6w9AQtioKTiC"
      }
    },
    {
      "cell_type": "markdown",
      "source": [
        "# **Part-I**"
      ],
      "metadata": {
        "id": "NBwuB9R5ru8C"
      }
    },
    {
      "cell_type": "code",
      "execution_count": 1,
      "metadata": {
        "id": "5PAZHFYhbuRs"
      },
      "outputs": [],
      "source": [
        "#Importing all the necessary libraries.\n",
        "import pandas as pd\n",
        "import numpy as np\n",
        "import matplotlib.pyplot as plt  \n",
        "import seaborn as sns\n",
        "from numpy import asarray\n",
        "from sklearn.model_selection import train_test_split\n",
        "from sklearn.preprocessing import OneHotEncoder\n",
        "from sklearn.preprocessing import OrdinalEncoder\n",
        "import pickle\n"
      ]
    },
    {
      "cell_type": "code",
      "source": [
        "#Loading train and test files.\n",
        "train_df=pd.read_csv('train.csv')\n",
        "test_df=pd.read_csv('test.csv')"
      ],
      "metadata": {
        "id": "myz81JcYcHxF"
      },
      "execution_count": 2,
      "outputs": []
    },
    {
      "cell_type": "code",
      "source": [
        "#Taking a look into data.\n",
        "print(train_df.head())\n",
        "print(train_df.shape)\n",
        "print('='*50)\n",
        "print(test_df.head())\n",
        "print(test_df.shape)"
      ],
      "metadata": {
        "colab": {
          "base_uri": "https://localhost:8080/"
        },
        "id": "fe1bI2AkcL8M",
        "outputId": "99ef8502-f956-477e-fc64-c58255703f00"
      },
      "execution_count": 3,
      "outputs": [
        {
          "output_type": "stream",
          "name": "stdout",
          "text": [
            "   PassengerId  Survived  Pclass  \\\n",
            "0            1         0       3   \n",
            "1            2         1       1   \n",
            "2            3         1       3   \n",
            "3            4         1       1   \n",
            "4            5         0       3   \n",
            "\n",
            "                                                Name     Sex   Age  SibSp  \\\n",
            "0                            Braund, Mr. Owen Harris    male  22.0      1   \n",
            "1  Cumings, Mrs. John Bradley (Florence Briggs Th...  female  38.0      1   \n",
            "2                             Heikkinen, Miss. Laina  female  26.0      0   \n",
            "3       Futrelle, Mrs. Jacques Heath (Lily May Peel)  female  35.0      1   \n",
            "4                           Allen, Mr. William Henry    male  35.0      0   \n",
            "\n",
            "   Parch            Ticket     Fare Cabin Embarked  \n",
            "0      0         A/5 21171   7.2500   NaN        S  \n",
            "1      0          PC 17599  71.2833   C85        C  \n",
            "2      0  STON/O2. 3101282   7.9250   NaN        S  \n",
            "3      0            113803  53.1000  C123        S  \n",
            "4      0            373450   8.0500   NaN        S  \n",
            "(891, 12)\n",
            "==================================================\n",
            "   PassengerId  Pclass                                          Name     Sex  \\\n",
            "0          892       3                              Kelly, Mr. James    male   \n",
            "1          893       3              Wilkes, Mrs. James (Ellen Needs)  female   \n",
            "2          894       2                     Myles, Mr. Thomas Francis    male   \n",
            "3          895       3                              Wirz, Mr. Albert    male   \n",
            "4          896       3  Hirvonen, Mrs. Alexander (Helga E Lindqvist)  female   \n",
            "\n",
            "    Age  SibSp  Parch   Ticket     Fare Cabin Embarked  \n",
            "0  34.5      0      0   330911   7.8292   NaN        Q  \n",
            "1  47.0      1      0   363272   7.0000   NaN        S  \n",
            "2  62.0      0      0   240276   9.6875   NaN        Q  \n",
            "3  27.0      0      0   315154   8.6625   NaN        S  \n",
            "4  22.0      1      1  3101298  12.2875   NaN        S  \n",
            "(418, 11)\n"
          ]
        }
      ]
    },
    {
      "cell_type": "code",
      "source": [
        "train_df.columns"
      ],
      "metadata": {
        "colab": {
          "base_uri": "https://localhost:8080/"
        },
        "id": "QadDm2iafZ21",
        "outputId": "bd9f8594-c0b2-4b22-87ad-39e2baa819e8"
      },
      "execution_count": 4,
      "outputs": [
        {
          "output_type": "execute_result",
          "data": {
            "text/plain": [
              "Index(['PassengerId', 'Survived', 'Pclass', 'Name', 'Sex', 'Age', 'SibSp',\n",
              "       'Parch', 'Ticket', 'Fare', 'Cabin', 'Embarked'],\n",
              "      dtype='object')"
            ]
          },
          "metadata": {},
          "execution_count": 4
        }
      ]
    },
    {
      "cell_type": "code",
      "source": [
        "test_df.columns"
      ],
      "metadata": {
        "colab": {
          "base_uri": "https://localhost:8080/"
        },
        "id": "vfbw3UCFf4jW",
        "outputId": "1dc8885a-31c8-4aab-f85d-41ae6de52cc5"
      },
      "execution_count": 5,
      "outputs": [
        {
          "output_type": "execute_result",
          "data": {
            "text/plain": [
              "Index(['PassengerId', 'Pclass', 'Name', 'Sex', 'Age', 'SibSp', 'Parch',\n",
              "       'Ticket', 'Fare', 'Cabin', 'Embarked'],\n",
              "      dtype='object')"
            ]
          },
          "metadata": {},
          "execution_count": 5
        }
      ]
    },
    {
      "cell_type": "code",
      "source": [
        "#Details of train Data.\n",
        "train_df.describe()"
      ],
      "metadata": {
        "colab": {
          "base_uri": "https://localhost:8080/",
          "height": 300
        },
        "id": "h9TS5i6egvMG",
        "outputId": "5d845505-67ec-4adf-bdd8-5d62f533f6c0"
      },
      "execution_count": 6,
      "outputs": [
        {
          "output_type": "execute_result",
          "data": {
            "text/plain": [
              "       PassengerId    Survived      Pclass         Age       SibSp  \\\n",
              "count   891.000000  891.000000  891.000000  714.000000  891.000000   \n",
              "mean    446.000000    0.383838    2.308642   29.699118    0.523008   \n",
              "std     257.353842    0.486592    0.836071   14.526497    1.102743   \n",
              "min       1.000000    0.000000    1.000000    0.420000    0.000000   \n",
              "25%     223.500000    0.000000    2.000000   20.125000    0.000000   \n",
              "50%     446.000000    0.000000    3.000000   28.000000    0.000000   \n",
              "75%     668.500000    1.000000    3.000000   38.000000    1.000000   \n",
              "max     891.000000    1.000000    3.000000   80.000000    8.000000   \n",
              "\n",
              "            Parch        Fare  \n",
              "count  891.000000  891.000000  \n",
              "mean     0.381594   32.204208  \n",
              "std      0.806057   49.693429  \n",
              "min      0.000000    0.000000  \n",
              "25%      0.000000    7.910400  \n",
              "50%      0.000000   14.454200  \n",
              "75%      0.000000   31.000000  \n",
              "max      6.000000  512.329200  "
            ],
            "text/html": [
              "\n",
              "  <div id=\"df-9aa1b37b-27dc-40ad-9d89-0c96cf4bb29e\">\n",
              "    <div class=\"colab-df-container\">\n",
              "      <div>\n",
              "<style scoped>\n",
              "    .dataframe tbody tr th:only-of-type {\n",
              "        vertical-align: middle;\n",
              "    }\n",
              "\n",
              "    .dataframe tbody tr th {\n",
              "        vertical-align: top;\n",
              "    }\n",
              "\n",
              "    .dataframe thead th {\n",
              "        text-align: right;\n",
              "    }\n",
              "</style>\n",
              "<table border=\"1\" class=\"dataframe\">\n",
              "  <thead>\n",
              "    <tr style=\"text-align: right;\">\n",
              "      <th></th>\n",
              "      <th>PassengerId</th>\n",
              "      <th>Survived</th>\n",
              "      <th>Pclass</th>\n",
              "      <th>Age</th>\n",
              "      <th>SibSp</th>\n",
              "      <th>Parch</th>\n",
              "      <th>Fare</th>\n",
              "    </tr>\n",
              "  </thead>\n",
              "  <tbody>\n",
              "    <tr>\n",
              "      <th>count</th>\n",
              "      <td>891.000000</td>\n",
              "      <td>891.000000</td>\n",
              "      <td>891.000000</td>\n",
              "      <td>714.000000</td>\n",
              "      <td>891.000000</td>\n",
              "      <td>891.000000</td>\n",
              "      <td>891.000000</td>\n",
              "    </tr>\n",
              "    <tr>\n",
              "      <th>mean</th>\n",
              "      <td>446.000000</td>\n",
              "      <td>0.383838</td>\n",
              "      <td>2.308642</td>\n",
              "      <td>29.699118</td>\n",
              "      <td>0.523008</td>\n",
              "      <td>0.381594</td>\n",
              "      <td>32.204208</td>\n",
              "    </tr>\n",
              "    <tr>\n",
              "      <th>std</th>\n",
              "      <td>257.353842</td>\n",
              "      <td>0.486592</td>\n",
              "      <td>0.836071</td>\n",
              "      <td>14.526497</td>\n",
              "      <td>1.102743</td>\n",
              "      <td>0.806057</td>\n",
              "      <td>49.693429</td>\n",
              "    </tr>\n",
              "    <tr>\n",
              "      <th>min</th>\n",
              "      <td>1.000000</td>\n",
              "      <td>0.000000</td>\n",
              "      <td>1.000000</td>\n",
              "      <td>0.420000</td>\n",
              "      <td>0.000000</td>\n",
              "      <td>0.000000</td>\n",
              "      <td>0.000000</td>\n",
              "    </tr>\n",
              "    <tr>\n",
              "      <th>25%</th>\n",
              "      <td>223.500000</td>\n",
              "      <td>0.000000</td>\n",
              "      <td>2.000000</td>\n",
              "      <td>20.125000</td>\n",
              "      <td>0.000000</td>\n",
              "      <td>0.000000</td>\n",
              "      <td>7.910400</td>\n",
              "    </tr>\n",
              "    <tr>\n",
              "      <th>50%</th>\n",
              "      <td>446.000000</td>\n",
              "      <td>0.000000</td>\n",
              "      <td>3.000000</td>\n",
              "      <td>28.000000</td>\n",
              "      <td>0.000000</td>\n",
              "      <td>0.000000</td>\n",
              "      <td>14.454200</td>\n",
              "    </tr>\n",
              "    <tr>\n",
              "      <th>75%</th>\n",
              "      <td>668.500000</td>\n",
              "      <td>1.000000</td>\n",
              "      <td>3.000000</td>\n",
              "      <td>38.000000</td>\n",
              "      <td>1.000000</td>\n",
              "      <td>0.000000</td>\n",
              "      <td>31.000000</td>\n",
              "    </tr>\n",
              "    <tr>\n",
              "      <th>max</th>\n",
              "      <td>891.000000</td>\n",
              "      <td>1.000000</td>\n",
              "      <td>3.000000</td>\n",
              "      <td>80.000000</td>\n",
              "      <td>8.000000</td>\n",
              "      <td>6.000000</td>\n",
              "      <td>512.329200</td>\n",
              "    </tr>\n",
              "  </tbody>\n",
              "</table>\n",
              "</div>\n",
              "      <button class=\"colab-df-convert\" onclick=\"convertToInteractive('df-9aa1b37b-27dc-40ad-9d89-0c96cf4bb29e')\"\n",
              "              title=\"Convert this dataframe to an interactive table.\"\n",
              "              style=\"display:none;\">\n",
              "        \n",
              "  <svg xmlns=\"http://www.w3.org/2000/svg\" height=\"24px\"viewBox=\"0 0 24 24\"\n",
              "       width=\"24px\">\n",
              "    <path d=\"M0 0h24v24H0V0z\" fill=\"none\"/>\n",
              "    <path d=\"M18.56 5.44l.94 2.06.94-2.06 2.06-.94-2.06-.94-.94-2.06-.94 2.06-2.06.94zm-11 1L8.5 8.5l.94-2.06 2.06-.94-2.06-.94L8.5 2.5l-.94 2.06-2.06.94zm10 10l.94 2.06.94-2.06 2.06-.94-2.06-.94-.94-2.06-.94 2.06-2.06.94z\"/><path d=\"M17.41 7.96l-1.37-1.37c-.4-.4-.92-.59-1.43-.59-.52 0-1.04.2-1.43.59L10.3 9.45l-7.72 7.72c-.78.78-.78 2.05 0 2.83L4 21.41c.39.39.9.59 1.41.59.51 0 1.02-.2 1.41-.59l7.78-7.78 2.81-2.81c.8-.78.8-2.07 0-2.86zM5.41 20L4 18.59l7.72-7.72 1.47 1.35L5.41 20z\"/>\n",
              "  </svg>\n",
              "      </button>\n",
              "      \n",
              "  <style>\n",
              "    .colab-df-container {\n",
              "      display:flex;\n",
              "      flex-wrap:wrap;\n",
              "      gap: 12px;\n",
              "    }\n",
              "\n",
              "    .colab-df-convert {\n",
              "      background-color: #E8F0FE;\n",
              "      border: none;\n",
              "      border-radius: 50%;\n",
              "      cursor: pointer;\n",
              "      display: none;\n",
              "      fill: #1967D2;\n",
              "      height: 32px;\n",
              "      padding: 0 0 0 0;\n",
              "      width: 32px;\n",
              "    }\n",
              "\n",
              "    .colab-df-convert:hover {\n",
              "      background-color: #E2EBFA;\n",
              "      box-shadow: 0px 1px 2px rgba(60, 64, 67, 0.3), 0px 1px 3px 1px rgba(60, 64, 67, 0.15);\n",
              "      fill: #174EA6;\n",
              "    }\n",
              "\n",
              "    [theme=dark] .colab-df-convert {\n",
              "      background-color: #3B4455;\n",
              "      fill: #D2E3FC;\n",
              "    }\n",
              "\n",
              "    [theme=dark] .colab-df-convert:hover {\n",
              "      background-color: #434B5C;\n",
              "      box-shadow: 0px 1px 3px 1px rgba(0, 0, 0, 0.15);\n",
              "      filter: drop-shadow(0px 1px 2px rgba(0, 0, 0, 0.3));\n",
              "      fill: #FFFFFF;\n",
              "    }\n",
              "  </style>\n",
              "\n",
              "      <script>\n",
              "        const buttonEl =\n",
              "          document.querySelector('#df-9aa1b37b-27dc-40ad-9d89-0c96cf4bb29e button.colab-df-convert');\n",
              "        buttonEl.style.display =\n",
              "          google.colab.kernel.accessAllowed ? 'block' : 'none';\n",
              "\n",
              "        async function convertToInteractive(key) {\n",
              "          const element = document.querySelector('#df-9aa1b37b-27dc-40ad-9d89-0c96cf4bb29e');\n",
              "          const dataTable =\n",
              "            await google.colab.kernel.invokeFunction('convertToInteractive',\n",
              "                                                     [key], {});\n",
              "          if (!dataTable) return;\n",
              "\n",
              "          const docLinkHtml = 'Like what you see? Visit the ' +\n",
              "            '<a target=\"_blank\" href=https://colab.research.google.com/notebooks/data_table.ipynb>data table notebook</a>'\n",
              "            + ' to learn more about interactive tables.';\n",
              "          element.innerHTML = '';\n",
              "          dataTable['output_type'] = 'display_data';\n",
              "          await google.colab.output.renderOutput(dataTable, element);\n",
              "          const docLink = document.createElement('div');\n",
              "          docLink.innerHTML = docLinkHtml;\n",
              "          element.appendChild(docLink);\n",
              "        }\n",
              "      </script>\n",
              "    </div>\n",
              "  </div>\n",
              "  "
            ]
          },
          "metadata": {},
          "execution_count": 6
        }
      ]
    },
    {
      "cell_type": "markdown",
      "source": [
        "**We can see that**,\n",
        "* The Train Data consists information of 891 Passengers, in\n",
        "the form of 891 rows & 12 columns also with target column 'Survived' - survival status *( 0 'dead' / 1 'alive' )*.  \n",
        "`train_df.columns` ->  \n",
        "`Index(['PassengerId', 'Survived', 'Pclass', 'Name', 'Sex', 'Age', 'SibSp','Parch', 'Ticket', 'Fare', 'Cabin', 'Embarked'],dtype='object')`\n",
        "* And the Test Data of 418 passengers, with 418 rows and 11 columns.  \n",
        "`test_df.columns` ->  \n",
        "`Index(['PassengerId', 'Pclass', 'Name', 'Sex', 'Age', 'SibSp', 'Parch','Ticket', 'Fare', 'Cabin', 'Embarked'], dtype='object')`  \n",
        "\n",
        "\n",
        "\n",
        "\n",
        "\n",
        "\n",
        "\n"
      ],
      "metadata": {
        "id": "_lDG9eHtcoMu"
      }
    },
    {
      "cell_type": "markdown",
      "source": [
        "## **Univariate Analysis:**\n",
        "for each feature/column in the given Dataset.\n"
      ],
      "metadata": {
        "id": "pHZpeTDXhMOA"
      }
    },
    {
      "cell_type": "markdown",
      "source": [
        "##Pclass\n",
        "This represents a number for socio economic status of the passengers, unique values of column are,  \n",
        "*1 (Upper-class), 2 (Middle-class), 3 (Lower-class).*"
      ],
      "metadata": {
        "id": "GKNalNK8ihuj"
      }
    },
    {
      "cell_type": "code",
      "source": [
        "#Plot for distribution of each Pclass in train data.\n",
        "sns.countplot(x='Pclass', data=train_df)"
      ],
      "metadata": {
        "colab": {
          "base_uri": "https://localhost:8080/",
          "height": 296
        },
        "id": "Bf24Ej9zihC-",
        "outputId": "72fcfc93-482d-4fea-e73c-c55fcc82e605"
      },
      "execution_count": 7,
      "outputs": [
        {
          "output_type": "execute_result",
          "data": {
            "text/plain": [
              "<matplotlib.axes._subplots.AxesSubplot at 0x7eff465e1390>"
            ]
          },
          "metadata": {},
          "execution_count": 7
        },
        {
          "output_type": "display_data",
          "data": {
            "text/plain": [
              "<Figure size 432x288 with 1 Axes>"
            ],
            "image/png": "[encoded data removed]"
          },
          "metadata": {
            "needs_background": "light"
          }
        }
      ]
    },
    {
      "cell_type": "code",
      "source": [
        "#Plot to check the survival rate of passenger of each Pclass.\n",
        "sns.countplot(x='Pclass', hue='Survived', data=train_df)"
      ],
      "metadata": {
        "colab": {
          "base_uri": "https://localhost:8080/",
          "height": 296
        },
        "id": "at-_5BrHi8oa",
        "outputId": "7464a376-9510-4dd9-cb14-5484c71e6fde"
      },
      "execution_count": 8,
      "outputs": [
        {
          "output_type": "execute_result",
          "data": {
            "text/plain": [
              "<matplotlib.axes._subplots.AxesSubplot at 0x7eff4654c690>"
            ]
          },
          "metadata": {},
          "execution_count": 8
        },
        {
          "output_type": "display_data",
          "data": {
            "text/plain": [
              "<Figure size 432x288 with 1 Axes>"
            ],
            "image/png": "[encoded data removed]"
          },
          "metadata": {
            "needs_background": "light"
          }
        }
      ]
    },
    {
      "cell_type": "code",
      "source": [
        "Pclass1=sum(train_df['Pclass']==1)\n",
        "Pclass2=sum(train_df['Pclass']==2)\n",
        "Pclass3=sum(train_df['Pclass']==3)\n",
        "total=819\n",
        "print('The percentage of passenger in Pclass 1 ->', round(((Pclass1/total)*100)),'%')\n",
        "print('The percentage of passenger in Pclass 2 ->', round(((Pclass2/total)*100)),'%')\n",
        "print('The percentage of passenger in Pclass 3 ->', round(((Pclass3/total)*100)),'%')"
      ],
      "metadata": {
        "colab": {
          "base_uri": "https://localhost:8080/"
        },
        "id": "U6XqbGrswZZX",
        "outputId": "08893e83-a421-429b-b474-931f0dd8fdb0"
      },
      "execution_count": 9,
      "outputs": [
        {
          "output_type": "stream",
          "name": "stdout",
          "text": [
            "The percentage of passenger in Pclass 1 -> 26 %\n",
            "The percentage of passenger in Pclass 2 -> 22 %\n",
            "The percentage of passenger in Pclass 3 -> 60 %\n"
          ]
        }
      ]
    },
    {
      "cell_type": "code",
      "source": [
        "#No Null values in Pclass Data Column.\n",
        "sum(train_df['Pclass'].isnull())"
      ],
      "metadata": {
        "colab": {
          "base_uri": "https://localhost:8080/"
        },
        "id": "kNpaEfAreWHF",
        "outputId": "77745503-ff42-40c0-ea8d-263908616aad"
      },
      "execution_count": 10,
      "outputs": [
        {
          "output_type": "execute_result",
          "data": {
            "text/plain": [
              "0"
            ]
          },
          "metadata": {},
          "execution_count": 10
        }
      ]
    },
    {
      "cell_type": "markdown",
      "source": [
        "**Observations on Pclass:**\n",
        "* From the analysis of Pclass on survival status, it can be clearly seen that the passengers of Pclass=3 are more likely to die in a ship wrek.\n",
        "* But also the number of passenger are more in the Pclass=3 than compared to any other class."
      ],
      "metadata": {
        "id": "S1GCv_TIkV14"
      }
    },
    {
      "cell_type": "markdown",
      "source": [
        "##Name\n",
        "This represents the name of each passenger on the ship."
      ],
      "metadata": {
        "id": "SS-pYoT8kVsA"
      }
    },
    {
      "cell_type": "code",
      "source": [
        "#Peak into this data column.\n",
        "train_df['Name']"
      ],
      "metadata": {
        "colab": {
          "base_uri": "https://localhost:8080/"
        },
        "id": "usvCMJ4dzYE3",
        "outputId": "310cfdde-c369-4aea-bf99-a13329b2d07b"
      },
      "execution_count": 11,
      "outputs": [
        {
          "output_type": "execute_result",
          "data": {
            "text/plain": [
              "0                                Braund, Mr. Owen Harris\n",
              "1      Cumings, Mrs. John Bradley (Florence Briggs Th...\n",
              "2                                 Heikkinen, Miss. Laina\n",
              "3           Futrelle, Mrs. Jacques Heath (Lily May Peel)\n",
              "4                               Allen, Mr. William Henry\n",
              "                             ...                        \n",
              "886                                Montvila, Rev. Juozas\n",
              "887                         Graham, Miss. Margaret Edith\n",
              "888             Johnston, Miss. Catherine Helen \"Carrie\"\n",
              "889                                Behr, Mr. Karl Howell\n",
              "890                                  Dooley, Mr. Patrick\n",
              "Name: Name, Length: 891, dtype: object"
            ]
          },
          "metadata": {},
          "execution_count": 11
        }
      ]
    },
    {
      "cell_type": "code",
      "source": [
        "#There are no null values in this column.\n",
        "sum(train_df['Name'].isnull())"
      ],
      "metadata": {
        "colab": {
          "base_uri": "https://localhost:8080/"
        },
        "id": "YKQNniEokSU_",
        "outputId": "8bad58fd-4de6-4f05-b440-d8989d1c39e9"
      },
      "execution_count": 12,
      "outputs": [
        {
          "output_type": "execute_result",
          "data": {
            "text/plain": [
              "0"
            ]
          },
          "metadata": {},
          "execution_count": 12
        }
      ]
    },
    {
      "cell_type": "markdown",
      "source": [
        "##Sex\n",
        "Represents the Gender of the passenger."
      ],
      "metadata": {
        "id": "TRfBLgIgzpfB"
      }
    },
    {
      "cell_type": "code",
      "source": [
        "#No Null values in Sex data column.\n",
        "sum(train_df['Sex'].isnull())"
      ],
      "metadata": {
        "colab": {
          "base_uri": "https://localhost:8080/"
        },
        "id": "gfaO4yWT2WIq",
        "outputId": "a489ce01-ae52-4962-ad65-1c32ada1a862"
      },
      "execution_count": 13,
      "outputs": [
        {
          "output_type": "execute_result",
          "data": {
            "text/plain": [
              "0"
            ]
          },
          "metadata": {},
          "execution_count": 13
        }
      ]
    },
    {
      "cell_type": "code",
      "source": [
        "#Plot for the distribution of gender throughout the train data. \n",
        "sns.countplot(x='Sex', data=train_df)"
      ],
      "metadata": {
        "colab": {
          "base_uri": "https://localhost:8080/",
          "height": 298
        },
        "id": "ZUl4yQKdzN0U",
        "outputId": "c02bfabd-b45e-4e8f-bccf-81d005fc4292"
      },
      "execution_count": 14,
      "outputs": [
        {
          "output_type": "execute_result",
          "data": {
            "text/plain": [
              "<matplotlib.axes._subplots.AxesSubplot at 0x7eff460660d0>"
            ]
          },
          "metadata": {},
          "execution_count": 14
        },
        {
          "output_type": "display_data",
          "data": {
            "text/plain": [
              "<Figure size 432x288 with 1 Axes>"
            ],
            "image/png": "[encoded data removed]"
          },
          "metadata": {
            "needs_background": "light"
          }
        }
      ]
    },
    {
      "cell_type": "code",
      "source": [
        "#Plot for the survival status of passenger gender wise.\n",
        "sns.countplot(x='Sex', hue='Survived', data=train_df)"
      ],
      "metadata": {
        "colab": {
          "base_uri": "https://localhost:8080/",
          "height": 296
        },
        "id": "XNMl0izh1fCy",
        "outputId": "fe6ce13b-8875-413b-b34b-a7121257d968"
      },
      "execution_count": 15,
      "outputs": [
        {
          "output_type": "execute_result",
          "data": {
            "text/plain": [
              "<matplotlib.axes._subplots.AxesSubplot at 0x7eff45fe2710>"
            ]
          },
          "metadata": {},
          "execution_count": 15
        },
        {
          "output_type": "display_data",
          "data": {
            "text/plain": [
              "<Figure size 432x288 with 1 Axes>"
            ],
            "image/png": "[encoded data removed]"
          },
          "metadata": {
            "needs_background": "light"
          }
        }
      ]
    },
    {
      "cell_type": "code",
      "source": [
        "#Survival rate of passenger for Male & Female.\n",
        "Male_1=sum(sum([(train_df['Sex']=='male') & (train_df['Survived']==1)]))\n",
        "Female_1=sum(sum([(train_df['Sex']=='female') & (train_df['Survived']==1)]))\n",
        "total_male=sum(train_df['Sex']=='male')\n",
        "total_female=sum(train_df['Sex']=='female')\n",
        "\n",
        "male1_rate=(Male_1/total_male)*100\n",
        "female1_rate=(Female_1/total_female)*100\n",
        "\n",
        "print('Survival rate of Male', round(male1_rate),'%')\n",
        "print('Survival rate of Female', round(female1_rate),'%')"
      ],
      "metadata": {
        "colab": {
          "base_uri": "https://localhost:8080/"
        },
        "id": "Sng81m-61sPJ",
        "outputId": "9449c240-dffd-4839-bd1c-21c266b7a5a7"
      },
      "execution_count": 16,
      "outputs": [
        {
          "output_type": "stream",
          "name": "stdout",
          "text": [
            "Survival rate of Male 19 %\n",
            "Survival rate of Female 74 %\n"
          ]
        }
      ]
    },
    {
      "cell_type": "markdown",
      "source": [
        "**Observation on Sex:**  \n",
        "* It is clearly seen that survival chances of females were much greater *(74%)* as compared to men *(19%)*.\n",
        "* Despite of that the number of male passengers were *577* and the female passengers were *314*."
      ],
      "metadata": {
        "id": "9Ff4Xa2f5jtG"
      }
    },
    {
      "cell_type": "markdown",
      "source": [
        "##Age:  \n",
        "This represents the age of passengers."
      ],
      "metadata": {
        "id": "Ubllq7d_6rYw"
      }
    },
    {
      "cell_type": "code",
      "source": [
        "#Null values in the Age column of data.\n",
        "sum(train_df['Age'].isnull())"
      ],
      "metadata": {
        "colab": {
          "base_uri": "https://localhost:8080/"
        },
        "id": "f8WA6A-X7zLZ",
        "outputId": "dbcaf161-3f16-4d17-dfc7-1764a0f06274"
      },
      "execution_count": 17,
      "outputs": [
        {
          "output_type": "execute_result",
          "data": {
            "text/plain": [
              "177"
            ]
          },
          "metadata": {},
          "execution_count": 17
        }
      ]
    },
    {
      "cell_type": "code",
      "source": [
        "#Mean value of Age.\n",
        "mean_age=train_df['Age'].mean()\n",
        "print(mean_age)"
      ],
      "metadata": {
        "colab": {
          "base_uri": "https://localhost:8080/"
        },
        "id": "9A53iHrUe-30",
        "outputId": "f6dff0b2-7b0e-4d17-bbd7-49e8365d7f70"
      },
      "execution_count": 18,
      "outputs": [
        {
          "output_type": "stream",
          "name": "stdout",
          "text": [
            "29.69911764705882\n"
          ]
        }
      ]
    },
    {
      "cell_type": "code",
      "source": [
        "#Replacing all the null values with mean value of Age in the dataset.\n",
        "train_df['Age'].fillna(mean_age,inplace=True)\n",
        "sum(train_df['Age'].isnull()) #Now there are null values in this feature."
      ],
      "metadata": {
        "colab": {
          "base_uri": "https://localhost:8080/"
        },
        "id": "TZtvrf56ey8C",
        "outputId": "e9b72f58-9946-4824-ad94-55ddd521858f"
      },
      "execution_count": 19,
      "outputs": [
        {
          "output_type": "execute_result",
          "data": {
            "text/plain": [
              "0"
            ]
          },
          "metadata": {},
          "execution_count": 19
        }
      ]
    },
    {
      "cell_type": "code",
      "source": [
        "print('The smallest age of passenger on the ship:', train_df['Age'].min())\n",
        "print('The Largets age of passenger on the ship:', train_df['Age'].max())"
      ],
      "metadata": {
        "colab": {
          "base_uri": "https://localhost:8080/"
        },
        "id": "K2Yvdj3N6Y3s",
        "outputId": "c3af82c1-c567-44b2-8070-ea24cf6dd153"
      },
      "execution_count": 20,
      "outputs": [
        {
          "output_type": "stream",
          "name": "stdout",
          "text": [
            "The smallest age of passenger on the ship: 0.42\n",
            "The Largets age of passenger on the ship: 80.0\n"
          ]
        }
      ]
    },
    {
      "cell_type": "code",
      "source": [
        "#Scatter plot to see if the age factor affects the survival of a passenger.\n",
        "sns.scatterplot(data=train_df, x='Age', y='Survived')"
      ],
      "metadata": {
        "colab": {
          "base_uri": "https://localhost:8080/",
          "height": 296
        },
        "id": "Pg4_8VWV7bTO",
        "outputId": "2c9c8d1f-9747-48ba-e8fd-e36ffffaaf26"
      },
      "execution_count": 21,
      "outputs": [
        {
          "output_type": "execute_result",
          "data": {
            "text/plain": [
              "<matplotlib.axes._subplots.AxesSubplot at 0x7eff45f77e50>"
            ]
          },
          "metadata": {},
          "execution_count": 21
        },
        {
          "output_type": "display_data",
          "data": {
            "text/plain": [
              "<Figure size 432x288 with 1 Axes>"
            ],
            "image/png": "[encoded data removed]"
          },
          "metadata": {
            "needs_background": "light"
          }
        }
      ]
    },
    {
      "cell_type": "code",
      "source": [
        "#PDF & CDF Plot of Age:\n",
        "counts, bin_edges=np.histogram(train_df['Age'],bins=10)\n",
        "print('Edge bin values ->',bin_edges)\n",
        "print('No. of counts in each bin ->',counts)\n",
        "plt.figure(figsize=(20,6))\n",
        "pdf = counts/(sum(counts))\n",
        "plt.plot(pdf,label=\"PDF\")\n",
        "cdf=np.cumsum(pdf)\n",
        "plt.plot(cdf,label=\"CDF\")\n",
        "plt.legend()\n",
        "plt.xlabel(\"Age\")\n",
        "plt.title(\"CDF & PDF of Age\")"
      ],
      "metadata": {
        "colab": {
          "base_uri": "https://localhost:8080/",
          "height": 403
        },
        "id": "xbW_roRl7vXZ",
        "outputId": "549915c6-6c8c-498c-99b6-977a4f350a6a"
      },
      "execution_count": 22,
      "outputs": [
        {
          "output_type": "stream",
          "name": "stdout",
          "text": [
            "Edge bin values -> [ 0.42   8.378 16.336 24.294 32.252 40.21  48.168 56.126 64.084 72.042\n",
            " 80.   ]\n",
            "No. of counts in each bin -> [ 54  46 177 346 118  70  45  24   9   2]\n"
          ]
        },
        {
          "output_type": "execute_result",
          "data": {
            "text/plain": [
              "Text(0.5, 1.0, 'CDF & PDF of Age')"
            ]
          },
          "metadata": {},
          "execution_count": 22
        },
        {
          "output_type": "display_data",
          "data": {
            "text/plain": [
              "<Figure size 1440x432 with 1 Axes>"
            ],
            "image/png": "[encoded data removed]"
          },
          "metadata": {
            "needs_background": "light"
          }
        }
      ]
    },
    {
      "cell_type": "markdown",
      "source": [
        "**Observations on Age:**\n",
        "1. The smallest value in Age column Dataset is *0.43*, this fraction value represents the age of passenger less than *1* year old.\n",
        "2. The maximum number of passengers between Age band of *16-30* years.\n",
        "3. There are *177* Null values in Age column dataset, to avoid these null values we are replacing these null values with Mean Age= *29.69* ."
      ],
      "metadata": {
        "id": "2tRjwwFC-RIq"
      }
    },
    {
      "cell_type": "markdown",
      "source": [
        "##SibSp\n",
        "This defines family relations in such a way,  \n",
        "Sibling = brother, sister, step-brother, step-sister.  \n",
        "Spouse= husband, wife (mistresses and fiancés were ignored)."
      ],
      "metadata": {
        "id": "f6BwUphC-iG1"
      }
    },
    {
      "cell_type": "code",
      "source": [
        "#No null values.\n",
        "sum(train_df['SibSp'].isnull())"
      ],
      "metadata": {
        "colab": {
          "base_uri": "https://localhost:8080/"
        },
        "id": "Fw9vuxvC_IWv",
        "outputId": "1bd8b145-e60d-4429-e302-14bad4da033f"
      },
      "execution_count": 23,
      "outputs": [
        {
          "output_type": "execute_result",
          "data": {
            "text/plain": [
              "0"
            ]
          },
          "metadata": {},
          "execution_count": 23
        }
      ]
    },
    {
      "cell_type": "code",
      "source": [
        "#Unique values in SibSp columns.\n",
        "train_df['SibSp'].unique()"
      ],
      "metadata": {
        "colab": {
          "base_uri": "https://localhost:8080/"
        },
        "id": "gZyg06lN_aka",
        "outputId": "a3cf27fc-f6de-40ee-e5a2-9b37a372a518"
      },
      "execution_count": 24,
      "outputs": [
        {
          "output_type": "execute_result",
          "data": {
            "text/plain": [
              "array([1, 0, 3, 4, 2, 5, 8])"
            ]
          },
          "metadata": {},
          "execution_count": 24
        }
      ]
    },
    {
      "cell_type": "code",
      "source": [
        "#Bar Plot no. of counts in SibSp.\n",
        "sns.countplot(x='SibSp', data=train_df)"
      ],
      "metadata": {
        "colab": {
          "base_uri": "https://localhost:8080/",
          "height": 296
        },
        "id": "q5A6vcFh97I6",
        "outputId": "056699f8-5768-49b8-d315-dcfbc69ae58d"
      },
      "execution_count": 25,
      "outputs": [
        {
          "output_type": "execute_result",
          "data": {
            "text/plain": [
              "<matplotlib.axes._subplots.AxesSubplot at 0x7eff45e7a490>"
            ]
          },
          "metadata": {},
          "execution_count": 25
        },
        {
          "output_type": "display_data",
          "data": {
            "text/plain": [
              "<Figure size 432x288 with 1 Axes>"
            ],
            "image/png": "[encoded data removed]"
          },
          "metadata": {
            "needs_background": "light"
          }
        }
      ]
    },
    {
      "cell_type": "code",
      "source": [
        "#Survival with unique values in SibSp.\n",
        "sns.countplot(x='SibSp', hue='Survived', data=train_df)"
      ],
      "metadata": {
        "colab": {
          "base_uri": "https://localhost:8080/",
          "height": 296
        },
        "id": "gw7NCYVQ_HPL",
        "outputId": "7db1932c-c8ee-4aa3-e616-f9ec35592cb1"
      },
      "execution_count": 26,
      "outputs": [
        {
          "output_type": "execute_result",
          "data": {
            "text/plain": [
              "<matplotlib.axes._subplots.AxesSubplot at 0x7eff45dee5d0>"
            ]
          },
          "metadata": {},
          "execution_count": 26
        },
        {
          "output_type": "display_data",
          "data": {
            "text/plain": [
              "<Figure size 432x288 with 1 Axes>"
            ],
            "image/png": "[encoded data removed]"
          },
          "metadata": {
            "needs_background": "light"
          }
        }
      ]
    },
    {
      "cell_type": "markdown",
      "source": [
        "**Observation on SibSp:**  \n",
        "1. We can easily conclude that the number of passengers on the Ship are alone with No Sibling/ Spouse .\n",
        "2. And value of SibSp > *4*, has no survival chances."
      ],
      "metadata": {
        "id": "ZYALnuyQ_rqY"
      }
    },
    {
      "cell_type": "markdown",
      "source": [
        "##Parch\n",
        "The dataset defines family relations in this way,  \n",
        "Parent = mother, father.  \n",
        "Child = daughter, son, stepdaughter, stepson.  \n",
        "Some children travelled only with a nanny, therefore parch=0 for them."
      ],
      "metadata": {
        "id": "_GOFwRIk_x5J"
      }
    },
    {
      "cell_type": "code",
      "source": [
        "#No Null values inPArch Dataset\n",
        "sum(train_df['Parch'].isnull())"
      ],
      "metadata": {
        "colab": {
          "base_uri": "https://localhost:8080/"
        },
        "id": "qwF5YKITAOl-",
        "outputId": "3d78f44e-011e-44ab-b4a7-0910f508924c"
      },
      "execution_count": 27,
      "outputs": [
        {
          "output_type": "execute_result",
          "data": {
            "text/plain": [
              "0"
            ]
          },
          "metadata": {},
          "execution_count": 27
        }
      ]
    },
    {
      "cell_type": "code",
      "source": [
        "#Taking insights of Parch Dataset through bar plot.\n",
        "sns.countplot(x='Parch', hue='Survived', data=train_df)"
      ],
      "metadata": {
        "colab": {
          "base_uri": "https://localhost:8080/",
          "height": 296
        },
        "id": "y5BdyYd-_qPp",
        "outputId": "1eb6a3d5-7abe-4c23-9c9d-5dd65316426c"
      },
      "execution_count": 28,
      "outputs": [
        {
          "output_type": "execute_result",
          "data": {
            "text/plain": [
              "<matplotlib.axes._subplots.AxesSubplot at 0x7eff45d63c50>"
            ]
          },
          "metadata": {},
          "execution_count": 28
        },
        {
          "output_type": "display_data",
          "data": {
            "text/plain": [
              "<Figure size 432x288 with 1 Axes>"
            ],
            "image/png": "[encoded data removed]"
          },
          "metadata": {
            "needs_background": "light"
          }
        }
      ]
    },
    {
      "cell_type": "markdown",
      "source": [
        "##Ticket "
      ],
      "metadata": {
        "id": "KEhbB2BEAb4H"
      }
    },
    {
      "cell_type": "code",
      "source": [
        "#NO null values in Ticket column.\n",
        "sum(train_df['Ticket'].isnull())"
      ],
      "metadata": {
        "colab": {
          "base_uri": "https://localhost:8080/"
        },
        "id": "AiInmdpUAWJN",
        "outputId": "a679c708-e116-4b03-8b09-ff89906c1e31"
      },
      "execution_count": 29,
      "outputs": [
        {
          "output_type": "execute_result",
          "data": {
            "text/plain": [
              "0"
            ]
          },
          "metadata": {},
          "execution_count": 29
        }
      ]
    },
    {
      "cell_type": "code",
      "source": [
        "#Scatter plot of tickets with survival status.\n",
        "sns.scatterplot(data=train_df, x='Survived', y='Ticket')"
      ],
      "metadata": {
        "colab": {
          "base_uri": "https://localhost:8080/",
          "height": 296
        },
        "id": "cZ-6lS5YAL5w",
        "outputId": "45952f93-dd6f-4fa2-a28e-c900faf3ec6a"
      },
      "execution_count": 30,
      "outputs": [
        {
          "output_type": "execute_result",
          "data": {
            "text/plain": [
              "<matplotlib.axes._subplots.AxesSubplot at 0x7eff45c91890>"
            ]
          },
          "metadata": {},
          "execution_count": 30
        },
        {
          "output_type": "display_data",
          "data": {
            "text/plain": [
              "<Figure size 432x288 with 1 Axes>"
            ],
            "image/png": "[encoded data removed]"
          },
          "metadata": {
            "needs_background": "light"
          }
        }
      ]
    },
    {
      "cell_type": "markdown",
      "source": [
        "**Observation on Ticket:**  \n",
        "There are no null values in Ticket Dataset, but upon analysis it can be seen that it will add no value in classification of Survival status."
      ],
      "metadata": {
        "id": "2QqrHmrdHlod"
      }
    },
    {
      "cell_type": "markdown",
      "source": [
        "##Fare\n",
        "Ticket Fare for each passenger."
      ],
      "metadata": {
        "id": "_-Sup_93Hrb6"
      }
    },
    {
      "cell_type": "code",
      "source": [
        "#No null values in Fare column.\n",
        "sum(train_df['Fare'].isnull())"
      ],
      "metadata": {
        "colab": {
          "base_uri": "https://localhost:8080/"
        },
        "id": "dZGZjGjzA9Ck",
        "outputId": "5de46b3f-9d8d-41c7-d20a-a31a98e42cd8"
      },
      "execution_count": 31,
      "outputs": [
        {
          "output_type": "execute_result",
          "data": {
            "text/plain": [
              "0"
            ]
          },
          "metadata": {},
          "execution_count": 31
        }
      ]
    },
    {
      "cell_type": "code",
      "source": [
        "#Bar Plot for the number of passengers in fare bins.\n",
        "counts, bin_edges=np.histogram(train_df['Fare'],bins=10)\n",
        "plt.bar(['51.2','102.5','153.7','205','256','307.4','358.6','410','461','512.3'], counts)\n",
        "plt.xlabel(\"Fare\")\n",
        "plt.ylabel(\"Passenger count\")\n",
        "print(counts)\n",
        "print(bin_edges)"
      ],
      "metadata": {
        "colab": {
          "base_uri": "https://localhost:8080/",
          "height": 331
        },
        "id": "bHXzEEryH8tS",
        "outputId": "8bdb450a-7b02-42b7-c3f4-1571e8cc0003"
      },
      "execution_count": 32,
      "outputs": [
        {
          "output_type": "stream",
          "name": "stdout",
          "text": [
            "[732 106  31   2  11   6   0   0   0   3]\n",
            "[  0.       51.23292 102.46584 153.69876 204.93168 256.1646  307.39752\n",
            " 358.63044 409.86336 461.09628 512.3292 ]\n"
          ]
        },
        {
          "output_type": "display_data",
          "data": {
            "text/plain": [
              "<Figure size 432x288 with 1 Axes>"
            ],
            "image/png": "[encoded data removed]"
          },
          "metadata": {
            "needs_background": "light"
          }
        }
      ]
    },
    {
      "cell_type": "code",
      "source": [
        "#As the number of passengers are very high in (0-51.2) bin as compared to other bins.\n",
        "#Thus taking a closer look into first bar bin. \n",
        "Fare=train_df[train_df['Fare']<=51]\n",
        "counts, bin_edges=np.histogram(Fare['Fare'],bins=5)\n",
        "plt.bar(['1','2','3','4','5'], counts)\n",
        "plt.xlabel(\"Fare\")\n",
        "plt.ylabel(\"Passenger count\")\n",
        "print(counts)\n",
        "print(bin_edges)"
      ],
      "metadata": {
        "colab": {
          "base_uri": "https://localhost:8080/",
          "height": 317
        },
        "id": "motNrfrYIElX",
        "outputId": "7abe5432-2370-402a-a08f-e4c8af5c8ffd"
      },
      "execution_count": 33,
      "outputs": [
        {
          "output_type": "stream",
          "name": "stdout",
          "text": [
            "[336 179 144  57  16]\n",
            "[ 0.      10.09916 20.19832 30.29748 40.39664 50.4958 ]\n"
          ]
        },
        {
          "output_type": "display_data",
          "data": {
            "text/plain": [
              "<Figure size 432x288 with 1 Axes>"
            ],
            "image/png": "[encoded data removed]"
          },
          "metadata": {
            "needs_background": "light"
          }
        }
      ]
    },
    {
      "cell_type": "markdown",
      "source": [
        "**Observation on Fare:**  \n",
        "1. The number of passengers with fare < *51.2*, are maximum.\n",
        "2. These passengers with different fare can be further categorized into cheap, economy and premimum fare classes."
      ],
      "metadata": {
        "id": "ijkSxvzAIK0u"
      }
    },
    {
      "cell_type": "markdown",
      "source": [
        "##Cabin  \n",
        "It consists of the Cabin Name where the passenger in staying."
      ],
      "metadata": {
        "id": "OOY3sCh-ITIx"
      }
    },
    {
      "cell_type": "code",
      "source": [
        "#Null values in Cabin column.\n",
        "sum(train_df['Cabin'].isnull())"
      ],
      "metadata": {
        "colab": {
          "base_uri": "https://localhost:8080/"
        },
        "id": "jfkhdiugIH0A",
        "outputId": "1b783715-9f39-41a2-c4a8-9d2704ee70cb"
      },
      "execution_count": 34,
      "outputs": [
        {
          "output_type": "execute_result",
          "data": {
            "text/plain": [
              "687"
            ]
          },
          "metadata": {},
          "execution_count": 34
        }
      ]
    },
    {
      "cell_type": "markdown",
      "source": [
        "**Observation on Cabin:**  \n",
        "1. As the *77%* of Data missing is from the Cabin column, we cannot use this further in our model as feature.\n",
        "2. Because the data makes no sense in adding value for survival status model."
      ],
      "metadata": {
        "id": "scnhr4PJKAdY"
      }
    },
    {
      "cell_type": "markdown",
      "source": [
        "##Embarked  \n",
        "It denotes the city/place from where the passenger has boarded the\n",
        "ship.  \n",
        "There are three unique values in this columns,  \n",
        "*( S: Southampton, C: Cherbourg, Q:Queenstown)*."
      ],
      "metadata": {
        "id": "SR29ovzKI5zQ"
      }
    },
    {
      "cell_type": "code",
      "source": [
        "#Null values in Embarked column.\n",
        "sum(train_df['Embarked'].isnull())"
      ],
      "metadata": {
        "colab": {
          "base_uri": "https://localhost:8080/"
        },
        "id": "Js5mtR0CI3-m",
        "outputId": "93b9595f-565a-4e59-9365-700a85c4aa0b"
      },
      "execution_count": 35,
      "outputs": [
        {
          "output_type": "execute_result",
          "data": {
            "text/plain": [
              "2"
            ]
          },
          "metadata": {},
          "execution_count": 35
        }
      ]
    },
    {
      "cell_type": "code",
      "source": [
        "#As there are more number of passengers embarking from S as compared to other location.\n",
        "#Replacing the null value with Embark 'S'.\n",
        "train_df['Embarked'].fillna('S', inplace=True)\n",
        "sum(train_df['Embarked'].isnull()) #Checking if there are still any null values."
      ],
      "metadata": {
        "colab": {
          "base_uri": "https://localhost:8080/"
        },
        "id": "X1ACGibgf-IM",
        "outputId": "420b1dc8-f78d-4897-c7f5-329cf001c40c"
      },
      "execution_count": 36,
      "outputs": [
        {
          "output_type": "execute_result",
          "data": {
            "text/plain": [
              "0"
            ]
          },
          "metadata": {},
          "execution_count": 36
        }
      ]
    },
    {
      "cell_type": "code",
      "source": [
        "#Count plot for survival status of passenger boarding different locations.\n",
        "sns.countplot(x='Embarked',hue='Survived', data=train_df)"
      ],
      "metadata": {
        "colab": {
          "base_uri": "https://localhost:8080/",
          "height": 296
        },
        "id": "sCRE9H6tJNoG",
        "outputId": "e6d2b50b-3443-4d56-fead-98ff1baff0f4"
      },
      "execution_count": 37,
      "outputs": [
        {
          "output_type": "execute_result",
          "data": {
            "text/plain": [
              "<matplotlib.axes._subplots.AxesSubplot at 0x7eff4534e1d0>"
            ]
          },
          "metadata": {},
          "execution_count": 37
        },
        {
          "output_type": "display_data",
          "data": {
            "text/plain": [
              "<Figure size 432x288 with 1 Axes>"
            ],
            "image/png": "[encoded data removed]"
          },
          "metadata": {
            "needs_background": "light"
          }
        }
      ]
    },
    {
      "cell_type": "code",
      "source": [
        "print('Number of passengers boarded ship from location Southampton:', sum(train_df['Embarked']=='S'))\n",
        "print('Number of passengers boarded ship from location Cherboug:', sum(train_df['Embarked']=='C'))\n",
        "print('Number of passengers boarded ship from location Queenstown:', sum(train_df['Embarked']=='Q'))\n"
      ],
      "metadata": {
        "colab": {
          "base_uri": "https://localhost:8080/"
        },
        "id": "Zq3tyErdJYiv",
        "outputId": "45906f55-7ae1-4ab5-ec87-61d7bfa44578"
      },
      "execution_count": 38,
      "outputs": [
        {
          "output_type": "stream",
          "name": "stdout",
          "text": [
            "Number of passengers boarded ship from location Southampton: 646\n",
            "Number of passengers boarded ship from location Cherboug: 168\n",
            "Number of passengers boarded ship from location Queenstown: 77\n"
          ]
        }
      ]
    },
    {
      "cell_type": "markdown",
      "source": [
        "##**Splitting Dataset into Train, CV & Test:**"
      ],
      "metadata": {
        "id": "JG9lKVN9k9cj"
      }
    },
    {
      "cell_type": "code",
      "source": [
        "y = train_df['Survived'].values\n",
        "x = train_df.drop(['Survived'], axis=1)\n",
        "print(\"Shape of y - \",y.shape)\n",
        "print(\"Shape of x - \",x.shape)"
      ],
      "metadata": {
        "colab": {
          "base_uri": "https://localhost:8080/"
        },
        "id": "4PX-Qr0BrP_M",
        "outputId": "e0d8c882-85e5-42cf-fa72-fd2d9e53f2e1"
      },
      "execution_count": 39,
      "outputs": [
        {
          "output_type": "stream",
          "name": "stdout",
          "text": [
            "Shape of y -  (891,)\n",
            "Shape of x -  (891, 11)\n"
          ]
        }
      ]
    },
    {
      "cell_type": "code",
      "source": [
        "# train test split\n",
        "from sklearn.model_selection import train_test_split\n",
        "X_train, X_test, y_train, y_test = train_test_split(x, y, test_size=0.2, stratify=y)\n",
        "X_train, X_cv, y_train, y_cv = train_test_split(X_train, y_train, test_size=0.2, stratify=y_train)"
      ],
      "metadata": {
        "id": "SH9vfFt0lLEE"
      },
      "execution_count": 40,
      "outputs": []
    },
    {
      "cell_type": "code",
      "source": [
        "print('train ->')\n",
        "print('x shape:', X_train.shape)\n",
        "print('y shape:', y_train.shape)\n",
        "print('*'*50)\n",
        "print('cv ->')\n",
        "print('x shape:', X_cv.shape)\n",
        "print('y shape:', y_cv.shape)\n",
        "print('*'*50)\n",
        "print('test ->')\n",
        "print('x shape:', X_test.shape)\n",
        "print('y shape:', y_test.shape)"
      ],
      "metadata": {
        "colab": {
          "base_uri": "https://localhost:8080/"
        },
        "id": "sTqhTtxXrw31",
        "outputId": "459b081d-b05f-475c-b058-7960675f224f"
      },
      "execution_count": 41,
      "outputs": [
        {
          "output_type": "stream",
          "name": "stdout",
          "text": [
            "train ->\n",
            "x shape: (569, 11)\n",
            "y shape: (569,)\n",
            "**************************************************\n",
            "cv ->\n",
            "x shape: (143, 11)\n",
            "y shape: (143,)\n",
            "**************************************************\n",
            "test ->\n",
            "x shape: (179, 11)\n",
            "y shape: (179,)\n"
          ]
        }
      ]
    },
    {
      "cell_type": "markdown",
      "source": [
        "## **Feature Extraction/ Engineering:**"
      ],
      "metadata": {
        "id": "ExyunADTKbPV"
      }
    },
    {
      "cell_type": "markdown",
      "source": [
        "***Function for converting 'Categorical features' to 'OneHot Encoding features'  ->***"
      ],
      "metadata": {
        "id": "lI-9xOBnKxhk"
      }
    },
    {
      "cell_type": "code",
      "source": [
        "def OneHot_feature(df, feature):\n",
        "  encoder = OneHotEncoder(sparse=False)\n",
        "  data=pd.DataFrame(df[feature])\n",
        "  onehot = encoder.fit_transform(data)\n",
        "  out=pd.DataFrame(onehot)\n",
        "  output=out.astype(int)\n",
        "  encoder.get_feature_names_out()\n",
        "  output.columns=encoder.get_feature_names_out()\n",
        "  return output"
      ],
      "metadata": {
        "id": "PiYn1VyCKwgb"
      },
      "execution_count": 42,
      "outputs": []
    },
    {
      "cell_type": "markdown",
      "source": [
        "***OneHot features of Pclass, SibSp, Parch ->***  \n",
        "1. There are no null values in these features *(Pclass/ SibSp/ Parch)*.  \n",
        "2. These features are already in the form numerical value and can be used as Ordinal code, but as the feature has no purpose to be represent in the form of Ordinal code.  \n",
        "3. Thus we convert these features to OneHot Encoding. "
      ],
      "metadata": {
        "id": "4Ee0IM2WLbls"
      }
    },
    {
      "cell_type": "code",
      "source": [
        "#Pclass, SibSp, Parch.\n",
        "train_Pclass=OneHot_feature(X_train, 'Pclass')\n",
        "cv_Pclass=OneHot_feature(X_cv, 'Pclass')\n",
        "test_Pclass=OneHot_feature(X_test, 'Pclass')\n",
        "\n",
        "train_SibSp=OneHot_feature(X_train, 'SibSp')\n",
        "cv_SibSp=OneHot_feature(X_cv, 'SibSp')\n",
        "test_SibSp=OneHot_feature(X_test, 'SibSp')\n",
        "\n",
        "train_Parch=OneHot_feature(X_train, 'Parch')\n",
        "cv_Parch=OneHot_feature(X_cv, 'Parch')\n",
        "test_Parch=OneHot_feature(X_test, 'Parch')"
      ],
      "metadata": {
        "id": "rI-kf-M2KJZ8"
      },
      "execution_count": 43,
      "outputs": []
    },
    {
      "cell_type": "code",
      "source": [
        "print('train_Pclass shape ->', train_Pclass.shape)\n",
        "print('cv_Pclass shape ->', cv_Pclass.shape)\n",
        "print('test_Pclass shape ->', test_Pclass.shape)\n",
        "print()\n",
        "print('train_SibSp shape ->', train_SibSp.shape)\n",
        "print('cv_SibSp shape ->', cv_SibSp.shape)\n",
        "print('test_SibSp shape ->', test_SibSp.shape)\n",
        "print()\n",
        "print('train_Parch shape ->', train_Parch.shape)\n",
        "print('cv_Parch shape ->', cv_Parch.shape)\n",
        "print('test_Parch shape ->', test_Parch.shape)"
      ],
      "metadata": {
        "colab": {
          "base_uri": "https://localhost:8080/"
        },
        "id": "ERHHXzYVMsUa",
        "outputId": "9e0ee437-39ac-4827-c0cd-eeace652fd0e"
      },
      "execution_count": 44,
      "outputs": [
        {
          "output_type": "stream",
          "name": "stdout",
          "text": [
            "train_Pclass shape -> (569, 3)\n",
            "cv_Pclass shape -> (143, 3)\n",
            "test_Pclass shape -> (179, 3)\n",
            "\n",
            "train_SibSp shape -> (569, 7)\n",
            "cv_SibSp shape -> (143, 5)\n",
            "test_SibSp shape -> (179, 7)\n",
            "\n",
            "train_Parch shape -> (569, 6)\n",
            "cv_Parch shape -> (143, 5)\n",
            "test_Parch shape -> (179, 6)\n"
          ]
        }
      ]
    },
    {
      "cell_type": "code",
      "source": [
        "type(train_Pclass)"
      ],
      "metadata": {
        "colab": {
          "base_uri": "https://localhost:8080/"
        },
        "id": "7J9dngcUVSZd",
        "outputId": "0e74df8f-4f42-423f-b711-4fcebf556a2e"
      },
      "execution_count": 45,
      "outputs": [
        {
          "output_type": "execute_result",
          "data": {
            "text/plain": [
              "pandas.core.frame.DataFrame"
            ]
          },
          "metadata": {},
          "execution_count": 45
        }
      ]
    },
    {
      "cell_type": "markdown",
      "source": [
        "***Featurization on Name ->***  \n",
        "1. Name feature consists of the names of passengers on the ship, there are no null values in the Name column dataset.  \n",
        "![Screenshot (370).png](data:image/png;base64,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)\n",
        "2. Now we will Extract titles from each name, and from a New feature with only four titles =['Mr', 'Mrs', 'Miss', 'Rare'], all the other titles except from    ['Mr', 'Mrs', 'Miss'] are replaced with 'Rare' as title.\n",
        "![Screenshot (371).png](data:image/png;base64,iVBORw0KGgoAAAANSUhEUgAAAjsAAAEyCAYAAAAcMREOAAAAAXNSR0IArs4c6QAAAARnQU1BAACxjwv8YQUAAAAJcEhZcwAADsQAAA7EAZUrDhsAADDESURBVHhe7d2rfuLcGsfx5933gKuZopAoXHoDceCnuHGo4jCDY1RdXfADLjfQOMwgUUFVDRfRvU45UQg9UZLM77s/2W9LOpAT5J9nLbL+e1YEAACgof7n/gsAANBIhB0AANBohB0AANBohB0AANBohB0AANBohB0AANBohB0AANBohB0AANBojQ476+m1XF/fymLnHniVtUyv9b97z78FAABVU9+ws1vI7fVURZP30UHo9mCS6cpku5XtdilD9wgAAKivRld2uhMdWuYyaLkHAADAP6eGYcc1M/XGEkkg/UNNTqbqkzxerP7sFrfm8X4gEo177m/UNH19jSh5jkPPDwAAqqW+A4HqQNPbyGg7ka576IWSv9HNWPedlcyPln10qLqXzmqvMrSeynVfZOmeUwefXujLaj4QCkgAAFQP38Z6o3UYyHCZhafWYCTDKJRHOjIDAFBJhJ032UkciwT9pAlLT30J3FwAAFA9hJ13GC51x+f8RCdoAACqqr5hp9WWtgQSvrN38FXHkyh8lLe1PrXkxvck6NMpGQCAuqhvB2XNdBZOGpE8mbnOxKbT8DhyjyeGaadiayeL256kfzZcynai5haeM5E9t/bi+b0ZHZQBAKioeocdAACAE+izAwAAGo2wAwAAGo2wAwAAGo2wAwAAGo2wAwAAGo2wAwAAGo2wAwAAGo2wAwAAGu1E2NF3Gc4NejltwCAJu4XcqnW5XWQDRaynev0YAgIAgCYqDTvraU/G7aUb7HIpw6BfCAm19LSRyPNENk/ugbWEsSfqEQAA0EDHw85uIfeBJ7MfyWhSXfkxe8/gmRXU9sWPQ1vJWYcio5G0JZZYr5ip/Ogqz1qmSUXrdlH/dQYA4B91POyYCogvN8noluupHfwy2khSE6mvttz4sRkxXWcdPxsd1Amkf30vnZWraEVjeaCNCwCAWjrdQdn1cbnuiyz1iT+pgNTULo7Nf1s3vsThVELxcyOhZ4bLZJTzrvhDkbjOKw0AwD+sPOxEY+n1NjIyfXYm0t2poCNtaSfVnjpr3YgfB66scyWdQqedYaHa051sZW6TDwAAqJnjYeeqI7rb7mylQo57yDZtdVQ0qDevo9egJYP5VibpykVZn2UAANAYx8OOrnx4kYzvks65O1ncB+L5Nyom/OuSr+TfSt2/nAYAQNOVNGPpysdKZjKWnvlWUk9Cf1X75pynTeR+AgAA/4L/nhX3MwAAQOOc/jYWAABAjRF2AABAoxF2AABAoxF2AABAoxF2AABAoxF2AABAoxF2AABAo70i7Kxlqm8qeJvcSbnq3N2N88u7nsq1WocpI5cDAPDPKQ87JiSE0pkVRsmsuCfZRHpUr436yVqHsXh1WgUAAPBpSsLOWqb3HVltJ3LjHqmPtvh+LKGp5KwllJGM2iJxbGs96+m13C52slvcmorPi6qPqwQlk/5bAABQTyVhpyuT+aC2g362b3yJddpZhyJ+OrR5Khr3pLcZyXa7ldXMk+A+afZSIa8fy2y1NfP0VPfxwAAA+Jc1r4PyLpZY/1eP2h6HMj2cdUS8mawmdkZLBSMvypq9VBSS8JFqDgAATdC8sJNqyY0fSyC+6Ehz1Sl22vH8m6xq1RrIfDsxf2cqWquZyLjnmrGmQr9mAADqq5lhx+vIlfpPazCXraveaNEmq92UMuHHNmGtZrH0CTwAANRWgys7n6PVbruf8tzX269vhb7LAABUW0nYSU7o19IbR7pHr/R0s07V77fztBG1tO+3902sa9NZOWniAgAAdfPfs+J+BgAAaByasQAAQKMRdgAAQKMRdgAAQKMRdgAAQKMRdgAAQKMRdgAAQKM1Ouzo0c258R8AAP+28rCzW8ht7gZ704qMmWBDTG4IB7ect6QaAACwpyTs7GRxF4q/smNEbZdDCfpVqJLsJI498bxYYrcsu8dQ1AP2l5zuRC/7XAbpiJ8AAOBfUxJ2WjKY54JC15ehRPLasTTPzffbEj7qtLOTx40vIz830GehInVoEM9sKIyDf7M3ZAQVIwAA6qu+fXZufGmHj7LbPcqmc2NGOU8lo5avZvKy3qOz0J2M20tbsTJTfuyrtUzNeFjJvK3MKQ0BAFBbrw4762lfAm8mPy4+IuaTbMxIn13x26E8PGykc/OOMBKEByo+ichVjQAAQN29KuzsFrfSD4aynA+kSjWOrt+WIO6Izjqtdts9elprMJflMJD+wWaqrkxWM5FxzzVjHWoGAwAAdXEy7Oig0xuLzFb5pp5La0tbp67uRLb5ABbH8tp6jO28rKeltFWwKQSepBlMTatZrEIRgQcAgLoqDTtZ0GnyN5qupHOoY49zuGKUdHDmHj4AAFRdSdhZy8NYd46JZNzLvpl0fbt4dfXkLHaxxO7HY3RIM8uqklokSXNVUp3Z/yZWz3RWTjsh730T69p0Vq5SVQsAALzFf8+K+xkAAKBxXv1tLAAAgDoi7AAAgEYj7AAAgEYj7AAAgEYj7AAAgEYj7AAAgEYj7AAAgEYj7AAAgEYrDTvrae5Owmqa1mKAKHeH5Pydnt1dkeux/AAA4DOVhp1ssEw1rWYS9+swFtSTbCJPPNmon6x1GItXMv4VAABortc3Y7XacmhIzGpqi+/HEppKzlpCGclILXwc26SmK1Z6lPN0DK39qs/e+FiFEdEBAECtvD7srEMJPF9uajL6efvGl1inHbXc4r8cxjMa96S3GZmq1WrmSXCfNHutZWoG/8yqWukgoQAAoHZOhJ3cCOH9QIajgVT+tJ+Mit66ET8OZXo464h4M1lN7IyWCkZelDV76ZHew0eqOQAANMGJsNOSwTypcKykc1+nJp2W3PixBOKLjjRXnWKnHc+/yYJbayDz7cT8naj/n6xmIuOea8aaCv2aAQCor9c3Y5nw4Em0yeofleV15Er9pzWYy9ZVb7RXL7sJPzbkrWax9Ak8AADU1hvCzloexpEMD7YJNVerfahbdtK8V4dvpwEA8G8rCTu5/jpm6osst5IrlFTT00Yi9+O77H0T69p0Vk6auAAAQN3896y4nwEAABrnDc1YAAAA9UPYAQAAjUbYAQAAjUbYAQAAjUbYAQAAjUbYAQAAjUbYAQAAjfa6sLNbyK2+wd5tMjJ4jbl1yY/xtZ7qGwgyJAQAAE30irCzk8XdWNrDofu95vQdlj1PJB0nay1h7ElxmFAAANAUJ8PObnEnY5nJD9890ARtX/w4tJWcdSgyGklbYol1scdUfnSVZy3TZMiIJlS0AAD4R5WHHXXivxuLzH4NpOUeaoa23PixhCrt6KzzcmzTQPrX99JZ6ZHPlzKMxvJAGxcAALVUGnbWDybpyKBBSWcXx+a/rRtf4nAqofgHB/kcLuduvbviD0ViU/YBAAB1czzsrKfSj2fyq0lJJ691I34cuLLOlXQKnXaGhWpPd7KVeVO3AwAADXc07KxDFQSisfSSfiv97PdpzZt0vM6V+v+WDOZbmaShJsr6LAMAgMY4GnZ0NWO7zU3LoUoJM1mpn7OA8K/ayeJWh8BbyX2DHQAAVFB5B+UGetpE7icAAPAv+O9ZcT8DAAA0zj9X2QEAAP8Wwg4AAGg0wg4AAGg0wg4AAGg0wg4AAGg0wg4AAGg0wg4AAGg0wg4AAGg0wg4AAGg0wg4AAGg0wg4AAGg0wg4AAGg0wg4AAGg0wg4AAGi002Fnt5Db62u5vl3Izj1UsJ7KtZ4/XbsHauLEeq2nap6af3i1drK41fNvZXFwowAAgKqgsgMAABrtv2fF/QwAANA4VHYAAECjEXYAAECjEXYAAECjEXYAAECjEXYAAECjEXYAAECjEXYAAECjEXYAAECjnQg7a5nqIRXSaaoeyUmGXEimA0Mv7Ba3pfPPofCaZtpbbgAA8M8oCTt6/Ke+yHIr262dlsNA+ulgUSoI9ULxV8n8lcxkLHe5waL0+FK90JeV+/fb+UBabt7ZDZfF5f6ioAUAAKqlJOw8ySbypHPlflWuOp77SdnFEktb2ml6aUm77X7Udgu5j2ey+sqAc0RhuY1kIE83pQHOPn5bGN3z0GMAAKAuSsJOV/xhJOOeawJS4eVuHMnQ75q50roR38tVTNZT6Qee+Dc22uweQ4lU+HnMhYrLBIadPIaR6CSWhK71tCfjdlL5Wcks7rtla8mN70kUPtp1MmzoS9YLAADUS2mfne5EhYGlSF+HFddkNXFZRweDwXwrKz+Unp5vWrzmMnCZ4GmjAkYQivxyTVirmajkJGkR5dyCvgtZPQn9lWzTBV9LGAxlmf6u1mM0TANOazCSYRTKY5J21qEEw1G6XgAAoF5Kw47uc3N937F9bpZtlVXy1RnbvNPbjEyYWc1iE4ryYcab/cpCQmsgKlNIHGc1k7NyfXZWs71KjWl+C2yAS6Z+4GZqtqIVurSzDoOsmgUAAGrneNjRfW4CT2a/XJ+b7kQFnqFE4wfbrLV+kHGUVUhag7kJFsG9bdbS/WSizZOZd0m2UjOWh0JFSS23acLKTbm+RV0/qfTYKhBZBwCA+iqt7IhEks8rusohXkeyPsuxZIWaYt+Y1o0vXnAvWSHIhqev7/vSlR+5EJb2NSprT+v6KiBt5GkdSjz7oZ5hX9LB+TZbPwAAUEnHw05rIPPlUIJ+1tzTz3+7qjsR2w0nme86/SZ9Ycy/t01fZr7p85P16flKSXXHfi1e9zWynZKT9dJTsfO0Dkix9PsxHZMBAKi5/54V9zMAAEDjnGjGAgAAqDfCDgAAaDTCDgAAaDTCDgAAaDTCDgAAaDTCDgAAaLRGhx0z3AU3/gMA4J92IuysZZq78d71tRsBPbFbyG1+fjICumKDxsvpMwYCtc+dWxa3HJcZVR0AAFRZSdjRQyKYoczT8aOWw/wwCyoIuZHQ7fyVzCS5S7G+wXL278y0momn/tfJxpp4p53EsXomLxuqYvcYinrA/pJjl+Eyd20GAADVUBJ2nmQTFcOJHtwzZUYPb0s7DRItPSzWUTqQRMPRpwUP32+7kcl38rjxZeRLNvBooeK0V40ykrGtjvzNepqbR8UIAIA6Kwk7XfGHkYx7LgioAHE3jmSYDAGeDKiZNF2pgNA/OtDnWh7GIrMfnzh8+I0vbT0y+e5RNp2b3OCkih6XK60mvbRb3NlxvNLK0yQ32Odapv1YZmnFaitzSkMAANRWaZ8d0wy0FOnrCodrskrG+bQDam5l5YfS0/NNi9fhJqPd4l6CT6vq6IqT/q8KY+1QHh420nnPYJ1BeKDik4hc1QgAANRdadgxHYHvO7LSFQ43gnnWpGObgnqbkal+rPQo4Sr0vOyArKs6uYrQJ+r6bQnijuis0yprQ9vTGsxt/6ODzVRdmdjh3F0z1qFmMAAAUBfHw85uIfeBJ7NfAzF1k+5EBZ6hROMHe/JfP8g4GsrSlXp0gFjNPAnus29kaaaq483kM1uwJOkrpJdp7pZPi+PCa5fJOlAvpa2CTSHwJM1gaYgj8AAAUFellR3dnJP0+dXWYSDidXL9Y7JvROlKz2MYqRzSzsJHUtUZ5QJJ5VxJvt/1vsMVo6SDM/fwAQCg6o6HHV3dWA4l6NumHj3145mskkpKdyK2tSeZ37OdfrNOPbKe9j+/qmO+BVZut7i1y9Qbq7iWNFcl1Zn9b2LZ5U47Ie99E+vadFbOd2AGAAB18t+z4n4GAABonBPNWAAAAPVG2AEAAI1G2AEAAI1G2AEAAI1G2AEAAI1G2AEAAI3W6LBjhrvgxn8AAPzTToSdtUzzN9jbHzZht5Db/PxkBHQnvbmfm4pjUL2fDTG5ZXHL8VnPDwAAmqMk7Og7DZuhzN0YUls7eGY60qcKQm4kdDt/JTMZy10SONZT6YW+HURUT+Z2y3efUGXZSRx74nnZUBW7x1DUA/aXHDv+1eGR2AEAwL+hJOw8ySbypJMNhCVX+UGkzLANbkBOo6WHxUrt4rg4TlZL/a378TP4flvCR512dvK48WXki0TJQF6FitOhQTz3h4zY+5u9ISOoGAEAUF8lYacr/jCScc8FARUg7vSgnr4bJap1I74XSD9pulIBoR944t/YeNO68cUL+mlQsONk+eJmf5x6/nb4KLvdo2w6N7nBSZVk1PLVTA6N8blb3NlxvJKq0zY/9tVapmY8rGTeNhs3CwAA1E5pnx3TDLQUO5Cma7LKxvlsyWC+lZUfSk/PNy1euSYjEzhW4oc9Ux3piwoXySCiH6IrTvq/Koy1Q3l42EjnPQkqCA9UfBKRqxoBAIC6Kw07piPwfcf2u1m2zQjnWZOObQrqbUam+rGaxSYUpV16TFNSTzYjXR1ZySzuv2wu+qCu35Yg7phqUSvfhnZCazC3/Y90SFNTsZmqKxM7nLtrxvrcZQYAAF/reNhRYeU+8GT2y1VjuhMVeIYSjR/syX/9IONoKEtX6tEBYjXzJLi3zVrrh7FEw6WrBOkqkAo8XiD3n9L/xfUV0suUrxbFsW1SewXbeVlPS2mrYFMIPEkzWBriCDwAANRVaWVHN+ckfX61dRiIeJ1c/5jsG1G60vMYRsVOyfnwsXsUOzudWxFXku93ve9wxSjp4Mw9fAAAqLrjYUdXN5ZDCfq2qcf0u4lnskoqKd2J2NaeZH7Pdvp1lZ7uxH4V3fTn0VNvLO1lvs/PO5lvgZVL7++jXjOSpLkqqc7sfxPLLnfaCXnvm1jXprNyvgMzAACok/+eFfczAABA45xoxgIAAKg3wg4AAGg0wg4AAGg0wg4AAGg0wg4AAGg0wg4AAGg0wg4AAGg0wg4AAGi0E2FnLdP83YT3x4gyg33m5t/acbES6Z2MD/3bS3HLnB8Lywx4yvhXAAA0UknY0cMq9EWWyYCZWztSeDqsuQpCvVD8VTLfDg9xl4SI9VR647b657kBNffC0EU8bSTyPMkG/VpLGHtSMjwWAACosZKw8ySbyJNONuqnXOVHzDRjVLnRx42WHgPUUUHpPhBv9iMdU6o1GMkwCuWxCgNntn3x49BWctahyGik1sQNamoqP7rKk6tqVSGkAQCAdykJO13xh5GMe655R4WAu3EkQ9/Fl9aN+F6QVWvWU+kHnvg32ajmxRHO9ejixVHUL6ctN34soVoxnXWSVcrowUPvpWOqVksV0sbyQBsXAAC1VNpnpztRJ/ul2FHDXZNVNmp5Swbzraz80I5sblq85mIHD2+pMOFJcJ9VRHaLO1FZ6eJ2sR0zvXXjSxxORa3VwRHNh8tkXXToE4lN2QcAANRNadgxHXfvO7LS/W6WbRn38h17dZ+ea+ltRlmfHBV6ki49rcEv04fHBCE13clIZl6xWeyidGUqDlxZR1ed7MPWsFDt0aFvbpMPAAComeNhZ7eQ+8CT2a+B2ALHRAWeoUTjB9fX5UHG0VCWrtTTGsxV4MlXc2zlJ+ncPB+IbKJ8H5/L8UzissuXVaqq0sQGAAA+U2llZz8ArMNAJwXJijOuU6+xk8cw0h11bDgq0J19dTvX5GCTUf3Yqtb19a3kvsEOAAAq6HjYaQ1kvhxK0LfNUHrqxzNZzbNKz2ompmnLzu/JuL2UbVIqWU/Tf3ftOvtmVZTLedpUoOMQAAD4Mv89K+5nAACAxjnRjAUAAFBvhB0AANBohB0AANBohB0AANBohB0AANBohB0AANBohB0AANBoJ8KOvvNxcmNAPbkR0BO7hdzm5ifjYqUKNxasyN2G3TJnY3zpxTywbgAAoBFKwo4eEsEMZZ6Ob7UcBtJPE40KQr2xtJP5q5nE/Vyg0aGiH8tsZefbuy1XIFA8bSTyPMnGwVhLGHtSGAcUAAA0RknYeZJNVByl/Co3NPhucS+BN5MfyRAQrYGMhpGEjzbtrB/GEg1HkgwW3hqMZCiBhFUon7R98ePQBq91KDIaSTsZ58tUfnQoy1W1bpPBTQEAQN2UhJ2u+Cq8pNUYFQLuxpEM/dwAV3uDfuowFJmKyU7iWHJ/a6tEgfopzkYOvaC23PixCV466+RXyQqk78bz2m6XMozG8lCFkAYAAN6stM9Od6JO9ktRJ/5rue6F4ucG82zd+OIF94VmKx2G9tn+MD0J/ZWsZkkYupydTmGKXv44nIpaq4MjsQ+Xc1eV0qGvKiENAAC8VWnYMUHlviMr3Sdn2TYjnKcde1sD+ZUf9fxOZKTCjJdr99Ijpt93VqbPzlwlBz3ieH7+RbVuxI8DV9a5klwLnTIsVHt06NPLDwAA6ud42Nkt5D7wZPZrYJuquhMVeIYSjR9ss5bSGsxt52Q9zQciKsy02/qvW7qFS5dHciHBNm3Z+ZdlA1dLBvOsUiUSZX2WAQBAY5RWdvYDwDoMdFKQQ7UZXQXqyzIND13d9hP0s6+jrx9kHBUrJvWl+yDpilZFvk4PAACOOh52WgOZL4emKSq5V04/nslq7io9+W8rqck0V2VlkrQSlP578y32ycH+MV9JN6UBAIB/x3/PivsZAACgcU40YwEAANQbYQcAADQaYQcAADQaYQcAADQaYQcAADQaYQcAADQaYQcAADQaYQcAADQaYQcAADQaYQcAADQaYQcAADQaYQcAADQaYQcAADQaYQcAADQaYQcAADQaYQcAADQaYQcAADQaYQcAADQaYQcAADQaYQcAADQaYQcAADQaYQcAADQaYQcAADQaYQcAADTaybCznl7L9bWbbheyc4+jYXYLuU328/VU1u7hSigs260sOAgBAG/wqsqON1vJdruV7XwgLfeYUTgJqWkvDO0Wt9m8gyfQtUwP/Lt/nQ2YX3xSbw1krvfxaiaee6gykmXbLmXoHgIA4LU+0IylgkovFH+lT0J6WslMxnKXnKHXU+mN27I087aymsXSz4caNf/6OpTOrHKn1guy4S/sVDBwAABQU+8PO7tYYmlLOy31tKTddj+qSLO4D8Sb/ZCue6Q1GMkwCuXRpB11Ur/vyGo7kRsz941MRUlXilxl6EB1qND8lquS6MdvX5RM1PLeXss0KT2ZIJb9+5d/f4SrdOX/3i7H65qF1tN76ajwOHnXRrGK1bTcOill88rp7VysNGXbUW87NW/htpl60mTbJ8+vX1f/bX6fFF/bbv9kXuWa0QAAtfb+sNO6Ed8LsmqNCgj9wBP/JmvoamdJSLmSjhfJ5kn/3JXJfpPYm6nXvrbhwDRvRGN5yJ1c+/FMhamkqiQy7tkT6FXHk8guxBHqxN6PZZZWrLYyH7xySXVzy3Io0fjOBgOzTYayVKEuCX1lupO5vPalDtHrna+m6WmSvPBepW2rljPof1ZTWSTjUIVX3QQW9OW+s1Lb3JMgzCJLNO6Zx/Vrm3n3WTjdLe5k3F6my7x95fYCAOA1PtCM1ZLBXJ24/FB6+mq8L+pEmpysW3LjHzihRe6XTzJcJq/XFX8oEscmYciDeqHhKAtTrcEvmalgps+9raz8ZCoNtjrxJJvIk86VfVyfvENbgnq77sSGq4eFqW4Nl1914nbrffD1Xlba9HIuhx9Yzz3Z9h7K6FBiGy7T0Ni68cWLNmqr5wQh1RwAwFl8IOzYpofeZuSu1mPp55onTMCQsQ1CarqTkQoc+UDxUUPxc2f17iRfgSl5nauOeHGsln4toXqOdlrlSZrkujKxpaB3N6mYdY/HplqRVlbOzTQrlm/fYqWtOlqDuQpeulJnj5VXNxsCAPAK7w876wcZR0NZurO5PmEVmyds5SdpmpgPRDZRvo/POSXNZQlduXE/ttQy6KrCOpS480N8FXnWOih4HUlzQvrtnyTEvS3wrKc9Cf2lCjz9rztx6/VyPx5jK1+Jnfrd/VgBOqzaY2UpbRU0CTwAgM/ygcqOpkJCek7ayWOoEkW7nTYfZXQHV93O9RVNOrZJq9iEdi+BN5MfuRfXJ3rdv+iqE0v4sJHo4HLrDHEqQuxx/XRGg64MfukKkeu/c3Z6vSP1ctl6Z2yzYjR+yEKbC6sHm5wOygKk6RMV2J8/n+7b5X4EAOATvD/sJH1Terbp4fq6ZzuZJu02hW80uW8ZpWEj+/ZNT3fkiVxz1yfdb0dXCZbtrAnNdMxNO0Trk2lgOtTqvtS6/0gcBOIl7T+F5VaT6az8ypCm/61KAWm/mdZARjqA9F7XETj9tlRvrKKF/nd6GV7fiXh/vfWUNSvqypttajy0XsXXTpqUkopWVyamQ7P9t7rpUv36Sfa/iWWPo1d3CgcA4IT/nhX380G6E6/+Fg0nH1yerhDq4Pyxb60BAP4tH2zGAgAAqLZXhR19jxTTxMCwDriEdFiSvpytqxAAoLFONmMBAADUGc1YAACg0Qg7AACg0Qg7AACg0V4VdtbTsnu96PuklNxhWHcuLQ5xXXDO59b3vSm7E2/pa5/zuU+t1zmf+0PrdcH9wTY7qLLH8InXvtz+YJsdVNVj+NRrX3B/nHptVEtp2NH32NH7+qpj7yKc/G7pA0UfSC190+Tc72amPVD0t7eSYQyS383M8z63Pgiv7ZPb+cnvTulrn/O5T63XOZ/7Q+t1zufO1oNt9knb7JzP/cH1Oudzp+vBNvukbXbO587W413rdc7n/uB6oaL0t7HK/Pn57fnbNzt9//3XPZr4+/z7ezb/5x/3cOLv7+fvbt63bz+f92ef87nVk6f/9tv33+rZikpf+5zPfWq9zvncH1qvC+6PU6/NNqvWMXzitS+3P9hmb1+vC+6PU699wf1x6rVRPW/qs1M+avaJEc3zA20ecM7n1vG97NlLX/ucz31qvc753B9arwvuD7bZQZU9hk+89uX2B9vsoKoew6de+4L749RroyJc6DlIJ2OdeP/+/vmsg3Hyu6WT8Xf3uE6+2e92tkrGJvH+ef5pn8T9bp3zudU/ev7mHv9pn8T+7pS+9jmfO7ceB9frnM/9ofU653PrX9lmb3tu/WvJep3zuXPr8Z71Oudzq3/ENnvjc6t/VLJe53xu/esH1uucz/3B9UI1nWzG0v78zB0IL+gDRR8wR+gDpeRAOOdz64PwZfkyU/ra53zuU+t1zuf+0HpdcH+wzQ6q7DF84rUvtz/YZgdV9Rg+9doX3B+nXhvVwh2UAQBAo3GfHQAA0GiEHQAA0GiEHQAA0GiEHQAA0GiEHQAA0GiEHQAA0GiEHQAA0GiEHQAA0GiEHQAA0GiEHQAA0GiEHQAA0Ggnw856ei3X1266XcjOPZ5Zy1TNu128nHN266larlt530vvZHGr1mm6dr9Xx25xq9Zrqrbse3xsf9j9/d5t+hEf2x8f22Z11dRt9rFjuJnrdcnPK/bHIZdbr4q/7815+Vq++lA9tV6vqux4s5Vst1vZzgfSco+dYk+auRfeLeT2AwfWV6nrcp/S1PUqdWAdX2yHj9Jv7IMXATXlPqjyUzOOEXeCyK/bRYLD57If8MX1qsVqfcV78xJenOjdcVf1z4im7o+cT2vGarfzMWgnceyJ58USu223ewxVavLsL5+qLYWXfiOvc+V+0r5yuU/wOpJfsrd67/7oTlSo3c5l8IFt+hHF/fFG+9vsaSORXsfNk3tgLaHeDu63pvjUbWYMZakvbvS0momMexcJPMVj+I2OvH+GS7de26UMg37t1uvgvvZmskr213IoQf88gedT90eF3pufuV67OFYfq576vE0/aCVUa3WO9arsZ2V3Yo7FSdf9/pWOvO+N5xP+/Pz2/P33X/fba/19/v39+/Pv3z/dv1W///z9/Of39+dvP/+Yv0ie969+7Ns3M7lZF3R6udWCP3/7/vv579/fz9/dcqfzDP0c7nEz/Xy++Gq9Zr3y63Nwmf88/0znq0lvAzfH0NslN//tx8wZ6GVS6/n7u1sf9fvPP3o91LZIF29vvfYPwmPrVdhe+Sm/7YrPXdgm5t/rv839zf42vQSzvnv7f/+x/XXPbzOzzf8U3teVOBbc+zJbVPt7YdkK+/rlMVI8NA499vXMdt47bgqPVfk4K3lv6nX4/vu3W2b1N8m+yW3w/DF2+DPr66XL7bbxX/WZ+/tPsg+cwnHWkM/KvXXS06H3Szq/cAxm702dC+zf5F/3c5y3g/KNL+3wUXYq3W46Ny8SV6SuGHubkUmBq5knwX1FSn0nllstuPR6GxnpKyl15esF92kfl93iTsbtpbt61NNELhFwDypbr9ZA5sn6uIfy1tO+xElzpp4KTZprmfZjma2Sdd7K/FKloRfaarVjCdWV7joU8fd2xnoaip+sk7vaz66KS9Yr2V7qSrpwZZ3ub12+zm+zpbTV8V684g6kf30vHfP86rXVcfVQxZrxVUcdE0lVUG2T3ljaZRUS9XvyvtbbJxo/qH9VMfqKO8pd1esyfn5fL9sy7iUl/K74ajcH+iBK7NT2kOGL46kKWu22+ozaSHKNXt3jrPy9GY1DtcwrmXlq+e87sjKftaHdJ+up9MbttAK5msXSr0xT0Y347VAedzt53HTkpvBB29DPSlfNSee5h639z0K1T0WdQ/fKj7oied+xf7McRjL+5IP0TGHnSTbqg8R8SKid/vCwkc7NgR2qTxKu1tVSJ2Kv8Aa9hFcut/ron63cSa2lDmwvyqp/WvKGrIzXrle5SAcl9/NLkYSP1fioSeiSsqaPrTicinqr2n2W053kw6g9qaUlaOOd62XK1zP5lX6QdeWHDvT5E6YyXCZNhodeuyJabfUxaO0W9xKo9+2PdKN1ZaIDTf7YyL2vpeurD76s+fTS9Aeq6dvSU0eDOuEki2madWe/subb7g9zkk12V/dH7kSr2L//kTt2KsSE06KqHWeveW/KcJTuj+Go2F90HQZqnbL3bmswUiFOBwz3wIU82Q9addi3JXx4MBeV+eW2mvpZecT6QcbRUEbpm6slg1/F95MxXKbBr2uf/FPD63krO4re6UGs0q1aB3PFkeP5uQPBXCnnN+ZllS23WnDzuKV23Dz70GwN5iqV6isp+6F6iT4BZUrXq0R34tK4W69iKFcnPNe3w5xIqtapTQfSOHCXKlfSyZ8J9jrk9tWfZT6wXroNXFcAc8/dG9sPwkyxMqD7S1XnKi/HVDFy1HFTwaV8FdtnR1cLiiccfZLSleZkX11f99QHtJupmYuaJPyoK3Z95fuOC4YvoY8996NV4eOs7L15lO6DmAuuZupL4a17aSrkt4PYXlTmLhaa+1l5QllfGmdYPEjf9IWo1zhj2FE7WC/p/kJ/clr7fB9fbtvJ15bzdNNFNQLPR9fLhjqzXurNGu93gkyaddRkSsoVeRPbTnzFQKqvrEwlzjRd6CvEZH/p8qn9i9RH1qvQvOWmbCFqQ1cxouT40faOmeSqsD7U8TB62byWfus0N2W7qyU3vqvMmapd/oKnWnTV4zUnl0srfW++Qv59a6fLfbEizzaNqlBTWJ5cdbOpn5Vl9lttXgTy8zt7ZedDkiS517ZXH0euVOq+XoUrlZcOV4ySr/5e4h4+ZTxJv9Sg9kvZ1crB9dJNBofK57r5JhrL3YdWtgLbTG0TXZFKmgxsc3O+z8daHvT8vWaGUu5rrhf9Oq5rprp3G1aXzaPxXel2Nuuugt1ahb/2ofWtwHrpr6L3A09mv96wPyr73jzGBc/+iZBQhePshKZ+VhaYpuzsvWbW7z5QFxdvawa2X4V//zcNzxN29svedfHh5U4O0mTqmc7KFy8Zv2K90vt19MYqcSfNcMmHib35VrZetrNZmv6T8JZMpgPe5Zskk/bzo9QV1kh3hOu55b7vyCx/tfKa9VLP8ctUpZO/S7aZvrKzlb38c9Qj32bNsHadc1d6+qrUVfbsOu0dC7WRVHdcwNEVT9MpOVkvPe2dTPXx0h5Lf9wuNAtdXK651HbarUaFo8zJ9+YJuruArYrk9tfFQ41tXivV1M/KUvufhZc5L/6nv5Llfj5IpyndQ7qSfQkAAECF6Itj/e2/aoXuajdjAQCA2jDf2Mz38auIV4Wd9FsKFW77BAAAXy/pT6On3lgq0TS372QzFgAAQJ3RjAUAABqNsAMAABqNsAMAABrtE8KOvQfLee8SbO9f87n3KHH3xHnnk9r70rzzzpfJza7OctOVj+2P961X/j48B26Elayvmd65zU740P744DY7Jt9p72v3h2Pu6VGXG8XlXeIY/rfV7Tgzy3v0CzPnOF98spJtlv/cqO8NdavnjJWdGhxwZ5E/8dup9tvA3QgrWw8XFNMPG33TKH0L8f3Rbh19Izo9f3V4RPVqc+ua7M837Mxk2JA33Vb9yxSP008NeibcVjRsFG7q9pUn6H/w87Cwre30750P3i753FjN6vdpWWWfFnbseCD1Y8cDeacX48/oD7T8UPZ2enF32eTkf8bbzn5of+ytlx77yPM8SUe4NWMDedULLh8cD+jlNtOBwN7tM92ffvj1H9gfWq8D97swYaR4nP6Sh8pVgD7zGNZMNcDdEdqu9y+RB26nkfrs40zflTp53xy7EPqnVe9eNI2mv3p+Hn+ff3//9vzzj/v1BTv/2zc3ff+tHsn78/wzmecm+1z2333/nf/rQ49dwN/fz9+/fX8uW4w/P7P1ebG8f37a7WCex/3d8Q34Zf7+/q6W9ffzT7eP/v7++fz7j17Gn2ov5el9VrL+Zr32/422dyxUYJ01vd4vj8ui/P78dmTd9d9c/NjMMctcuo3L3pt6H6t9mD9G0/kv37N2Kn9PfA27bGWrbfZ3brnzf2vmFR/IHct6e+l1zK9/dpwXj5FsKhwT+r2fztvfXnv74+D7Ljf/xDF7GYe2f9ly63nHjjO3P3K/J9vYPr/dXj//HN4fVvG1D34Wp/P39scXfU6/OObwIRfroLxbPIj8SlL/SmaSHzRxv0Ki5qdlBDsIXBQ+ZldkutIQeeJfehhiPTy+p8cPOV4eP9m0oce56W1kpNdbN/sE9xW54lbr1tYDXu7kcdORm4+UUPasp/nqidrXcf/T+8+8nVrPMBLPvzk6oKKuFPTjbGRztbvUvq96X5G16EGxhyWDO5W/N7VA+skxWpjvmjNNc+VQlm67VGI06nWolnp4fEyrtR7wVI8r5ZZZvUGD/luaufT7Xt8iX/97/XmVG2TUvOftZ1h+1Oh0CB5dactXnMwYXdlxtFvcFauL2+IN29bTvWry/C2DgF7Kgc94dRz1CmXT/HG2NAPrZgPQZnQfl+R9mC+WB/3D++Pla9txm9KXPrE/jMp+TuOYi4Wd1mCS+wB0ASYZ23/9oA77mfw68gnZGozUgZ+NNL17DCUajiowDocdHt+e9Gwb9dtP2l5290kXnpLNcinJIHFdvy3hw4NsOscDwNvpk686MWYjTdoBGvNhtpJejvbdGvwyH6rhgQ/kOil9bxq5Y/Tg/LpRJ7/9UZi7E3VBEkn4Yjj744bLJNS9bZvozy+Z/cq2uRuRvXAcBWHxZLun+u+XPfozPhrKKF1p9b7/pUNDfj3zx1lXfHWBmDalO49J0DkQ8I7uD9MMnz+/dOWHSqKB2+Cv2h8V/JxGuYuFHZOecx3XeurE8Xr6wE8+iPQVuDo2f6QfUxenR+Q1VwQ29bytR73nS1agsuGpMiNKd31pB7F09AK22tJ2D3+IGZE9N8q2nvqBm1l1nnyky1dlvee9Gcf1OtkecKl+h/piIh2Sx0w9FQTcTEV/niyH2Xtk/wKqO3FVETe/Np2AP9jHTldXxuqjoqz6etDTRqLcSPF6yh/jp/aHUeXPaRx0obCzlqkdQMOVEd/e87yrYr65mjEpPX/gVUhrIL/0ejXmRKCbKfJNEiqofMqK5Zs83HTxUnxLrfOpK+b9q7kncUWwCruSjjokk6vYl9753lQbq4pvwdRVR0XT8qpbsWqw02/bL+Plm6HclD95Js3fSZNLMfDYk62Zry6w4n5NAk+0Ue+YHB1C3I+v4s1k5S4o37y++t/mtrWZchv81P5A/VyusqOkV1LqSvIuH531B1Oumcr06dh/F+jSou4rcBdKO9eUkNHtsjqVf+39H4psv49PPREkV91NGZTVlIDVVeupT6vka6xf+Cne/TFTx+FefxW1HHYRbFk9uM/2gxntV32IvqXImNxT4+tWyzYTStAvvOZuMS28T46+N/e5+YU+QKbqVxIsLnEMqwsPu9r5vhfqM2Kql8E1c4wfsnkvmlmU9KLFBsI3nZjVa+jwfChkmgu38d0rP6dsWD3qSMX164+zvWNqv89U11e/7fWj2W9KfA39zda39q/Sr73/vs552/444gKfVyh39rATqKsMWwrMv9lcG2kyr7cRP3/1aCoiWb+X+87qQIde9wEVtY93OvxqL+4r4TreppcE2b1NdEtNUiq9fGfcMq+4wk3Xu68+vnRHTf1z9uFjb1imHjMniKQcn5x09FXpynRKts9hp0psE/1BmjRFJssW+ukVnr7aXrazcrjp4JpWpCq8r/VXgs0Jwq2Tmu7kh6vYnXhvGsk+1vPH0l7uX/V2ZVJ4/ktecGTM/so1B11f34n8sPtLNxWtZnE2z3RQzToCm/5YaVPRvXSWuhP223QnSxmqkGlfO3csmP2hO8G61zZT8v5ILtqSyX6mpJ2bc8eZnWzH2ypUIVqDHyJ3brn2tqc5RlyV6vB6vYHafkk/yde9v/Zf205pLindH6irWo96rk+ivc3orPerAZCnT676Wy4V+IYV0GCc3z7XRZuxPsSUz6vVMRkAAFRP/cJO0t5vyudcXQIAmiPpX/W2byjjlFo3YwEAAJxS32YsAACAVyDsAACARiPsAACARiPsAACARiPsAACABhP5P1fO/NlAKG5XAAAAAElFTkSuQmCC)\n",
        "\n",
        "Refference - https://triangleinequality.wordpress.com/2013/09/08/basic-feature-engineering-with-the-titanic-data/"
      ],
      "metadata": {
        "id": "A4X2NPBQPi0Z"
      }
    },
    {
      "cell_type": "code",
      "source": [
        "#Function for Extracting title from Name column.\n",
        "def title_feature(df):\n",
        "  name_feature=[]\n",
        "  for i in range(0,len(df)):\n",
        "    name=df['Name'].iloc[i]\n",
        "    txt=name.split(' ')\n",
        "    for i in txt:\n",
        "      if len(i)>1:\n",
        "        flag=False\n",
        "        if i[(len(i)-1)]=='.':\n",
        "          name_feature.append(i)\n",
        "          flag=True\n",
        "          if flag == True:\n",
        "            break\n",
        "  title=pd.DataFrame(name_feature)          \n",
        "  title.rename(columns = {0:'title'}, inplace=True)\n",
        "\n",
        "  unique_title=list(title['title'].unique())\n",
        "  known_title=['Mlle.','Ms.','Mme.','Miss.','Mrs.','Mr.']\n",
        "  for each in known_title:\n",
        "    if each in unique_title:\n",
        "      unique_title.remove(each)\n",
        "\n",
        "  title['title'] = title['title'].replace(unique_title, 'Rare')\n",
        "  title['title'] = title['title'].replace('Mlle.', 'Miss')\n",
        "  title['title'] = title['title'].replace('Ms.', 'Miss')\n",
        "  title['title'] = title['title'].replace('Mme.', 'Mrs')\n",
        "  title['title'] = title['title'].replace('Miss.', 'Miss')\n",
        "  title['title'] = title['title'].replace('Mrs.', 'Mrs')\n",
        "  title['title'] = title['title'].replace('Mr.', 'Mr')\n",
        "  return title"
      ],
      "metadata": {
        "id": "CERag5cIwabI"
      },
      "execution_count": 46,
      "outputs": []
    },
    {
      "cell_type": "code",
      "source": [
        "train=title_feature(X_train)\n",
        "train_title=OneHot_feature(train, 'title')\n",
        "\n",
        "cv=title_feature(X_cv)\n",
        "cv_title=OneHot_feature(cv, 'title')\n",
        "\n",
        "test=title_feature(X_test)\n",
        "test_title=OneHot_feature(test, 'title')"
      ],
      "metadata": {
        "id": "bzpiJ2LRxcsP"
      },
      "execution_count": 47,
      "outputs": []
    },
    {
      "cell_type": "code",
      "source": [
        "print('train_title shape ->', train_title.shape)\n",
        "print('cv_title shape ->', cv_title.shape)\n",
        "print('test_title shape ->', test_title.shape)"
      ],
      "metadata": {
        "colab": {
          "base_uri": "https://localhost:8080/"
        },
        "id": "RCtA2cqx0Kgd",
        "outputId": "cf5f08f9-97a2-4f40-9446-d833ceac7379"
      },
      "execution_count": 48,
      "outputs": [
        {
          "output_type": "stream",
          "name": "stdout",
          "text": [
            "train_title shape -> (569, 4)\n",
            "cv_title shape -> (143, 4)\n",
            "test_title shape -> (179, 4)\n"
          ]
        }
      ]
    },
    {
      "cell_type": "code",
      "source": [
        "type(test_title)"
      ],
      "metadata": {
        "colab": {
          "base_uri": "https://localhost:8080/"
        },
        "id": "a5sHgfhLVX5n",
        "outputId": "ab7fccc7-ca6a-4bc3-8155-3966e984f32c"
      },
      "execution_count": 49,
      "outputs": [
        {
          "output_type": "execute_result",
          "data": {
            "text/plain": [
              "pandas.core.frame.DataFrame"
            ]
          },
          "metadata": {},
          "execution_count": 49
        }
      ]
    },
    {
      "cell_type": "markdown",
      "source": [
        "***Featurization on Sex ->***"
      ],
      "metadata": {
        "id": "LfqfbvMbZrWg"
      }
    },
    {
      "cell_type": "code",
      "source": [
        "#OneHot Encoding of Categorical 'Sex' feature.\n",
        "train_Sex=OneHot_feature(X_train, 'Sex')\n",
        "cv_Sex=OneHot_feature(X_cv, 'Sex')\n",
        "test_Sex=OneHot_feature(X_test, 'Sex')"
      ],
      "metadata": {
        "id": "A1SORpGYaGol"
      },
      "execution_count": 50,
      "outputs": []
    },
    {
      "cell_type": "code",
      "source": [
        "print('train_Sex shape ->', train_Sex.shape)\n",
        "print('cv_Sex shape ->', cv_Sex.shape)\n",
        "print('test_Sex shape ->', test_Sex.shape)"
      ],
      "metadata": {
        "colab": {
          "base_uri": "https://localhost:8080/"
        },
        "id": "2gw0l12KaUVu",
        "outputId": "58dd8c93-e1d8-4ad6-da9d-d3ee4426c412"
      },
      "execution_count": 51,
      "outputs": [
        {
          "output_type": "stream",
          "name": "stdout",
          "text": [
            "train_Sex shape -> (569, 2)\n",
            "cv_Sex shape -> (143, 2)\n",
            "test_Sex shape -> (179, 2)\n"
          ]
        }
      ]
    },
    {
      "cell_type": "code",
      "source": [
        "type(train_Sex)"
      ],
      "metadata": {
        "colab": {
          "base_uri": "https://localhost:8080/"
        },
        "id": "LglYZV-tVdmg",
        "outputId": "f5e76422-e2cc-43e5-b608-9a52c3be9967"
      },
      "execution_count": 52,
      "outputs": [
        {
          "output_type": "execute_result",
          "data": {
            "text/plain": [
              "pandas.core.frame.DataFrame"
            ]
          },
          "metadata": {},
          "execution_count": 52
        }
      ]
    },
    {
      "cell_type": "markdown",
      "source": [
        "***Featurization on Age ->***  \n",
        "The Numerical values in Age column are converted to Categorical features using these Age Bands,  \n",
        "\n",
        "Age Bands:  \n",
        "1 -> (0-12) = Kid.  \n",
        "2 -> (13-19) = Teen.  \n",
        "3 -> (20-35) = Young Adult.  \n",
        "4 -> (35-60) = Middle Aged Adult.  \n",
        "5 -> (60 and above) = Older Aged."
      ],
      "metadata": {
        "id": "rUbX0yDzao5i"
      }
    },
    {
      "cell_type": "code",
      "source": [
        "def AgeBands(df):\n",
        "  age=[]\n",
        "  for i in range(0, df.shape[0]):\n",
        "    Age=df['Age'].iloc[i]\n",
        "    if Age>=0 and Age<13:\n",
        "      age.append('kid')\n",
        "    if Age>=13 and Age<=19:\n",
        "      age.append('teen')\n",
        "    if Age>19 and Age<=35:\n",
        "      age.append('young adult')\n",
        "    if Age>35 and Age<=60:\n",
        "      age.append('middle aged adult')\n",
        "    if Age>60:\n",
        "      age.append('older aged')\n",
        "  age_feature=np.reshape(age, (df.shape[0], 1))\n",
        "  age_fea=pd.DataFrame(age_feature)\n",
        "  return age_fea"
      ],
      "metadata": {
        "id": "lZheDJQPbMt2"
      },
      "execution_count": 53,
      "outputs": []
    },
    {
      "cell_type": "code",
      "source": [
        "train_AgeBand_feature=AgeBands(X_train)\n",
        "train_Age=OneHot_feature(train_AgeBand_feature, 0)\n",
        "\n",
        "cv_AgeBand_feature=AgeBands(X_cv)\n",
        "cv_Age=OneHot_feature(cv_AgeBand_feature, 0)\n",
        "\n",
        "test_AgeBand_feature=AgeBands(X_test)\n",
        "test_Age=OneHot_feature(test_AgeBand_feature, 0)"
      ],
      "metadata": {
        "id": "MHXr7Z2nbhYQ"
      },
      "execution_count": 54,
      "outputs": []
    },
    {
      "cell_type": "code",
      "source": [
        "print('train_Age shape ->', train_Age.shape)\n",
        "print('cv_Age shape ->', cv_Age.shape)\n",
        "print('test_Age shape ->', test_Age.shape)"
      ],
      "metadata": {
        "colab": {
          "base_uri": "https://localhost:8080/"
        },
        "id": "bbl8W-xab0-g",
        "outputId": "603e2c0b-11cd-4068-ee99-195bccc88455"
      },
      "execution_count": 55,
      "outputs": [
        {
          "output_type": "stream",
          "name": "stdout",
          "text": [
            "train_Age shape -> (569, 5)\n",
            "cv_Age shape -> (143, 5)\n",
            "test_Age shape -> (179, 5)\n"
          ]
        }
      ]
    },
    {
      "cell_type": "code",
      "source": [
        "type(train_Age)"
      ],
      "metadata": {
        "colab": {
          "base_uri": "https://localhost:8080/"
        },
        "id": "DYfikBglVhdQ",
        "outputId": "a5acae1d-77ae-4b99-f11a-4815695072a7"
      },
      "execution_count": 56,
      "outputs": [
        {
          "output_type": "execute_result",
          "data": {
            "text/plain": [
              "pandas.core.frame.DataFrame"
            ]
          },
          "metadata": {},
          "execution_count": 56
        }
      ]
    },
    {
      "cell_type": "markdown",
      "source": [
        "***Featurization on Fare ->***  \n",
        "The numerical values of fare dataset is converted categorical features,  \n",
        "with fare bands,  \n",
        "* Cheap- fare < 15  \n",
        "* Economy- 15 < fare < 35   \n",
        "* Premium- fare > 35  "
      ],
      "metadata": {
        "id": "f9_HY2XRcOJt"
      }
    },
    {
      "cell_type": "code",
      "source": [
        "def fare_tags(df):\n",
        "  tag=[]\n",
        "  for i in range(0, df.shape[0]):\n",
        "    fare=train_df['Fare'].iloc[i]\n",
        "    if fare<=15:\n",
        "      tag.append('Cheap')\n",
        "    if fare>15 and fare<=35:\n",
        "      tag.append('Economy')\n",
        "    if fare>35:\n",
        "      tag.append('Premium')\n",
        "  fare_feature=np.reshape(tag, (df.shape[0], 1))\n",
        "  fare=pd.DataFrame(tag)\n",
        "  return fare"
      ],
      "metadata": {
        "id": "6yJ_qpn1b99S"
      },
      "execution_count": 57,
      "outputs": []
    },
    {
      "cell_type": "code",
      "source": [
        "train_feature_fare=fare_tags(X_train)\n",
        "train_fare=OneHot_feature(train_feature_fare, 0)\n",
        "\n",
        "cv_feature_fare=fare_tags(X_cv)\n",
        "cv_fare=OneHot_feature(cv_feature_fare, 0)\n",
        "\n",
        "test_feature_fare=fare_tags(X_test)\n",
        "test_fare=OneHot_feature(test_feature_fare, 0)"
      ],
      "metadata": {
        "id": "JKeEApQfc4tM"
      },
      "execution_count": 58,
      "outputs": []
    },
    {
      "cell_type": "code",
      "source": [
        "print('train_fare shape ->', train_fare.shape)\n",
        "print('cv_fare shape ->', cv_fare.shape)\n",
        "print('test_fare shape ->', test_fare.shape)"
      ],
      "metadata": {
        "colab": {
          "base_uri": "https://localhost:8080/"
        },
        "id": "KvbfiMQpdOI9",
        "outputId": "ef289721-cf45-4b7d-cf2b-8e2c519eb834"
      },
      "execution_count": 59,
      "outputs": [
        {
          "output_type": "stream",
          "name": "stdout",
          "text": [
            "train_fare shape -> (569, 3)\n",
            "cv_fare shape -> (143, 3)\n",
            "test_fare shape -> (179, 3)\n"
          ]
        }
      ]
    },
    {
      "cell_type": "code",
      "source": [
        "type(train_fare)"
      ],
      "metadata": {
        "colab": {
          "base_uri": "https://localhost:8080/"
        },
        "id": "tPusCisiVmRl",
        "outputId": "32a12f0a-60f7-4786-cd9d-aed95056e765"
      },
      "execution_count": 60,
      "outputs": [
        {
          "output_type": "execute_result",
          "data": {
            "text/plain": [
              "pandas.core.frame.DataFrame"
            ]
          },
          "metadata": {},
          "execution_count": 60
        }
      ]
    },
    {
      "cell_type": "markdown",
      "source": [
        "***Featurization on Embarked ->***"
      ],
      "metadata": {
        "id": "93iHGTxidfRq"
      }
    },
    {
      "cell_type": "code",
      "source": [
        "train_Embarked=OneHot_feature(X_train, 'Embarked')\n",
        "cv_Embarked=OneHot_feature(X_cv, 'Embarked')\n",
        "test_Embarked=OneHot_feature(X_test, 'Embarked')"
      ],
      "metadata": {
        "id": "8u-ozHSxeJif"
      },
      "execution_count": 61,
      "outputs": []
    },
    {
      "cell_type": "code",
      "source": [
        "print('train_Embarked shape ->', train_Embarked.shape)\n",
        "print('cv_Embarked shape ->', cv_Embarked.shape)\n",
        "print('test_Embarked shape ->', test_Embarked.shape)"
      ],
      "metadata": {
        "colab": {
          "base_uri": "https://localhost:8080/"
        },
        "id": "HET60CSmeOBo",
        "outputId": "327cf625-fc85-49a6-bef1-c770605bfa41"
      },
      "execution_count": 62,
      "outputs": [
        {
          "output_type": "stream",
          "name": "stdout",
          "text": [
            "train_Embarked shape -> (569, 3)\n",
            "cv_Embarked shape -> (143, 3)\n",
            "test_Embarked shape -> (179, 3)\n"
          ]
        }
      ]
    },
    {
      "cell_type": "code",
      "source": [
        "type(train_Embarked)"
      ],
      "metadata": {
        "colab": {
          "base_uri": "https://localhost:8080/"
        },
        "id": "iIYeifquVp_V",
        "outputId": "6c93675d-f1f8-4fa3-c75d-3a9e2f3b20ab"
      },
      "execution_count": 63,
      "outputs": [
        {
          "output_type": "execute_result",
          "data": {
            "text/plain": [
              "pandas.core.frame.DataFrame"
            ]
          },
          "metadata": {},
          "execution_count": 63
        }
      ]
    },
    {
      "cell_type": "markdown",
      "source": [
        "***New feature - 'Chances' : Feature extraction from Pclass & Embarking ->***  \n",
        "![Screenshot (372).png](data:image/png;base64,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)  \n",
        "* From above values it is clear that using Pclass & Embarking of a passenger together,  we can calculate the Survival chances of a passenger on the ship.  \n",
        "* These values of survival chances has noticable difference between alive & dead, this can further be used for predicting the survival status."
      ],
      "metadata": {
        "id": "r_KAIcnIed-w"
      }
    },
    {
      "cell_type": "code",
      "source": [
        "def Chances(df, Pclass, point):\n",
        "  total=len(df[(df['Pclass']==Pclass) & (df['Embarked']==point)])\n",
        "  dead=len(df[(df['Pclass']==Pclass) & (df['Embarked']==point) & (df['Survived']==0)])\n",
        "  alive=len(df[(df['Pclass']==Pclass) & (df['Embarked']==point) & (df['Survived']==1)])\n",
        "  dead_prob=round(dead/total, 2)\n",
        "  alive_prob=round(alive/total, 2)\n",
        "  return dead_prob, alive_prob\n",
        "\n",
        "D1_S=Chances(train_df, 1, 'S')[0]\n",
        "A1_S=Chances(train_df, 1, 'S')[1]\n",
        "\n",
        "D1_C=Chances(train_df, 1, 'C')[0]\n",
        "A1_C=Chances(train_df, 1, 'C')[1]\n",
        "\n",
        "D1_Q=Chances(train_df, 1, 'Q')[0]\n",
        "A1_Q=Chances(train_df, 1, 'Q')[1]\n",
        "\n",
        "D2_S=Chances(train_df, 2, 'S')[0]\n",
        "A2_S=Chances(train_df, 2, 'S')[1]\n",
        "\n",
        "D2_C=Chances(train_df, 2, 'C')[0]\n",
        "A2_C=Chances(train_df, 2, 'C')[1]\n",
        "\n",
        "D2_Q=Chances(train_df, 2, 'Q')[0]\n",
        "A2_Q=Chances(train_df, 2, 'Q')[1]\n",
        "\n",
        "D3_S=Chances(train_df, 3, 'S')[0]\n",
        "A3_S=Chances(train_df, 3, 'S')[1]\n",
        "\n",
        "D3_C=Chances(train_df, 3, 'C')[0]\n",
        "A3_C=Chances(train_df, 3, 'C')[1]\n",
        "\n",
        "D3_Q=Chances(train_df, 3, 'Q')[0]\n",
        "A3_Q=Chances(train_df, 3, 'Q')[1]\n"
      ],
      "metadata": {
        "id": "EGQCkrrRePf9"
      },
      "execution_count": 64,
      "outputs": []
    },
    {
      "cell_type": "code",
      "source": [
        "def Get_feature(df):\n",
        "  alive_feature=[]\n",
        "  dead_feature=[]\n",
        "  for i in range(0,df.shape[0]):\n",
        "    Pclass=train_df['Pclass'].iloc[i]\n",
        "    Embarked=train_df['Embarked'].iloc[i]\n",
        "    if Pclass==1 and Embarked=='S':\n",
        "      dead_feature.append(D1_S)\n",
        "      alive_feature.append(A1_S)\n",
        "    if Pclass==1 and Embarked=='C':\n",
        "      dead_feature.append(D1_C)\n",
        "      alive_feature.append(A1_C)\n",
        "    if Pclass==1 and Embarked=='Q':\n",
        "      dead_feature.append(D1_Q)\n",
        "      alive_feature.append(A1_Q)\n",
        "    if Pclass==2 and Embarked=='S':\n",
        "      dead_feature.append(D2_S)\n",
        "      alive_feature.append(A2_S)\n",
        "    if Pclass==2 and Embarked=='C':\n",
        "      dead_feature.append(D2_C)\n",
        "      alive_feature.append(A2_C)\n",
        "    if Pclass==2 and Embarked=='Q':\n",
        "      dead_feature.append(D2_Q)\n",
        "      alive_feature.append(A2_Q)\n",
        "    if Pclass==3 and Embarked=='S':\n",
        "      dead_feature.append(D3_S)\n",
        "      alive_feature.append(A3_S)\n",
        "    if Pclass==3 and Embarked=='C':\n",
        "      dead_feature.append(D3_C)\n",
        "      alive_feature.append(A3_C)\n",
        "    if Pclass==3 and Embarked=='Q':\n",
        "      dead_feature.append(D3_Q)\n",
        "      alive_feature.append(A3_Q)\n",
        "  prob_alive=np.reshape(alive_feature, (df.shape[0], 1))\n",
        "  prob_dead=np.reshape(dead_feature, (df.shape[0], 1))\n",
        "  \n",
        "  chances_alive=pd.DataFrame(prob_alive)\n",
        "  chances_dead=pd.DataFrame(prob_dead)\n",
        "  chances_df=pd.concat([chances_alive, chances_dead], axis=1)\n",
        "  chances_df.columns = ['alive_chances', 'dead_chances']\n",
        "  return chances_df"
      ],
      "metadata": {
        "id": "4qn8fqKQfJH5"
      },
      "execution_count": 65,
      "outputs": []
    },
    {
      "cell_type": "code",
      "source": [
        "train_Chances=Get_feature(X_train)\n",
        "cv_Chances=Get_feature(X_cv)\n",
        "test_Chances=Get_feature(X_test)"
      ],
      "metadata": {
        "id": "Ae9eV5vNfSEj"
      },
      "execution_count": 66,
      "outputs": []
    },
    {
      "cell_type": "code",
      "source": [
        "print('train_Chances shape ->', train_Chances.shape)\n",
        "print('cv_Chances shape ->', cv_Chances.shape)\n",
        "print('test_Chances shape ->', test_Chances.shape)"
      ],
      "metadata": {
        "colab": {
          "base_uri": "https://localhost:8080/"
        },
        "id": "l9UD-fD0fU3b",
        "outputId": "e79be7f8-e43d-4630-ed42-1594fe18b103"
      },
      "execution_count": 67,
      "outputs": [
        {
          "output_type": "stream",
          "name": "stdout",
          "text": [
            "train_Chances shape -> (569, 2)\n",
            "cv_Chances shape -> (143, 2)\n",
            "test_Chances shape -> (179, 2)\n"
          ]
        }
      ]
    },
    {
      "cell_type": "code",
      "source": [
        "type(train_Chances)"
      ],
      "metadata": {
        "colab": {
          "base_uri": "https://localhost:8080/"
        },
        "id": "XHDx_suJVviN",
        "outputId": "9ffcaeb1-95f5-4164-cb94-9e2f04f433ec"
      },
      "execution_count": 68,
      "outputs": [
        {
          "output_type": "execute_result",
          "data": {
            "text/plain": [
              "pandas.core.frame.DataFrame"
            ]
          },
          "metadata": {},
          "execution_count": 68
        }
      ]
    },
    {
      "cell_type": "markdown",
      "source": [
        "***New Feature Extraction ->*** **' Is_Alone '**  \n",
        "It represents that wether the passenger on the ship was traveling alone or with family members.  \n",
        "Refference - https://www.kaggle.com/competitions/titanic/discussion"
      ],
      "metadata": {
        "id": "8zQPwFiUiSxQ"
      }
    },
    {
      "cell_type": "code",
      "source": [
        "def Is_alone(df):\n",
        "  family=df['SibSp']+df['Parch']\n",
        "  alone=[]\n",
        "  for each in family:\n",
        "    if each>0:\n",
        "      alone.append(0)\n",
        "    else:\n",
        "      alone.append(1)\n",
        "  alone_df=pd.DataFrame(alone, columns=['alone'])\n",
        "  return alone_df"
      ],
      "metadata": {
        "id": "7pcD8hW5p5Yw"
      },
      "execution_count": 69,
      "outputs": []
    },
    {
      "cell_type": "code",
      "source": [
        "train_alone=Is_alone(X_train)\n",
        "cv_alone=Is_alone(X_cv)\n",
        "test_alone=Is_alone(X_test)"
      ],
      "metadata": {
        "id": "NkjZEQzVgF0F"
      },
      "execution_count": 70,
      "outputs": []
    },
    {
      "cell_type": "code",
      "source": [
        "print('train_alone shape ->', train_alone.shape)\n",
        "print('cv_alone shape ->', cv_alone.shape)\n",
        "print('test_alone shape ->', test_alone.shape)"
      ],
      "metadata": {
        "colab": {
          "base_uri": "https://localhost:8080/"
        },
        "id": "qK9xujnGgfc8",
        "outputId": "866060ac-011a-4100-c5e8-a95619bdfa76"
      },
      "execution_count": 71,
      "outputs": [
        {
          "output_type": "stream",
          "name": "stdout",
          "text": [
            "train_alone shape -> (569, 1)\n",
            "cv_alone shape -> (143, 1)\n",
            "test_alone shape -> (179, 1)\n"
          ]
        }
      ]
    },
    {
      "cell_type": "code",
      "source": [
        "type(train_alone)"
      ],
      "metadata": {
        "colab": {
          "base_uri": "https://localhost:8080/"
        },
        "id": "lExRL6nFiVFl",
        "outputId": "b9f1dbd1-ff3a-4f2f-e22c-827017bcee36"
      },
      "execution_count": 72,
      "outputs": [
        {
          "output_type": "execute_result",
          "data": {
            "text/plain": [
              "pandas.core.frame.DataFrame"
            ]
          },
          "metadata": {},
          "execution_count": 72
        }
      ]
    },
    {
      "cell_type": "markdown",
      "source": [
        "***New Feature Extraction ->*** **' family_size '**  \n",
        "This represents the size of family, of a passenger onboard the ship."
      ],
      "metadata": {
        "id": "IEBk-ikuiXi_"
      }
    },
    {
      "cell_type": "code",
      "source": [
        "def family_size(df):\n",
        "  family_size=[]\n",
        "  for i in range(0, df.shape[0]):\n",
        "    SibSp=train_df['SibSp'][i]\n",
        "    Parch=train_df['Parch'][i]\n",
        "    size=SibSp+Parch+1\n",
        "    family_size.append(size)\n",
        "    family_size_df=pd.DataFrame(family_size, columns=['family_size'])\n",
        "  return family_size_df"
      ],
      "metadata": {
        "id": "nw9xVunFiYDP"
      },
      "execution_count": 73,
      "outputs": []
    },
    {
      "cell_type": "code",
      "source": [
        "train_family_size=family_size(X_train)\n",
        "cv_family_size=family_size(X_cv)\n",
        "test_family_size=family_size(X_test)"
      ],
      "metadata": {
        "id": "kcDL74sekWSK"
      },
      "execution_count": 74,
      "outputs": []
    },
    {
      "cell_type": "code",
      "source": [
        "print('train_family_size shape ->', train_family_size.shape)\n",
        "print('cv_family_size shape ->', cv_family_size.shape)\n",
        "print('test_family_size shape ->', test_family_size.shape)"
      ],
      "metadata": {
        "colab": {
          "base_uri": "https://localhost:8080/"
        },
        "id": "9v5oIqjHlJ14",
        "outputId": "2ff237b3-355c-44ac-b8c6-4dcb88947ca3"
      },
      "execution_count": 75,
      "outputs": [
        {
          "output_type": "stream",
          "name": "stdout",
          "text": [
            "train_family_size shape -> (569, 1)\n",
            "cv_family_size shape -> (143, 1)\n",
            "test_family_size shape -> (179, 1)\n"
          ]
        }
      ]
    },
    {
      "cell_type": "markdown",
      "source": [
        "## **Concating All the Features:**"
      ],
      "metadata": {
        "id": "wOptD_0EfhYb"
      }
    },
    {
      "cell_type": "code",
      "source": [
        "train_features=pd.concat([train_Pclass, train_title, train_Sex, train_Age, train_SibSp,train_Parch, train_fare, train_Embarked, train_Chances, train_alone, train_family_size], axis=1)\n",
        "cv_features=pd.concat([cv_Pclass, cv_title, cv_Sex, cv_Age, cv_SibSp,cv_Parch, cv_fare, cv_Embarked, cv_Chances, cv_alone, cv_family_size], axis=1)\n",
        "test_features=pd.concat([test_Pclass, test_title, test_Sex, test_Age, test_SibSp,test_Parch, test_fare, test_Embarked, test_Chances, test_alone, test_family_size], axis=1)"
      ],
      "metadata": {
        "id": "JSEqipVRfnh5"
      },
      "execution_count": 76,
      "outputs": []
    },
    {
      "cell_type": "code",
      "source": [
        "#Ordering features in DataFrame.\n",
        "def ordering_df(df):\n",
        "  df=df[['Pclass_1', 'Pclass_2', 'Pclass_3', 'title_Miss', 'title_Mr', 'title_Mrs', 'title_Rare', 'Sex_female', 'Sex_male', 'x0_kid', 'x0_middle aged adult', 'x0_older aged', 'x0_teen', 'x0_young adult', 'SibSp_0', 'SibSp_1', 'SibSp_2', 'SibSp_3', 'SibSp_4', 'SibSp_5', 'SibSp_8', 'Parch_0', 'Parch_1', 'Parch_2', 'Parch_3', 'Parch_4', 'Parch_5', 'Parch_6', 'Parch_9', 'x0_Cheap', 'x0_Economy', 'x0_Premium', 'Embarked_C', 'Embarked_Q', 'Embarked_S', 'alive_chances', 'dead_chances', 'alone', 'family_size']]\n",
        "  return df\n",
        "\n",
        "#Padding of absent features.\n",
        "def feature_padding(df):\n",
        "  feature_list=list(df.columns)\n",
        "  feature_names=['Pclass_1', 'Pclass_2', 'Pclass_3', 'title_Miss', 'title_Mr',\n",
        "           'title_Mrs', 'title_Rare', 'Sex_female', 'Sex_male', 'x0_kid',\n",
        "           'x0_middle aged adult', 'x0_older aged', 'x0_teen', 'x0_young adult',\n",
        "           'SibSp_0', 'SibSp_1', 'SibSp_2', 'SibSp_3', 'SibSp_4', 'SibSp_5',\n",
        "           'SibSp_8', 'Parch_0', 'Parch_1', 'Parch_2', 'Parch_3', 'Parch_4',\n",
        "           'Parch_5', 'Parch_6', 'Parch_9', 'x0_Cheap', 'x0_Economy', 'x0_Premium',\n",
        "           'Embarked_C', 'Embarked_Q', 'Embarked_S', 'alive_chances',\n",
        "           'dead_chances', 'alone', 'family_size']\n",
        "  feature=[]\n",
        "  for each in feature_list:\n",
        "    if each in feature_names:\n",
        "      feature.append(each)\n",
        "  for i in feature:\n",
        "    if i in feature_names:\n",
        "      feature_names.remove(i)\n",
        "  padding=[]\n",
        "  for i in range(0,len(feature_names)):\n",
        "    zeros=list([0]*(df.shape[0]))\n",
        "    padding.append(zeros)\n",
        "  zero_padding=np.reshape(padding, (df.shape[0], len(feature_names)))\n",
        "  padding_df=pd.DataFrame(zero_padding, columns=feature_names)\n",
        "  out=pd.concat([df, padding_df], axis=1)\n",
        "  output=ordering_df(out)\n",
        "  return output"
      ],
      "metadata": {
        "id": "Yh1Jy6MkzG7J"
      },
      "execution_count": 77,
      "outputs": []
    },
    {
      "cell_type": "code",
      "source": [
        "train_feature=feature_padding(train_features)\n",
        "cv_feature=feature_padding(cv_features)\n",
        "test_feature=feature_padding(test_features)"
      ],
      "metadata": {
        "id": "IHKqaOTrzKIq"
      },
      "execution_count": 78,
      "outputs": []
    },
    {
      "cell_type": "code",
      "source": [
        "print('List of features ->', train_feature.columns)\n",
        "print('*'*80)\n",
        "print('train_features shape ->', train_feature.shape)\n",
        "print('cv_features shape ->', cv_feature.shape)\n",
        "print('test_features shape ->', test_feature.shape)"
      ],
      "metadata": {
        "colab": {
          "base_uri": "https://localhost:8080/"
        },
        "id": "I646FY9tgNr1",
        "outputId": "1f14b32f-701a-4318-ce71-57b784a0aad6"
      },
      "execution_count": 79,
      "outputs": [
        {
          "output_type": "stream",
          "name": "stdout",
          "text": [
            "List of features -> Index(['Pclass_1', 'Pclass_2', 'Pclass_3', 'title_Miss', 'title_Mr',\n",
            "       'title_Mrs', 'title_Rare', 'Sex_female', 'Sex_male', 'x0_kid',\n",
            "       'x0_middle aged adult', 'x0_older aged', 'x0_teen', 'x0_young adult',\n",
            "       'SibSp_0', 'SibSp_1', 'SibSp_2', 'SibSp_3', 'SibSp_4', 'SibSp_5',\n",
            "       'SibSp_8', 'Parch_0', 'Parch_1', 'Parch_2', 'Parch_3', 'Parch_4',\n",
            "       'Parch_5', 'Parch_6', 'Parch_9', 'x0_Cheap', 'x0_Economy', 'x0_Premium',\n",
            "       'Embarked_C', 'Embarked_Q', 'Embarked_S', 'alive_chances',\n",
            "       'dead_chances', 'alone', 'family_size'],\n",
            "      dtype='object')\n",
            "********************************************************************************\n",
            "train_features shape -> (569, 39)\n",
            "cv_features shape -> (143, 39)\n",
            "test_features shape -> (179, 39)\n"
          ]
        }
      ]
    },
    {
      "cell_type": "code",
      "source": [
        "train_feature.to_csv('train_feature.csv', index=False)\n",
        "cv_feature.to_csv('cv_feature.csv', index=False)\n",
        "test_feature.to_csv('test_feature.csv', index=False)"
      ],
      "metadata": {
        "id": "1cLijnafK8Z7"
      },
      "execution_count": 80,
      "outputs": []
    },
    {
      "cell_type": "code",
      "source": [
        "train_feature=pd.read_csv('train_feature.csv')\n",
        "cv_feature=pd.read_csv('cv_feature.csv')\n",
        "test_feature=pd.read_csv('test_feature.csv')"
      ],
      "metadata": {
        "id": "A33GWKOJ8r8v"
      },
      "execution_count": 81,
      "outputs": []
    },
    {
      "cell_type": "markdown",
      "source": [
        "## **ML Models ->**"
      ],
      "metadata": {
        "id": "VNcOKtHMKydr"
      }
    },
    {
      "cell_type": "code",
      "source": [
        "from sklearn.metrics import accuracy_score\n",
        "from sklearn.metrics import log_loss\n",
        "import numpy as np\n",
        "from sklearn.linear_model import SGDClassifier\n",
        "from sklearn.preprocessing import StandardScaler\n",
        "from sklearn.datasets import make_classification\n",
        "from sklearn.naive_bayes import GaussianNB\n",
        "from sklearn.calibration import CalibratedClassifierCV\n",
        "from sklearn.metrics import confusion_matrix\n",
        "import xgboost as xgb\n",
        "from sklearn.ensemble import RandomForestClassifier\n",
        "from sklearn.calibration import CalibratedClassifierCV"
      ],
      "metadata": {
        "id": "PMQTmdCTvm7w"
      },
      "execution_count": 82,
      "outputs": []
    },
    {
      "cell_type": "code",
      "source": [
        "# This function plots the confusion matrices given y_i, y_i_hat.\n",
        "def plot_confusion_matrix(test_y, predict_y):\n",
        "    C = confusion_matrix(test_y, predict_y)    \n",
        "    A =(((C.T)/(C.sum(axis=1))).T)\n",
        "    B =(C/C.sum(axis=0))\n",
        "    plt.figure(figsize=(20,4))\n",
        "    \n",
        "    labels = [1,2]\n",
        "    # representing A in heatmap format\n",
        "    cmap=sns.light_palette(\"blue\")\n",
        "    plt.subplot(1, 3, 1)\n",
        "    sns.heatmap(C, annot=True, cmap=cmap, fmt=\".3f\", xticklabels=labels, yticklabels=labels)\n",
        "    plt.xlabel('Predicted Class')\n",
        "    plt.ylabel('Original Class')\n",
        "    plt.title(\"Confusion matrix\")\n",
        "    \n",
        "    plt.subplot(1, 3, 2)\n",
        "    sns.heatmap(B, annot=True, cmap=cmap, fmt=\".3f\", xticklabels=labels, yticklabels=labels)\n",
        "    plt.xlabel('Predicted Class')\n",
        "    plt.ylabel('Original Class')\n",
        "    plt.title(\"Precision matrix\")\n",
        "    \n",
        "    plt.subplot(1, 3, 3)\n",
        "    # representing B in heatmap format\n",
        "    sns.heatmap(A, annot=True, cmap=cmap, fmt=\".3f\", xticklabels=labels, yticklabels=labels)\n",
        "    plt.xlabel('Predicted Class')\n",
        "    plt.ylabel('Original Class')\n",
        "    plt.title(\"Recall matrix\")\n",
        "    \n",
        "    plt.show()"
      ],
      "metadata": {
        "id": "oU7Vsq5kKyIA"
      },
      "execution_count": 83,
      "outputs": []
    },
    {
      "cell_type": "code",
      "source": [
        "#Random Model:\n",
        "predicted_y = np.zeros((len(test_feature),1))\n",
        "for i in range(len(test_feature)):\n",
        "  rand_probs = np.random.randint(low=2, size=1)\n",
        "  predicted_y[i] = rand_probs\n",
        "print(\"Log loss on Test Data using Random Model\",log_loss(y_test, predicted_y))\n",
        "print(\"Accuracy on Test Data using Random Model\",accuracy_score(y_test, predicted_y))"
      ],
      "metadata": {
        "colab": {
          "base_uri": "https://localhost:8080/"
        },
        "id": "YivtgWaxMGQX",
        "outputId": "c5632a25-43e2-4ac3-f692-e3d0358c62c5"
      },
      "execution_count": 84,
      "outputs": [
        {
          "output_type": "stream",
          "name": "stdout",
          "text": [
            "Log loss on Test Data using Random Model 19.29567382869765\n",
            "Accuracy on Test Data using Random Model 0.441340782122905\n"
          ]
        }
      ]
    },
    {
      "cell_type": "code",
      "source": [
        "#Logistic Regression Model:\n",
        "alpha = [10 ** x for x in range(-5, 2)] # hyperparam for SGD classifier.\n",
        "\n",
        "log_error_array=[]\n",
        "for i in alpha:\n",
        "    clf = SGDClassifier(alpha=i, penalty='l2', loss='log', random_state=42)\n",
        "    clf.fit(train_feature, y_train)\n",
        "    sig_clf = CalibratedClassifierCV(clf, method=\"sigmoid\")\n",
        "    sig_clf.fit(train_feature, y_train)\n",
        "    predict_y = sig_clf.predict_proba(cv_feature)\n",
        "    log_error_array.append(log_loss(y_cv, predict_y, labels=clf.classes_, eps=1e-15))\n",
        "    print('For values of alpha = ', i, \"The log loss is:\",log_loss(y_cv, predict_y, labels=clf.classes_, eps=1e-15))\n",
        "\n",
        "fig, ax = plt.subplots()\n",
        "ax.plot(alpha, log_error_array,c='g')\n",
        "for i, txt in enumerate(np.round(log_error_array,3)):\n",
        "    ax.annotate((alpha[i],np.round(txt,3)), (alpha[i],log_error_array[i]))\n",
        "plt.grid()\n",
        "plt.title(\"Cross Validation Error for each alpha\")\n",
        "plt.xlabel(\"Alpha i's\")\n",
        "plt.ylabel(\"Error measure\")\n",
        "plt.show()\n",
        "\n",
        "\n",
        "best_alpha = np.argmin(log_error_array)\n",
        "clf = SGDClassifier(alpha=alpha[best_alpha], penalty='l2', loss='log', random_state=42)\n",
        "clf.fit(train_feature, y_train)\n",
        "sig_clf = CalibratedClassifierCV(clf, method=\"sigmoid\")\n",
        "sig_clf.fit(train_feature, y_train)\n",
        "\n",
        "predict_y = sig_clf.predict_proba(train_feature)\n",
        "print('For values of best alpha = ', alpha[best_alpha], \"The train log loss is:\",log_loss(y_train, predict_y, labels=clf.classes_, eps=1e-15))\n",
        "predict_y = sig_clf.predict_proba(test_feature)\n",
        "print('For values of best alpha = ', alpha[best_alpha], \"The test log loss is:\",log_loss(y_test, predict_y, labels=clf.classes_, eps=1e-15))\n",
        "predicted_y =np.argmax(predict_y,axis=1)\n",
        "print(\"Total number of data points :\", len(predicted_y))\n",
        "plot_confusion_matrix(y_test, predicted_y)\n",
        "print(\"Accuracy on Test Data using Logistic Regression Model\",accuracy_score(y_test, predicted_y))"
      ],
      "metadata": {
        "colab": {
          "base_uri": "https://localhost:8080/",
          "height": 715
        },
        "id": "ecOw-fQxtzCb",
        "outputId": "cd67dcb3-fbbb-4d08-f152-fe34233af3a8"
      },
      "execution_count": 85,
      "outputs": [
        {
          "output_type": "stream",
          "name": "stdout",
          "text": [
            "For values of alpha =  1e-05 The log loss is: 0.5368005694288753\n",
            "For values of alpha =  0.0001 The log loss is: 0.5449477806434133\n",
            "For values of alpha =  0.001 The log loss is: 0.5104238239213136\n",
            "For values of alpha =  0.01 The log loss is: 0.5225239013517937\n",
            "For values of alpha =  0.1 The log loss is: 0.5224663238065522\n",
            "For values of alpha =  1 The log loss is: 0.5524738856839815\n",
            "For values of alpha =  10 The log loss is: 0.6123066333567421\n"
          ]
        },
        {
          "output_type": "display_data",
          "data": {
            "text/plain": [
              "<Figure size 432x288 with 1 Axes>"
            ],
            "image/png": "[encoded data removed]"
          },
          "metadata": {
            "needs_background": "light"
          }
        },
        {
          "output_type": "stream",
          "name": "stdout",
          "text": [
            "For values of best alpha =  0.001 The train log loss is: 0.3939326000247065\n",
            "For values of best alpha =  0.001 The test log loss is: 0.46994993284752085\n",
            "Total number of data points : 179\n"
          ]
        },
        {
          "output_type": "display_data",
          "data": {
            "text/plain": [
              "<Figure size 1440x288 with 6 Axes>"
            ],
            "image/png": "[encoded data removed]"
          },
          "metadata": {
            "needs_background": "light"
          }
        },
        {
          "output_type": "stream",
          "name": "stdout",
          "text": [
            "Accuracy on Test Data using Logistic Regression Model 0.7821229050279329\n"
          ]
        }
      ]
    },
    {
      "cell_type": "code",
      "source": [
        "#Linear SVM Model:\n",
        "alpha = [10 ** x for x in range(-5, 2)] # hyperparam for SGD classifier.\n",
        "\n",
        "log_error_array=[]\n",
        "for i in alpha:\n",
        "    clf = SGDClassifier(alpha=i, penalty='l1', loss='hinge', random_state=42)\n",
        "    clf.fit(train_feature, y_train)\n",
        "    sig_clf = CalibratedClassifierCV(clf, method=\"sigmoid\")\n",
        "    sig_clf.fit(train_feature, y_train)\n",
        "    predict_y = sig_clf.predict_proba(cv_feature)\n",
        "    log_error_array.append(log_loss(y_cv, predict_y, labels=clf.classes_, eps=1e-15))\n",
        "    print('For values of alpha = ', i, \"The log loss is:\",log_loss(y_cv, predict_y, labels=clf.classes_, eps=1e-15))\n",
        "\n",
        "fig, ax = plt.subplots()\n",
        "ax.plot(alpha, log_error_array,c='g')\n",
        "for i, txt in enumerate(np.round(log_error_array,3)):\n",
        "    ax.annotate((alpha[i],np.round(txt,3)), (alpha[i],log_error_array[i]))\n",
        "plt.grid()\n",
        "plt.title(\"Cross Validation Error for each alpha\")\n",
        "plt.xlabel(\"Alpha i's\")\n",
        "plt.ylabel(\"Error measure\")\n",
        "plt.show()\n",
        "\n",
        "\n",
        "best_alpha = np.argmin(log_error_array)\n",
        "clf = SGDClassifier(alpha=alpha[best_alpha], penalty='l1', loss='hinge', random_state=42)\n",
        "clf.fit(train_feature, y_train)\n",
        "sig_clf = CalibratedClassifierCV(clf, method=\"sigmoid\")\n",
        "sig_clf.fit(train_feature, y_train)\n",
        "\n",
        "predict_y = sig_clf.predict_proba(train_feature)\n",
        "print('For values of best alpha = ', alpha[best_alpha], \"The train log loss is:\",log_loss(y_train, predict_y, labels=clf.classes_, eps=1e-15))\n",
        "predict_y = sig_clf.predict_proba(test_feature)\n",
        "print('For values of best alpha = ', alpha[best_alpha], \"The test log loss is:\",log_loss(y_test, predict_y, labels=clf.classes_, eps=1e-15))\n",
        "predicted_y =np.argmax(predict_y,axis=1)\n",
        "print(\"Total number of data points :\", len(predicted_y))\n",
        "plot_confusion_matrix(y_test, predicted_y)\n",
        "print(\"Accuracy on Test Data using Linear SVM Model\",accuracy_score(y_test, predicted_y))"
      ],
      "metadata": {
        "colab": {
          "base_uri": "https://localhost:8080/",
          "height": 715
        },
        "id": "LN-Et15i1dSz",
        "outputId": "0ddfc383-3655-4b4a-e65e-800d16ede40b"
      },
      "execution_count": 86,
      "outputs": [
        {
          "output_type": "stream",
          "name": "stdout",
          "text": [
            "For values of alpha =  1e-05 The log loss is: 0.5423737668307234\n",
            "For values of alpha =  0.0001 The log loss is: 0.5488249954259549\n",
            "For values of alpha =  0.001 The log loss is: 0.5146872094406495\n",
            "For values of alpha =  0.01 The log loss is: 0.5078786473191169\n",
            "For values of alpha =  0.1 The log loss is: 0.5074381391299564\n",
            "For values of alpha =  1 The log loss is: 0.6662822935471804\n",
            "For values of alpha =  10 The log loss is: 0.6662822935690822\n"
          ]
        },
        {
          "output_type": "display_data",
          "data": {
            "text/plain": [
              "<Figure size 432x288 with 1 Axes>"
            ],
            "image/png": "[encoded data removed]"
          },
          "metadata": {
            "needs_background": "light"
          }
        },
        {
          "output_type": "stream",
          "name": "stdout",
          "text": [
            "For values of best alpha =  0.1 The train log loss is: 0.5015871415756543\n",
            "For values of best alpha =  0.1 The test log loss is: 0.5172258476515429\n",
            "Total number of data points : 179\n"
          ]
        },
        {
          "output_type": "display_data",
          "data": {
            "text/plain": [
              "<Figure size 1440x288 with 6 Axes>"
            ],
            "image/png": "[encoded data removed]"
          },
          "metadata": {
            "needs_background": "light"
          }
        },
        {
          "output_type": "stream",
          "name": "stdout",
          "text": [
            "Accuracy on Test Data using Linear SVM Model 0.770949720670391\n"
          ]
        }
      ]
    },
    {
      "cell_type": "code",
      "source": [
        "#Random Forest:\n",
        "alpha = [100,200,500,1000,2000]\n",
        "max_depth = [5, 10]\n",
        "cv_log_error_array = []\n",
        "for i in alpha:\n",
        "    for j in max_depth:\n",
        "        print(\"for n_estimators =\", i,\"and max depth = \", j)\n",
        "        clf = RandomForestClassifier(n_estimators=i, criterion='gini', max_depth=j, random_state=42, n_jobs=-1)\n",
        "        clf.fit(train_feature, y_train)\n",
        "        sig_clf = CalibratedClassifierCV(clf, method=\"sigmoid\")\n",
        "        sig_clf.fit(train_feature, y_train)\n",
        "        sig_clf_probs = sig_clf.predict_proba(cv_feature)\n",
        "        cv_log_error_array.append(log_loss(y_cv, sig_clf_probs, labels=clf.classes_, eps=1e-15))\n",
        "        print(\"Log Loss :\",log_loss(y_cv, sig_clf_probs)) \n",
        "\n",
        "best_alpha = np.argmin(cv_log_error_array)\n",
        "clf = RandomForestClassifier(n_estimators=alpha[int(best_alpha/2)], criterion='gini', max_depth=max_depth[int(best_alpha%2)], random_state=42, n_jobs=-1)\n",
        "clf.fit(train_feature, y_train)\n",
        "sig_clf = CalibratedClassifierCV(clf, method=\"sigmoid\")\n",
        "sig_clf.fit(train_feature, y_train)\n",
        "\n",
        "predict_y = sig_clf.predict_proba(train_feature)\n",
        "print('For values of best estimator = ', alpha[int(best_alpha/2)], \"The train log loss is:\",log_loss(y_train, predict_y, labels=clf.classes_, eps=1e-15))\n",
        "predict_y = sig_clf.predict_proba(cv_feature)\n",
        "print('For values of best estimator = ', alpha[int(best_alpha/2)], \"The cross validation log loss is:\",log_loss(y_cv, predict_y, labels=clf.classes_, eps=1e-15))\n",
        "predict_y = sig_clf.predict(test_feature)\n",
        "print('For values of best estimator = ', alpha[int(best_alpha/2)], \"The test log loss is:\",log_loss(y_test, predict_y, labels=clf.classes_, eps=1e-15))\n",
        "plot_confusion_matrix(y_test, predict_y)\n",
        "print(\"Accuracy on Test Data using Random Forest Model\",accuracy_score(y_test, predict_y))"
      ],
      "metadata": {
        "colab": {
          "base_uri": "https://localhost:8080/",
          "height": 663
        },
        "id": "c9svtivVP7xl",
        "outputId": "9e5dc7b2-943d-43f8-a3de-63f1463259eb"
      },
      "execution_count": 87,
      "outputs": [
        {
          "output_type": "stream",
          "name": "stdout",
          "text": [
            "for n_estimators = 100 and max depth =  5\n",
            "Log Loss : 0.4801045065782123\n",
            "for n_estimators = 100 and max depth =  10\n",
            "Log Loss : 0.5035935917928003\n",
            "for n_estimators = 200 and max depth =  5\n",
            "Log Loss : 0.47502776281902587\n",
            "for n_estimators = 200 and max depth =  10\n",
            "Log Loss : 0.498715249420223\n",
            "for n_estimators = 500 and max depth =  5\n",
            "Log Loss : 0.47419755000094954\n",
            "for n_estimators = 500 and max depth =  10\n",
            "Log Loss : 0.4988442765639539\n",
            "for n_estimators = 1000 and max depth =  5\n",
            "Log Loss : 0.47428784324128587\n",
            "for n_estimators = 1000 and max depth =  10\n",
            "Log Loss : 0.49763937413804277\n",
            "for n_estimators = 2000 and max depth =  5\n",
            "Log Loss : 0.47481216733958553\n",
            "for n_estimators = 2000 and max depth =  10\n",
            "Log Loss : 0.4982889497868276\n",
            "For values of best estimator =  500 The train log loss is: 0.36745440740765317\n",
            "For values of best estimator =  500 The cross validation log loss is: 0.47419755000094954\n",
            "For values of best estimator =  500 The test log loss is: 6.753472438969931\n"
          ]
        },
        {
          "output_type": "display_data",
          "data": {
            "text/plain": [
              "<Figure size 1440x288 with 6 Axes>"
            ],
            "image/png": "[encoded data removed]"
          },
          "metadata": {
            "needs_background": "light"
          }
        },
        {
          "output_type": "stream",
          "name": "stdout",
          "text": [
            "Accuracy on Test Data using Random Forest Model 0.8044692737430168\n"
          ]
        }
      ]
    },
    {
      "cell_type": "code",
      "source": [
        "#XG Boost Model:\n",
        "params = {}\n",
        "params['objective'] = 'binary:logistic'\n",
        "params['eval_metric'] = 'logloss'\n",
        "params['eta'] = 0.02\n",
        "params['max_depth'] = 4\n",
        "\n",
        "d_train = xgb.DMatrix(train_feature, label=y_train)\n",
        "d_test = xgb.DMatrix(test_feature, label=y_test)\n",
        "\n",
        "watchlist = [(d_train, 'train'), (d_test, 'valid')]\n",
        "\n",
        "bst = xgb.train(params, d_train, 400, watchlist, early_stopping_rounds=20, verbose_eval=10)\n",
        "\n",
        "xgdmat = xgb.DMatrix(train_feature,y_train)\n",
        "predict_y = bst.predict(d_test)\n",
        "print(\"The test log loss is:\",log_loss(y_test, predict_y, labels=clf.classes_, eps=1e-15))\n",
        "predicted_y =np.array(predict_y>0.5,dtype=int)\n",
        "print(\"Total number of data points :\", len(predicted_y))\n",
        "plot_confusion_matrix(y_test, predicted_y)\n",
        "print(\"Accuracy on Test Data using XgBoost Model\",accuracy_score(y_test, predicted_y))"
      ],
      "metadata": {
        "colab": {
          "base_uri": "https://localhost:8080/",
          "height": 645
        },
        "id": "LLlNBbwU2Mia",
        "outputId": "5c9ad820-b746-47bc-82e9-07ccea983ca7"
      },
      "execution_count": 88,
      "outputs": [
        {
          "output_type": "stream",
          "name": "stdout",
          "text": [
            "[0]\ttrain-logloss:0.682865\tvalid-logloss:0.683569\n",
            "Multiple eval metrics have been passed: 'valid-logloss' will be used for early stopping.\n",
            "\n",
            "Will train until valid-logloss hasn't improved in 20 rounds.\n",
            "[10]\ttrain-logloss:0.599556\tvalid-logloss:0.608268\n",
            "[20]\ttrain-logloss:0.540676\tvalid-logloss:0.555515\n",
            "[30]\ttrain-logloss:0.497368\tvalid-logloss:0.517761\n",
            "[40]\ttrain-logloss:0.464879\tvalid-logloss:0.490784\n",
            "[50]\ttrain-logloss:0.438772\tvalid-logloss:0.470309\n",
            "[60]\ttrain-logloss:0.418363\tvalid-logloss:0.455376\n",
            "[70]\ttrain-logloss:0.402523\tvalid-logloss:0.445634\n",
            "[80]\ttrain-logloss:0.390215\tvalid-logloss:0.438142\n",
            "[90]\ttrain-logloss:0.380335\tvalid-logloss:0.433296\n",
            "[100]\ttrain-logloss:0.371941\tvalid-logloss:0.42972\n",
            "[110]\ttrain-logloss:0.364638\tvalid-logloss:0.427423\n",
            "[120]\ttrain-logloss:0.358398\tvalid-logloss:0.426815\n",
            "[130]\ttrain-logloss:0.353425\tvalid-logloss:0.427643\n",
            "Stopping. Best iteration:\n",
            "[118]\ttrain-logloss:0.359554\tvalid-logloss:0.426641\n",
            "\n",
            "The test log loss is: 0.42806896407094747\n",
            "Total number of data points : 179\n"
          ]
        },
        {
          "output_type": "display_data",
          "data": {
            "text/plain": [
              "<Figure size 1440x288 with 6 Axes>"
            ],
            "image/png": "[encoded data removed]"
          },
          "metadata": {
            "needs_background": "light"
          }
        },
        {
          "output_type": "stream",
          "name": "stdout",
          "text": [
            "Accuracy on Test Data using XgBoost Model 0.8156424581005587\n"
          ]
        }
      ]
    },
    {
      "cell_type": "code",
      "source": [
        "import matplotlib.pyplot as plt\n",
        "from xgboost import plot_importance, XGBClassifier\n",
        "#https://stackoverflow.com/questions/37627923/how-to-get-feature-importance-in-xgboost\n",
        "\n",
        "model = XGBClassifier()\n",
        "model.fit(train_feature,y_train)\n",
        "plot_importance(model, importance_type = 'gain') # other options available\n",
        "plt.show()\n",
        "model.get_booster().get_score(importance_type = 'gain')"
      ],
      "metadata": {
        "colab": {
          "base_uri": "https://localhost:8080/",
          "height": 798
        },
        "id": "6_CUdjUkWPLX",
        "outputId": "723f1060-0b23-4346-9a72-381b400e4994"
      },
      "execution_count": 89,
      "outputs": [
        {
          "output_type": "display_data",
          "data": {
            "text/plain": [
              "<Figure size 432x288 with 1 Axes>"
            ],
            "image/png": "[encoded data removed]"
          },
          "metadata": {
            "needs_background": "light"
          }
        },
        {
          "output_type": "execute_result",
          "data": {
            "text/plain": [
              "{'Embarked_C': 1.5889571736428572,\n",
              " 'Embarked_Q': 1.003181874117647,\n",
              " 'Embarked_S': 1.4591588453124997,\n",
              " 'Parch_0': 0.6990689633333332,\n",
              " 'Parch_1': 1.5946852166666667,\n",
              " 'Parch_2': 1.2254222,\n",
              " 'Pclass_1': 3.773913783171428,\n",
              " 'Pclass_2': 0.44029109666666666,\n",
              " 'Pclass_3': 8.577470738488374,\n",
              " 'Sex_female': 27.31643697576471,\n",
              " 'SibSp_0': 1.3490936381875,\n",
              " 'SibSp_1': 1.7271823795,\n",
              " 'SibSp_2': 0.28561098199999996,\n",
              " 'SibSp_3': 0.8659784700000001,\n",
              " 'SibSp_4': 1.9677002267857142,\n",
              " 'alive_chances': 1.0024956375674998,\n",
              " 'alone': 1.2920026193142857,\n",
              " 'family_size': 1.042632700264151,\n",
              " 'title_Miss': 1.0601314471,\n",
              " 'title_Mr': 6.460089190533334,\n",
              " 'title_Mrs': 0.877913325935294,\n",
              " 'title_Rare': 0.31817265085714286,\n",
              " 'x0_Cheap': 1.41433240475,\n",
              " 'x0_Economy': 0.5037858712620689,\n",
              " 'x0_Premium': 0.4250884481428571,\n",
              " 'x0_kid': 2.313390580486487,\n",
              " 'x0_middle aged adult': 1.1251378597575759,\n",
              " 'x0_older aged': 1.3624088027777779,\n",
              " 'x0_young adult': 1.3081865608333334}"
            ]
          },
          "metadata": {},
          "execution_count": 89
        }
      ]
    },
    {
      "cell_type": "markdown",
      "source": [
        "## ***gender_submission.csv for Kaggle Competition ->***"
      ],
      "metadata": {
        "id": "LvM-di1TIMlV"
      }
    },
    {
      "cell_type": "code",
      "source": [
        "def final_feature(df):\n",
        "\n",
        "#Pclass, SibSp, Parch\n",
        "  df_Pclass=OneHot_feature(df, 'Pclass')\n",
        "  df_SibSp=OneHot_feature(df, 'SibSp')\n",
        "  df_Parch=OneHot_feature(df, 'Parch')\n",
        "#title\n",
        "  Name=title_feature(df)\n",
        "  df_title=OneHot_feature(Name, 'title')\n",
        "#Sex\n",
        "  df_Sex=OneHot_feature(df, 'Sex')\n",
        "#Age\n",
        "  mean_age=29.69911764705882\n",
        "  df['Age'].fillna(mean_age,inplace=True)\n",
        "  df_AgeBand_feature=AgeBands(df)\n",
        "  df_Age=OneHot_feature(df_AgeBand_feature, 0)\n",
        "#fare\n",
        "  avg_fare=25\n",
        "  df['Fare'].fillna(avg_fare, inplace=True)\n",
        "  df_feature_fare=fare_tags(df)\n",
        "  df_fare=OneHot_feature(df_feature_fare, 0)\n",
        "#Embarked\n",
        "  df['Embarked'].fillna('S', inplace=True)\n",
        "  df_Embarked=OneHot_feature(df, 'Embarked')\n",
        "#Chances\n",
        "  df_Chances=Get_feature(df)\n",
        "#IS_alone\n",
        "  df_alone=Is_alone(df)\n",
        "#family_size\n",
        "  df_family_size=family_size(df)\n",
        "#concating\n",
        "  df_features=pd.concat([df_Pclass, df_title, df_Sex, df_Age, df_SibSp, df_Parch, df_fare,df_Embarked, df_Chances, df_alone, df_family_size], axis=1)\n",
        "#padding_features\n",
        "  df_feature=feature_padding(df_features)\n",
        "  print(df_feature.shape)\n",
        "  print(df_feature.columns)\n",
        "\n",
        "  return df_feature"
      ],
      "metadata": {
        "id": "qq4yD8UZINIj"
      },
      "execution_count": 90,
      "outputs": []
    },
    {
      "cell_type": "code",
      "source": [
        "train_y=train_df['Survived']\n",
        "train_x=final_feature(train_df)\n",
        "\n",
        "print(train_x)\n",
        "print(train_y.shape)"
      ],
      "metadata": {
        "colab": {
          "base_uri": "https://localhost:8080/"
        },
        "id": "KrxFpRUBpwAp",
        "outputId": "c352bf68-b6ea-466a-9e64-f7561a86c321"
      },
      "execution_count": 91,
      "outputs": [
        {
          "output_type": "stream",
          "name": "stdout",
          "text": [
            "(891, 39)\n",
            "Index(['Pclass_1', 'Pclass_2', 'Pclass_3', 'title_Miss', 'title_Mr',\n",
            "       'title_Mrs', 'title_Rare', 'Sex_female', 'Sex_male', 'x0_kid',\n",
            "       'x0_middle aged adult', 'x0_older aged', 'x0_teen', 'x0_young adult',\n",
            "       'SibSp_0', 'SibSp_1', 'SibSp_2', 'SibSp_3', 'SibSp_4', 'SibSp_5',\n",
            "       'SibSp_8', 'Parch_0', 'Parch_1', 'Parch_2', 'Parch_3', 'Parch_4',\n",
            "       'Parch_5', 'Parch_6', 'Parch_9', 'x0_Cheap', 'x0_Economy', 'x0_Premium',\n",
            "       'Embarked_C', 'Embarked_Q', 'Embarked_S', 'alive_chances',\n",
            "       'dead_chances', 'alone', 'family_size'],\n",
            "      dtype='object')\n",
            "     Pclass_1  Pclass_2  Pclass_3  title_Miss  title_Mr  title_Mrs  \\\n",
            "0           0         0         1           0         1          0   \n",
            "1           1         0         0           0         0          1   \n",
            "2           0         0         1           1         0          0   \n",
            "3           1         0         0           0         0          1   \n",
            "4           0         0         1           0         1          0   \n",
            "..        ...       ...       ...         ...       ...        ...   \n",
            "886         0         1         0           0         0          0   \n",
            "887         1         0         0           1         0          0   \n",
            "888         0         0         1           1         0          0   \n",
            "889         1         0         0           0         1          0   \n",
            "890         0         0         1           0         1          0   \n",
            "\n",
            "     title_Rare  Sex_female  Sex_male  x0_kid  ...  x0_Cheap  x0_Economy  \\\n",
            "0             0           0         1       0  ...         1           0   \n",
            "1             0           1         0       0  ...         0           0   \n",
            "2             0           1         0       0  ...         1           0   \n",
            "3             0           1         0       0  ...         0           0   \n",
            "4             0           0         1       0  ...         1           0   \n",
            "..          ...         ...       ...     ...  ...       ...         ...   \n",
            "886           1           0         1       0  ...         1           0   \n",
            "887           0           1         0       0  ...         0           1   \n",
            "888           0           1         0       0  ...         0           1   \n",
            "889           0           0         1       0  ...         0           1   \n",
            "890           0           0         1       0  ...         1           0   \n",
            "\n",
            "     x0_Premium  Embarked_C  Embarked_Q  Embarked_S  alive_chances  \\\n",
            "0             0           0           0           1           0.19   \n",
            "1             1           1           0           0           0.69   \n",
            "2             0           0           0           1           0.19   \n",
            "3             1           0           0           1           0.59   \n",
            "4             0           0           0           1           0.19   \n",
            "..          ...         ...         ...         ...            ...   \n",
            "886           0           0           0           1           0.46   \n",
            "887           0           0           0           1           0.59   \n",
            "888           0           0           0           1           0.19   \n",
            "889           0           1           0           0           0.69   \n",
            "890           0           0           1           0           0.38   \n",
            "\n",
            "     dead_chances  alone  family_size  \n",
            "0            0.81      0            2  \n",
            "1            0.31      0            2  \n",
            "2            0.81      1            1  \n",
            "3            0.41      0            2  \n",
            "4            0.81      1            1  \n",
            "..            ...    ...          ...  \n",
            "886          0.54      1            1  \n",
            "887          0.41      1            1  \n",
            "888          0.81      0            4  \n",
            "889          0.31      1            1  \n",
            "890          0.62      1            1  \n",
            "\n",
            "[891 rows x 39 columns]\n",
            "(891,)\n"
          ]
        }
      ]
    },
    {
      "cell_type": "code",
      "source": [
        "test_x=final_feature(test_df)\n",
        "\n",
        "test_x"
      ],
      "metadata": {
        "colab": {
          "base_uri": "https://localhost:8080/",
          "height": 661
        },
        "id": "Qug4sarYp10a",
        "outputId": "c8d24db3-2060-4a1a-a76b-db825d0842c4"
      },
      "execution_count": 92,
      "outputs": [
        {
          "output_type": "stream",
          "name": "stdout",
          "text": [
            "(418, 39)\n",
            "Index(['Pclass_1', 'Pclass_2', 'Pclass_3', 'title_Miss', 'title_Mr',\n",
            "       'title_Mrs', 'title_Rare', 'Sex_female', 'Sex_male', 'x0_kid',\n",
            "       'x0_middle aged adult', 'x0_older aged', 'x0_teen', 'x0_young adult',\n",
            "       'SibSp_0', 'SibSp_1', 'SibSp_2', 'SibSp_3', 'SibSp_4', 'SibSp_5',\n",
            "       'SibSp_8', 'Parch_0', 'Parch_1', 'Parch_2', 'Parch_3', 'Parch_4',\n",
            "       'Parch_5', 'Parch_6', 'Parch_9', 'x0_Cheap', 'x0_Economy', 'x0_Premium',\n",
            "       'Embarked_C', 'Embarked_Q', 'Embarked_S', 'alive_chances',\n",
            "       'dead_chances', 'alone', 'family_size'],\n",
            "      dtype='object')\n"
          ]
        },
        {
          "output_type": "execute_result",
          "data": {
            "text/plain": [
              "     Pclass_1  Pclass_2  Pclass_3  title_Miss  title_Mr  title_Mrs  \\\n",
              "0           0         0         1           0         1          0   \n",
              "1           0         0         1           0         0          1   \n",
              "2           0         1         0           0         1          0   \n",
              "3           0         0         1           0         1          0   \n",
              "4           0         0         1           0         0          1   \n",
              "..        ...       ...       ...         ...       ...        ...   \n",
              "413         0         0         1           0         1          0   \n",
              "414         1         0         0           0         0          0   \n",
              "415         0         0         1           0         1          0   \n",
              "416         0         0         1           0         1          0   \n",
              "417         0         0         1           0         0          0   \n",
              "\n",
              "     title_Rare  Sex_female  Sex_male  x0_kid  ...  x0_Cheap  x0_Economy  \\\n",
              "0             0           0         1       0  ...         1           0   \n",
              "1             0           1         0       0  ...         0           0   \n",
              "2             0           0         1       0  ...         1           0   \n",
              "3             0           0         1       0  ...         0           0   \n",
              "4             0           1         0       0  ...         1           0   \n",
              "..          ...         ...       ...     ...  ...       ...         ...   \n",
              "413           0           0         1       0  ...         1           0   \n",
              "414           1           1         0       0  ...         1           0   \n",
              "415           0           0         1       0  ...         1           0   \n",
              "416           0           0         1       0  ...         0           1   \n",
              "417           1           0         1       0  ...         1           0   \n",
              "\n",
              "     x0_Premium  Embarked_C  Embarked_Q  Embarked_S  alive_chances  \\\n",
              "0             0           0           1           0           0.19   \n",
              "1             1           0           0           1           0.69   \n",
              "2             0           0           1           0           0.19   \n",
              "3             1           0           0           1           0.59   \n",
              "4             0           0           0           1           0.19   \n",
              "..          ...         ...         ...         ...            ...   \n",
              "413           0           0           0           1           0.46   \n",
              "414           0           1           0           0           0.19   \n",
              "415           0           0           0           1           0.19   \n",
              "416           0           0           0           1           0.46   \n",
              "417           0           1           0           0           0.46   \n",
              "\n",
              "     dead_chances  alone  family_size  \n",
              "0            0.81      1            2  \n",
              "1            0.31      0            2  \n",
              "2            0.81      1            1  \n",
              "3            0.41      1            2  \n",
              "4            0.81      0            1  \n",
              "..            ...    ...          ...  \n",
              "413          0.54      1            1  \n",
              "414          0.81      1            1  \n",
              "415          0.81      1            1  \n",
              "416          0.54      1            3  \n",
              "417          0.54      0            3  \n",
              "\n",
              "[418 rows x 39 columns]"
            ],
            "text/html": [
              "\n",
              "  <div id=\"df-ed4dab2f-d6d6-4d39-8f15-e775ffcaed8c\">\n",
              "    <div class=\"colab-df-container\">\n",
              "      <div>\n",
              "<style scoped>\n",
              "    .dataframe tbody tr th:only-of-type {\n",
              "        vertical-align: middle;\n",
              "    }\n",
              "\n",
              "    .dataframe tbody tr th {\n",
              "        vertical-align: top;\n",
              "    }\n",
              "\n",
              "    .dataframe thead th {\n",
              "        text-align: right;\n",
              "    }\n",
              "</style>\n",
              "<table border=\"1\" class=\"dataframe\">\n",
              "  <thead>\n",
              "    <tr style=\"text-align: right;\">\n",
              "      <th></th>\n",
              "      <th>Pclass_1</th>\n",
              "      <th>Pclass_2</th>\n",
              "      <th>Pclass_3</th>\n",
              "      <th>title_Miss</th>\n",
              "      <th>title_Mr</th>\n",
              "      <th>title_Mrs</th>\n",
              "      <th>title_Rare</th>\n",
              "      <th>Sex_female</th>\n",
              "      <th>Sex_male</th>\n",
              "      <th>x0_kid</th>\n",
              "      <th>...</th>\n",
              "      <th>x0_Cheap</th>\n",
              "      <th>x0_Economy</th>\n",
              "      <th>x0_Premium</th>\n",
              "      <th>Embarked_C</th>\n",
              "      <th>Embarked_Q</th>\n",
              "      <th>Embarked_S</th>\n",
              "      <th>alive_chances</th>\n",
              "      <th>dead_chances</th>\n",
              "      <th>alone</th>\n",
              "      <th>family_size</th>\n",
              "    </tr>\n",
              "  </thead>\n",
              "  <tbody>\n",
              "    <tr>\n",
              "      <th>0</th>\n",
              "      <td>0</td>\n",
              "      <td>0</td>\n",
              "      <td>1</td>\n",
              "      <td>0</td>\n",
              "      <td>1</td>\n",
              "      <td>0</td>\n",
              "      <td>0</td>\n",
              "      <td>0</td>\n",
              "      <td>1</td>\n",
              "      <td>0</td>\n",
              "      <td>...</td>\n",
              "      <td>1</td>\n",
              "      <td>0</td>\n",
              "      <td>0</td>\n",
              "      <td>0</td>\n",
              "      <td>1</td>\n",
              "      <td>0</td>\n",
              "      <td>0.19</td>\n",
              "      <td>0.81</td>\n",
              "      <td>1</td>\n",
              "      <td>2</td>\n",
              "    </tr>\n",
              "    <tr>\n",
              "      <th>1</th>\n",
              "      <td>0</td>\n",
              "      <td>0</td>\n",
              "      <td>1</td>\n",
              "      <td>0</td>\n",
              "      <td>0</td>\n",
              "      <td>1</td>\n",
              "      <td>0</td>\n",
              "      <td>1</td>\n",
              "      <td>0</td>\n",
              "      <td>0</td>\n",
              "      <td>...</td>\n",
              "      <td>0</td>\n",
              "      <td>0</td>\n",
              "      <td>1</td>\n",
              "      <td>0</td>\n",
              "      <td>0</td>\n",
              "      <td>1</td>\n",
              "      <td>0.69</td>\n",
              "      <td>0.31</td>\n",
              "      <td>0</td>\n",
              "      <td>2</td>\n",
              "    </tr>\n",
              "    <tr>\n",
              "      <th>2</th>\n",
              "      <td>0</td>\n",
              "      <td>1</td>\n",
              "      <td>0</td>\n",
              "      <td>0</td>\n",
              "      <td>1</td>\n",
              "      <td>0</td>\n",
              "      <td>0</td>\n",
              "      <td>0</td>\n",
              "      <td>1</td>\n",
              "      <td>0</td>\n",
              "      <td>...</td>\n",
              "      <td>1</td>\n",
              "      <td>0</td>\n",
              "      <td>0</td>\n",
              "      <td>0</td>\n",
              "      <td>1</td>\n",
              "      <td>0</td>\n",
              "      <td>0.19</td>\n",
              "      <td>0.81</td>\n",
              "      <td>1</td>\n",
              "      <td>1</td>\n",
              "    </tr>\n",
              "    <tr>\n",
              "      <th>3</th>\n",
              "      <td>0</td>\n",
              "      <td>0</td>\n",
              "      <td>1</td>\n",
              "      <td>0</td>\n",
              "      <td>1</td>\n",
              "      <td>0</td>\n",
              "      <td>0</td>\n",
              "      <td>0</td>\n",
              "      <td>1</td>\n",
              "      <td>0</td>\n",
              "      <td>...</td>\n",
              "      <td>0</td>\n",
              "      <td>0</td>\n",
              "      <td>1</td>\n",
              "      <td>0</td>\n",
              "      <td>0</td>\n",
              "      <td>1</td>\n",
              "      <td>0.59</td>\n",
              "      <td>0.41</td>\n",
              "      <td>1</td>\n",
              "      <td>2</td>\n",
              "    </tr>\n",
              "    <tr>\n",
              "      <th>4</th>\n",
              "      <td>0</td>\n",
              "      <td>0</td>\n",
              "      <td>1</td>\n",
              "      <td>0</td>\n",
              "      <td>0</td>\n",
              "      <td>1</td>\n",
              "      <td>0</td>\n",
              "      <td>1</td>\n",
              "      <td>0</td>\n",
              "      <td>0</td>\n",
              "      <td>...</td>\n",
              "      <td>1</td>\n",
              "      <td>0</td>\n",
              "      <td>0</td>\n",
              "      <td>0</td>\n",
              "      <td>0</td>\n",
              "      <td>1</td>\n",
              "      <td>0.19</td>\n",
              "      <td>0.81</td>\n",
              "      <td>0</td>\n",
              "      <td>1</td>\n",
              "    </tr>\n",
              "    <tr>\n",
              "      <th>...</th>\n",
              "      <td>...</td>\n",
              "      <td>...</td>\n",
              "      <td>...</td>\n",
              "      <td>...</td>\n",
              "      <td>...</td>\n",
              "      <td>...</td>\n",
              "      <td>...</td>\n",
              "      <td>...</td>\n",
              "      <td>...</td>\n",
              "      <td>...</td>\n",
              "      <td>...</td>\n",
              "      <td>...</td>\n",
              "      <td>...</td>\n",
              "      <td>...</td>\n",
              "      <td>...</td>\n",
              "      <td>...</td>\n",
              "      <td>...</td>\n",
              "      <td>...</td>\n",
              "      <td>...</td>\n",
              "      <td>...</td>\n",
              "      <td>...</td>\n",
              "    </tr>\n",
              "    <tr>\n",
              "      <th>413</th>\n",
              "      <td>0</td>\n",
              "      <td>0</td>\n",
              "      <td>1</td>\n",
              "      <td>0</td>\n",
              "      <td>1</td>\n",
              "      <td>0</td>\n",
              "      <td>0</td>\n",
              "      <td>0</td>\n",
              "      <td>1</td>\n",
              "      <td>0</td>\n",
              "      <td>...</td>\n",
              "      <td>1</td>\n",
              "      <td>0</td>\n",
              "      <td>0</td>\n",
              "      <td>0</td>\n",
              "      <td>0</td>\n",
              "      <td>1</td>\n",
              "      <td>0.46</td>\n",
              "      <td>0.54</td>\n",
              "      <td>1</td>\n",
              "      <td>1</td>\n",
              "    </tr>\n",
              "    <tr>\n",
              "      <th>414</th>\n",
              "      <td>1</td>\n",
              "      <td>0</td>\n",
              "      <td>0</td>\n",
              "      <td>0</td>\n",
              "      <td>0</td>\n",
              "      <td>0</td>\n",
              "      <td>1</td>\n",
              "      <td>1</td>\n",
              "      <td>0</td>\n",
              "      <td>0</td>\n",
              "      <td>...</td>\n",
              "      <td>1</td>\n",
              "      <td>0</td>\n",
              "      <td>0</td>\n",
              "      <td>1</td>\n",
              "      <td>0</td>\n",
              "      <td>0</td>\n",
              "      <td>0.19</td>\n",
              "      <td>0.81</td>\n",
              "      <td>1</td>\n",
              "      <td>1</td>\n",
              "    </tr>\n",
              "    <tr>\n",
              "      <th>415</th>\n",
              "      <td>0</td>\n",
              "      <td>0</td>\n",
              "      <td>1</td>\n",
              "      <td>0</td>\n",
              "      <td>1</td>\n",
              "      <td>0</td>\n",
              "      <td>0</td>\n",
              "      <td>0</td>\n",
              "      <td>1</td>\n",
              "      <td>0</td>\n",
              "      <td>...</td>\n",
              "      <td>1</td>\n",
              "      <td>0</td>\n",
              "      <td>0</td>\n",
              "      <td>0</td>\n",
              "      <td>0</td>\n",
              "      <td>1</td>\n",
              "      <td>0.19</td>\n",
              "      <td>0.81</td>\n",
              "      <td>1</td>\n",
              "      <td>1</td>\n",
              "    </tr>\n",
              "    <tr>\n",
              "      <th>416</th>\n",
              "      <td>0</td>\n",
              "      <td>0</td>\n",
              "      <td>1</td>\n",
              "      <td>0</td>\n",
              "      <td>1</td>\n",
              "      <td>0</td>\n",
              "      <td>0</td>\n",
              "      <td>0</td>\n",
              "      <td>1</td>\n",
              "      <td>0</td>\n",
              "      <td>...</td>\n",
              "      <td>0</td>\n",
              "      <td>1</td>\n",
              "      <td>0</td>\n",
              "      <td>0</td>\n",
              "      <td>0</td>\n",
              "      <td>1</td>\n",
              "      <td>0.46</td>\n",
              "      <td>0.54</td>\n",
              "      <td>1</td>\n",
              "      <td>3</td>\n",
              "    </tr>\n",
              "    <tr>\n",
              "      <th>417</th>\n",
              "      <td>0</td>\n",
              "      <td>0</td>\n",
              "      <td>1</td>\n",
              "      <td>0</td>\n",
              "      <td>0</td>\n",
              "      <td>0</td>\n",
              "      <td>1</td>\n",
              "      <td>0</td>\n",
              "      <td>1</td>\n",
              "      <td>0</td>\n",
              "      <td>...</td>\n",
              "      <td>1</td>\n",
              "      <td>0</td>\n",
              "      <td>0</td>\n",
              "      <td>1</td>\n",
              "      <td>0</td>\n",
              "      <td>0</td>\n",
              "      <td>0.46</td>\n",
              "      <td>0.54</td>\n",
              "      <td>0</td>\n",
              "      <td>3</td>\n",
              "    </tr>\n",
              "  </tbody>\n",
              "</table>\n",
              "<p>418 rows × 39 columns</p>\n",
              "</div>\n",
              "      <button class=\"colab-df-convert\" onclick=\"convertToInteractive('df-ed4dab2f-d6d6-4d39-8f15-e775ffcaed8c')\"\n",
              "              title=\"Convert this dataframe to an interactive table.\"\n",
              "              style=\"display:none;\">\n",
              "        \n",
              "  <svg xmlns=\"http://www.w3.org/2000/svg\" height=\"24px\"viewBox=\"0 0 24 24\"\n",
              "       width=\"24px\">\n",
              "    <path d=\"M0 0h24v24H0V0z\" fill=\"none\"/>\n",
              "    <path d=\"M18.56 5.44l.94 2.06.94-2.06 2.06-.94-2.06-.94-.94-2.06-.94 2.06-2.06.94zm-11 1L8.5 8.5l.94-2.06 2.06-.94-2.06-.94L8.5 2.5l-.94 2.06-2.06.94zm10 10l.94 2.06.94-2.06 2.06-.94-2.06-.94-.94-2.06-.94 2.06-2.06.94z\"/><path d=\"M17.41 7.96l-1.37-1.37c-.4-.4-.92-.59-1.43-.59-.52 0-1.04.2-1.43.59L10.3 9.45l-7.72 7.72c-.78.78-.78 2.05 0 2.83L4 21.41c.39.39.9.59 1.41.59.51 0 1.02-.2 1.41-.59l7.78-7.78 2.81-2.81c.8-.78.8-2.07 0-2.86zM5.41 20L4 18.59l7.72-7.72 1.47 1.35L5.41 20z\"/>\n",
              "  </svg>\n",
              "      </button>\n",
              "      \n",
              "  <style>\n",
              "    .colab-df-container {\n",
              "      display:flex;\n",
              "      flex-wrap:wrap;\n",
              "      gap: 12px;\n",
              "    }\n",
              "\n",
              "    .colab-df-convert {\n",
              "      background-color: #E8F0FE;\n",
              "      border: none;\n",
              "      border-radius: 50%;\n",
              "      cursor: pointer;\n",
              "      display: none;\n",
              "      fill: #1967D2;\n",
              "      height: 32px;\n",
              "      padding: 0 0 0 0;\n",
              "      width: 32px;\n",
              "    }\n",
              "\n",
              "    .colab-df-convert:hover {\n",
              "      background-color: #E2EBFA;\n",
              "      box-shadow: 0px 1px 2px rgba(60, 64, 67, 0.3), 0px 1px 3px 1px rgba(60, 64, 67, 0.15);\n",
              "      fill: #174EA6;\n",
              "    }\n",
              "\n",
              "    [theme=dark] .colab-df-convert {\n",
              "      background-color: #3B4455;\n",
              "      fill: #D2E3FC;\n",
              "    }\n",
              "\n",
              "    [theme=dark] .colab-df-convert:hover {\n",
              "      background-color: #434B5C;\n",
              "      box-shadow: 0px 1px 3px 1px rgba(0, 0, 0, 0.15);\n",
              "      filter: drop-shadow(0px 1px 2px rgba(0, 0, 0, 0.3));\n",
              "      fill: #FFFFFF;\n",
              "    }\n",
              "  </style>\n",
              "\n",
              "      <script>\n",
              "        const buttonEl =\n",
              "          document.querySelector('#df-ed4dab2f-d6d6-4d39-8f15-e775ffcaed8c button.colab-df-convert');\n",
              "        buttonEl.style.display =\n",
              "          google.colab.kernel.accessAllowed ? 'block' : 'none';\n",
              "\n",
              "        async function convertToInteractive(key) {\n",
              "          const element = document.querySelector('#df-ed4dab2f-d6d6-4d39-8f15-e775ffcaed8c');\n",
              "          const dataTable =\n",
              "            await google.colab.kernel.invokeFunction('convertToInteractive',\n",
              "                                                     [key], {});\n",
              "          if (!dataTable) return;\n",
              "\n",
              "          const docLinkHtml = 'Like what you see? Visit the ' +\n",
              "            '<a target=\"_blank\" href=https://colab.research.google.com/notebooks/data_table.ipynb>data table notebook</a>'\n",
              "            + ' to learn more about interactive tables.';\n",
              "          element.innerHTML = '';\n",
              "          dataTable['output_type'] = 'display_data';\n",
              "          await google.colab.output.renderOutput(dataTable, element);\n",
              "          const docLink = document.createElement('div');\n",
              "          docLink.innerHTML = docLinkHtml;\n",
              "          element.appendChild(docLink);\n",
              "        }\n",
              "      </script>\n",
              "    </div>\n",
              "  </div>\n",
              "  "
            ]
          },
          "metadata": {},
          "execution_count": 92
        }
      ]
    },
    {
      "cell_type": "code",
      "source": [
        "#Random Forest Best Parameters\n",
        "clf = RandomForestClassifier(n_estimators=100, criterion='gini', max_depth=5, random_state=42, n_jobs=-1)\n",
        "clf.fit(train_x, train_y)\n",
        "sig_clf = CalibratedClassifierCV(clf, method=\"sigmoid\")\n",
        "sig_clf.fit(train_x, train_y)\n",
        "#saving best model\n",
        "filename = 'finalized_model.sav'\n",
        "pickle.dump(sig_clf, open(filename, 'wb'))\n",
        "#predicting using the best model\n",
        "predict_y = sig_clf.predict(test_x)"
      ],
      "metadata": {
        "id": "0hrT_A7mM44p"
      },
      "execution_count": 93,
      "outputs": []
    },
    {
      "cell_type": "code",
      "source": [
        "submission=pd.DataFrame(predict_y, columns=['Survived'])\n",
        "id=[]\n",
        "for i in range(892, 892+submission.shape[0]):\n",
        "  id.append(i)\n",
        "PassengerId=pd.DataFrame(id, columns=['PassengerId'])\n",
        "gender_submission=pd.concat([PassengerId, submission], axis=1)"
      ],
      "metadata": {
        "id": "rmvLak1YRqQl"
      },
      "execution_count": 94,
      "outputs": []
    },
    {
      "cell_type": "code",
      "source": [
        "gender_submission.to_csv('gender_submission.csv', index=False)"
      ],
      "metadata": {
        "id": "22Ok_xRQTTqW"
      },
      "execution_count": 95,
      "outputs": []
    },
    {
      "cell_type": "markdown",
      "source": [
        "## **--> Obtained a Leaderboard score of *0.77511***"
      ],
      "metadata": {
        "id": "zdWGq1ym5wlU"
      }
    },
    {
      "cell_type": "markdown",
      "source": [
        "# **Part-II**"
      ],
      "metadata": {
        "id": "bnzy4vSVsZOD"
      }
    },
    {
      "cell_type": "markdown",
      "source": [
        "* Here we will to try dive deep into female passengers data in-order to be able to predict their survival status more accurately to increase the previous accuracy.  \n",
        "* We try a method determined as WCG Method in the refference link below, to predict the survival status of womans & boys(not man) passengers that belong to a group of passengers boarded the ship.  \n",
        "* In this method we will assign a smiliar Group_id to all the passenger that are from the same family(i.e. have similar surnames) or are relatives and boarded ship together as group and depending on the number of survived member of each group we will obtain survival_chances for each passenger that will help us to predict the Survival status of those passengers.\n",
        "* And the rest of passengers(i.e. passengers with title-'man' or passengers that dosent belong to any Group) we will predict their survival status(0/1) using our previous best model, on top of this method.  \n",
        "\n",
        "refference links -   \n",
        "1. https://www.kaggle.com/code/mviola/titanic-wcg-knns-ensemble-0-82775-top-1/notebook  \n",
        "2. https://www.kaggle.com/competitions/titanic/discussion/57447\n"
      ],
      "metadata": {
        "id": "Qsq94FAZsnkb"
      }
    },
    {
      "cell_type": "code",
      "source": [
        "#combining train & test data.\n",
        "df = pd.concat([train_df, test_df]).reset_index().drop(['index'], axis=1)"
      ],
      "metadata": {
        "id": "Kf8hcJtdH_H6"
      },
      "execution_count": 96,
      "outputs": []
    },
    {
      "cell_type": "code",
      "source": [
        "# Creating a new feature column consisting the surname of each respective passenger\n",
        "df['Surname'] = df['Name'].apply(lambda x: x.split(',')[0])"
      ],
      "metadata": {
        "id": "6f7H_85qIEbU"
      },
      "execution_count": 97,
      "outputs": []
    },
    {
      "cell_type": "code",
      "source": [
        "# We are introducing a new column\n",
        "# This column  consists of combined features of Pclass, Ticket, Fare & Embarked\n",
        "df['Combined_features'] = 'new_col'\n",
        "# Initialize Ticket_id = Pclass + Ticket + Fare + Embarked\n",
        "def Combined_features(row):\n",
        "    row['Combined_features'] = str(row.Pclass) + '-' + str(row.Ticket)[:-1] + '-' + str(row.Fare) + '-' + str(row.Embarked)\n",
        "    return row\n",
        "\n",
        "df = df.apply(Combined_features, axis='columns')"
      ],
      "metadata": {
        "id": "waugwPDTIHOL"
      },
      "execution_count": 98,
      "outputs": []
    },
    {
      "cell_type": "code",
      "source": [
        "# New Group_id column merging the combined features and surnames of each passenger\n",
        "# In order to create a Group id representing the passengers\n",
        "df['Group_id'] = 'new_col2'\n",
        "# Initialize Group_id = Surname + Ticket_id\n",
        "def group_id(row):\n",
        "    row['Group_id'] = str(row.Surname) + '-' + str(row.Combined_features)\n",
        "    return row\n",
        "\n",
        "df = df.apply(group_id, axis='columns')"
      ],
      "metadata": {
        "id": "zfiqYWEXIK8m"
      },
      "execution_count": 99,
      "outputs": []
    },
    {
      "cell_type": "code",
      "source": [
        "df.columns"
      ],
      "metadata": {
        "colab": {
          "base_uri": "https://localhost:8080/"
        },
        "id": "kTD1GPW0INdi",
        "outputId": "55bbfbba-1a6f-4126-9da1-07c7e5901ae5"
      },
      "execution_count": 100,
      "outputs": [
        {
          "output_type": "execute_result",
          "data": {
            "text/plain": [
              "Index(['PassengerId', 'Survived', 'Pclass', 'Name', 'Sex', 'Age', 'SibSp',\n",
              "       'Parch', 'Ticket', 'Fare', 'Cabin', 'Embarked', 'Surname',\n",
              "       'Combined_features', 'Group_id'],\n",
              "      dtype='object')"
            ]
          },
          "metadata": {},
          "execution_count": 100
        }
      ]
    },
    {
      "cell_type": "code",
      "source": [
        "# New feature that classifies each passenger as man, woman or boy\n",
        "df['Title'] = 'man'\n",
        "df.loc[df.Sex == 'female', 'Title'] = 'woman'\n",
        "df.loc[df['Name'].str.contains('Master'), 'Title'] = 'boy'"
      ],
      "metadata": {
        "id": "X3m7PaoNIQM5"
      },
      "execution_count": 101,
      "outputs": []
    },
    {
      "cell_type": "code",
      "source": [
        "'''\n",
        " In order to increase the previous accuracy obtained, we trying create new features which would be able to classify the, \n",
        " survival status of woman & boy more accurately.\n",
        "'''\n",
        "# So we assign noGroup to every man in our Data set.\n",
        "df.loc[df.Title == 'man', 'Group_id'] = 'noGroup'\n",
        "# We create a new feature UG_count(Unique Group counts) this will take counts of each  unique group.\n",
        "# If the UG_count of any passenger is 1 i.e. he/she dosent belong to any group, so we will assign that passenger with noGroup.\n",
        "# And all the passengers with UG_count>1 will contain there unique GroupId.\n",
        "df['UG_count'] = df.loc[df.Title != 'man'].groupby('Group_id')['Group_id'].transform('count')\n",
        "# assign noGroup to every unique value\n",
        "df.loc[df.UG_count <=1, 'Group_id'] = 'noGroup'"
      ],
      "metadata": {
        "id": "NwHyksRMJyZp"
      },
      "execution_count": 102,
      "outputs": []
    },
    {
      "cell_type": "code",
      "source": [
        "df"
      ],
      "metadata": {
        "colab": {
          "base_uri": "https://localhost:8080/",
          "height": 939
        },
        "id": "qRtPIzT9XSMA",
        "outputId": "c1018e92-8686-4f72-b1a5-f041b8db70c4"
      },
      "execution_count": 103,
      "outputs": [
        {
          "output_type": "execute_result",
          "data": {
            "text/plain": [
              "      PassengerId  Survived  Pclass  \\\n",
              "0               1       0.0       3   \n",
              "1               2       1.0       1   \n",
              "2               3       1.0       3   \n",
              "3               4       1.0       1   \n",
              "4               5       0.0       3   \n",
              "...           ...       ...     ...   \n",
              "1304         1305       NaN       3   \n",
              "1305         1306       NaN       1   \n",
              "1306         1307       NaN       3   \n",
              "1307         1308       NaN       3   \n",
              "1308         1309       NaN       3   \n",
              "\n",
              "                                                   Name     Sex        Age  \\\n",
              "0                               Braund, Mr. Owen Harris    male  22.000000   \n",
              "1     Cumings, Mrs. John Bradley (Florence Briggs Th...  female  38.000000   \n",
              "2                                Heikkinen, Miss. Laina  female  26.000000   \n",
              "3          Futrelle, Mrs. Jacques Heath (Lily May Peel)  female  35.000000   \n",
              "4                              Allen, Mr. William Henry    male  35.000000   \n",
              "...                                                 ...     ...        ...   \n",
              "1304                                 Spector, Mr. Woolf    male  29.699118   \n",
              "1305                       Oliva y Ocana, Dona. Fermina  female  39.000000   \n",
              "1306                       Saether, Mr. Simon Sivertsen    male  38.500000   \n",
              "1307                                Ware, Mr. Frederick    male  29.699118   \n",
              "1308                           Peter, Master. Michael J    male  29.699118   \n",
              "\n",
              "      SibSp  Parch              Ticket      Fare Cabin Embarked  \\\n",
              "0         1      0           A/5 21171    7.2500   NaN        S   \n",
              "1         1      0            PC 17599   71.2833   C85        C   \n",
              "2         0      0    STON/O2. 3101282    7.9250   NaN        S   \n",
              "3         1      0              113803   53.1000  C123        S   \n",
              "4         0      0              373450    8.0500   NaN        S   \n",
              "...     ...    ...                 ...       ...   ...      ...   \n",
              "1304      0      0           A.5. 3236    8.0500   NaN        S   \n",
              "1305      0      0            PC 17758  108.9000  C105        C   \n",
              "1306      0      0  SOTON/O.Q. 3101262    7.2500   NaN        S   \n",
              "1307      0      0              359309    8.0500   NaN        S   \n",
              "1308      1      1                2668   22.3583   NaN        C   \n",
              "\n",
              "            Surname           Combined_features               Group_id  Title  \\\n",
              "0            Braund           3-A/5 2117-7.25-S                noGroup    man   \n",
              "1           Cumings         1-PC 1759-71.2833-C                noGroup  woman   \n",
              "2         Heikkinen   3-STON/O2. 310128-7.925-S                noGroup  woman   \n",
              "3          Futrelle              1-11380-53.1-S                noGroup  woman   \n",
              "4             Allen              3-37345-8.05-S                noGroup    man   \n",
              "...             ...                         ...                    ...    ...   \n",
              "1304        Spector           3-A.5. 323-8.05-S                noGroup    man   \n",
              "1305  Oliva y Ocana           1-PC 1775-108.9-C                noGroup  woman   \n",
              "1306        Saether  3-SOTON/O.Q. 310126-7.25-S                noGroup    man   \n",
              "1307           Ware              3-35930-8.05-S                noGroup    man   \n",
              "1308          Peter             3-266-22.3583-C  Peter-3-266-22.3583-C    boy   \n",
              "\n",
              "      UG_count  \n",
              "0          NaN  \n",
              "1          1.0  \n",
              "2          1.0  \n",
              "3          1.0  \n",
              "4          NaN  \n",
              "...        ...  \n",
              "1304       NaN  \n",
              "1305       1.0  \n",
              "1306       NaN  \n",
              "1307       NaN  \n",
              "1308       3.0  \n",
              "\n",
              "[1309 rows x 17 columns]"
            ],
            "text/html": [
              "\n",
              "  <div id=\"df-8fa69026-1966-4536-a991-3e949c77f60d\">\n",
              "    <div class=\"colab-df-container\">\n",
              "      <div>\n",
              "<style scoped>\n",
              "    .dataframe tbody tr th:only-of-type {\n",
              "        vertical-align: middle;\n",
              "    }\n",
              "\n",
              "    .dataframe tbody tr th {\n",
              "        vertical-align: top;\n",
              "    }\n",
              "\n",
              "    .dataframe thead th {\n",
              "        text-align: right;\n",
              "    }\n",
              "</style>\n",
              "<table border=\"1\" class=\"dataframe\">\n",
              "  <thead>\n",
              "    <tr style=\"text-align: right;\">\n",
              "      <th></th>\n",
              "      <th>PassengerId</th>\n",
              "      <th>Survived</th>\n",
              "      <th>Pclass</th>\n",
              "      <th>Name</th>\n",
              "      <th>Sex</th>\n",
              "      <th>Age</th>\n",
              "      <th>SibSp</th>\n",
              "      <th>Parch</th>\n",
              "      <th>Ticket</th>\n",
              "      <th>Fare</th>\n",
              "      <th>Cabin</th>\n",
              "      <th>Embarked</th>\n",
              "      <th>Surname</th>\n",
              "      <th>Combined_features</th>\n",
              "      <th>Group_id</th>\n",
              "      <th>Title</th>\n",
              "      <th>UG_count</th>\n",
              "    </tr>\n",
              "  </thead>\n",
              "  <tbody>\n",
              "    <tr>\n",
              "      <th>0</th>\n",
              "      <td>1</td>\n",
              "      <td>0.0</td>\n",
              "      <td>3</td>\n",
              "      <td>Braund, Mr. Owen Harris</td>\n",
              "      <td>male</td>\n",
              "      <td>22.000000</td>\n",
              "      <td>1</td>\n",
              "      <td>0</td>\n",
              "      <td>A/5 21171</td>\n",
              "      <td>7.2500</td>\n",
              "      <td>NaN</td>\n",
              "      <td>S</td>\n",
              "      <td>Braund</td>\n",
              "      <td>3-A/5 2117-7.25-S</td>\n",
              "      <td>noGroup</td>\n",
              "      <td>man</td>\n",
              "      <td>NaN</td>\n",
              "    </tr>\n",
              "    <tr>\n",
              "      <th>1</th>\n",
              "      <td>2</td>\n",
              "      <td>1.0</td>\n",
              "      <td>1</td>\n",
              "      <td>Cumings, Mrs. John Bradley (Florence Briggs Th...</td>\n",
              "      <td>female</td>\n",
              "      <td>38.000000</td>\n",
              "      <td>1</td>\n",
              "      <td>0</td>\n",
              "      <td>PC 17599</td>\n",
              "      <td>71.2833</td>\n",
              "      <td>C85</td>\n",
              "      <td>C</td>\n",
              "      <td>Cumings</td>\n",
              "      <td>1-PC 1759-71.2833-C</td>\n",
              "      <td>noGroup</td>\n",
              "      <td>woman</td>\n",
              "      <td>1.0</td>\n",
              "    </tr>\n",
              "    <tr>\n",
              "      <th>2</th>\n",
              "      <td>3</td>\n",
              "      <td>1.0</td>\n",
              "      <td>3</td>\n",
              "      <td>Heikkinen, Miss. Laina</td>\n",
              "      <td>female</td>\n",
              "      <td>26.000000</td>\n",
              "      <td>0</td>\n",
              "      <td>0</td>\n",
              "      <td>STON/O2. 3101282</td>\n",
              "      <td>7.9250</td>\n",
              "      <td>NaN</td>\n",
              "      <td>S</td>\n",
              "      <td>Heikkinen</td>\n",
              "      <td>3-STON/O2. 310128-7.925-S</td>\n",
              "      <td>noGroup</td>\n",
              "      <td>woman</td>\n",
              "      <td>1.0</td>\n",
              "    </tr>\n",
              "    <tr>\n",
              "      <th>3</th>\n",
              "      <td>4</td>\n",
              "      <td>1.0</td>\n",
              "      <td>1</td>\n",
              "      <td>Futrelle, Mrs. Jacques Heath (Lily May Peel)</td>\n",
              "      <td>female</td>\n",
              "      <td>35.000000</td>\n",
              "      <td>1</td>\n",
              "      <td>0</td>\n",
              "      <td>113803</td>\n",
              "      <td>53.1000</td>\n",
              "      <td>C123</td>\n",
              "      <td>S</td>\n",
              "      <td>Futrelle</td>\n",
              "      <td>1-11380-53.1-S</td>\n",
              "      <td>noGroup</td>\n",
              "      <td>woman</td>\n",
              "      <td>1.0</td>\n",
              "    </tr>\n",
              "    <tr>\n",
              "      <th>4</th>\n",
              "      <td>5</td>\n",
              "      <td>0.0</td>\n",
              "      <td>3</td>\n",
              "      <td>Allen, Mr. William Henry</td>\n",
              "      <td>male</td>\n",
              "      <td>35.000000</td>\n",
              "      <td>0</td>\n",
              "      <td>0</td>\n",
              "      <td>373450</td>\n",
              "      <td>8.0500</td>\n",
              "      <td>NaN</td>\n",
              "      <td>S</td>\n",
              "      <td>Allen</td>\n",
              "      <td>3-37345-8.05-S</td>\n",
              "      <td>noGroup</td>\n",
              "      <td>man</td>\n",
              "      <td>NaN</td>\n",
              "    </tr>\n",
              "    <tr>\n",
              "      <th>...</th>\n",
              "      <td>...</td>\n",
              "      <td>...</td>\n",
              "      <td>...</td>\n",
              "      <td>...</td>\n",
              "      <td>...</td>\n",
              "      <td>...</td>\n",
              "      <td>...</td>\n",
              "      <td>...</td>\n",
              "      <td>...</td>\n",
              "      <td>...</td>\n",
              "      <td>...</td>\n",
              "      <td>...</td>\n",
              "      <td>...</td>\n",
              "      <td>...</td>\n",
              "      <td>...</td>\n",
              "      <td>...</td>\n",
              "      <td>...</td>\n",
              "    </tr>\n",
              "    <tr>\n",
              "      <th>1304</th>\n",
              "      <td>1305</td>\n",
              "      <td>NaN</td>\n",
              "      <td>3</td>\n",
              "      <td>Spector, Mr. Woolf</td>\n",
              "      <td>male</td>\n",
              "      <td>29.699118</td>\n",
              "      <td>0</td>\n",
              "      <td>0</td>\n",
              "      <td>A.5. 3236</td>\n",
              "      <td>8.0500</td>\n",
              "      <td>NaN</td>\n",
              "      <td>S</td>\n",
              "      <td>Spector</td>\n",
              "      <td>3-A.5. 323-8.05-S</td>\n",
              "      <td>noGroup</td>\n",
              "      <td>man</td>\n",
              "      <td>NaN</td>\n",
              "    </tr>\n",
              "    <tr>\n",
              "      <th>1305</th>\n",
              "      <td>1306</td>\n",
              "      <td>NaN</td>\n",
              "      <td>1</td>\n",
              "      <td>Oliva y Ocana, Dona. Fermina</td>\n",
              "      <td>female</td>\n",
              "      <td>39.000000</td>\n",
              "      <td>0</td>\n",
              "      <td>0</td>\n",
              "      <td>PC 17758</td>\n",
              "      <td>108.9000</td>\n",
              "      <td>C105</td>\n",
              "      <td>C</td>\n",
              "      <td>Oliva y Ocana</td>\n",
              "      <td>1-PC 1775-108.9-C</td>\n",
              "      <td>noGroup</td>\n",
              "      <td>woman</td>\n",
              "      <td>1.0</td>\n",
              "    </tr>\n",
              "    <tr>\n",
              "      <th>1306</th>\n",
              "      <td>1307</td>\n",
              "      <td>NaN</td>\n",
              "      <td>3</td>\n",
              "      <td>Saether, Mr. Simon Sivertsen</td>\n",
              "      <td>male</td>\n",
              "      <td>38.500000</td>\n",
              "      <td>0</td>\n",
              "      <td>0</td>\n",
              "      <td>SOTON/O.Q. 3101262</td>\n",
              "      <td>7.2500</td>\n",
              "      <td>NaN</td>\n",
              "      <td>S</td>\n",
              "      <td>Saether</td>\n",
              "      <td>3-SOTON/O.Q. 310126-7.25-S</td>\n",
              "      <td>noGroup</td>\n",
              "      <td>man</td>\n",
              "      <td>NaN</td>\n",
              "    </tr>\n",
              "    <tr>\n",
              "      <th>1307</th>\n",
              "      <td>1308</td>\n",
              "      <td>NaN</td>\n",
              "      <td>3</td>\n",
              "      <td>Ware, Mr. Frederick</td>\n",
              "      <td>male</td>\n",
              "      <td>29.699118</td>\n",
              "      <td>0</td>\n",
              "      <td>0</td>\n",
              "      <td>359309</td>\n",
              "      <td>8.0500</td>\n",
              "      <td>NaN</td>\n",
              "      <td>S</td>\n",
              "      <td>Ware</td>\n",
              "      <td>3-35930-8.05-S</td>\n",
              "      <td>noGroup</td>\n",
              "      <td>man</td>\n",
              "      <td>NaN</td>\n",
              "    </tr>\n",
              "    <tr>\n",
              "      <th>1308</th>\n",
              "      <td>1309</td>\n",
              "      <td>NaN</td>\n",
              "      <td>3</td>\n",
              "      <td>Peter, Master. Michael J</td>\n",
              "      <td>male</td>\n",
              "      <td>29.699118</td>\n",
              "      <td>1</td>\n",
              "      <td>1</td>\n",
              "      <td>2668</td>\n",
              "      <td>22.3583</td>\n",
              "      <td>NaN</td>\n",
              "      <td>C</td>\n",
              "      <td>Peter</td>\n",
              "      <td>3-266-22.3583-C</td>\n",
              "      <td>Peter-3-266-22.3583-C</td>\n",
              "      <td>boy</td>\n",
              "      <td>3.0</td>\n",
              "    </tr>\n",
              "  </tbody>\n",
              "</table>\n",
              "<p>1309 rows × 17 columns</p>\n",
              "</div>\n",
              "      <button class=\"colab-df-convert\" onclick=\"convertToInteractive('df-8fa69026-1966-4536-a991-3e949c77f60d')\"\n",
              "              title=\"Convert this dataframe to an interactive table.\"\n",
              "              style=\"display:none;\">\n",
              "        \n",
              "  <svg xmlns=\"http://www.w3.org/2000/svg\" height=\"24px\"viewBox=\"0 0 24 24\"\n",
              "       width=\"24px\">\n",
              "    <path d=\"M0 0h24v24H0V0z\" fill=\"none\"/>\n",
              "    <path d=\"M18.56 5.44l.94 2.06.94-2.06 2.06-.94-2.06-.94-.94-2.06-.94 2.06-2.06.94zm-11 1L8.5 8.5l.94-2.06 2.06-.94-2.06-.94L8.5 2.5l-.94 2.06-2.06.94zm10 10l.94 2.06.94-2.06 2.06-.94-2.06-.94-.94-2.06-.94 2.06-2.06.94z\"/><path d=\"M17.41 7.96l-1.37-1.37c-.4-.4-.92-.59-1.43-.59-.52 0-1.04.2-1.43.59L10.3 9.45l-7.72 7.72c-.78.78-.78 2.05 0 2.83L4 21.41c.39.39.9.59 1.41.59.51 0 1.02-.2 1.41-.59l7.78-7.78 2.81-2.81c.8-.78.8-2.07 0-2.86zM5.41 20L4 18.59l7.72-7.72 1.47 1.35L5.41 20z\"/>\n",
              "  </svg>\n",
              "      </button>\n",
              "      \n",
              "  <style>\n",
              "    .colab-df-container {\n",
              "      display:flex;\n",
              "      flex-wrap:wrap;\n",
              "      gap: 12px;\n",
              "    }\n",
              "\n",
              "    .colab-df-convert {\n",
              "      background-color: #E8F0FE;\n",
              "      border: none;\n",
              "      border-radius: 50%;\n",
              "      cursor: pointer;\n",
              "      display: none;\n",
              "      fill: #1967D2;\n",
              "      height: 32px;\n",
              "      padding: 0 0 0 0;\n",
              "      width: 32px;\n",
              "    }\n",
              "\n",
              "    .colab-df-convert:hover {\n",
              "      background-color: #E2EBFA;\n",
              "      box-shadow: 0px 1px 2px rgba(60, 64, 67, 0.3), 0px 1px 3px 1px rgba(60, 64, 67, 0.15);\n",
              "      fill: #174EA6;\n",
              "    }\n",
              "\n",
              "    [theme=dark] .colab-df-convert {\n",
              "      background-color: #3B4455;\n",
              "      fill: #D2E3FC;\n",
              "    }\n",
              "\n",
              "    [theme=dark] .colab-df-convert:hover {\n",
              "      background-color: #434B5C;\n",
              "      box-shadow: 0px 1px 3px 1px rgba(0, 0, 0, 0.15);\n",
              "      filter: drop-shadow(0px 1px 2px rgba(0, 0, 0, 0.3));\n",
              "      fill: #FFFFFF;\n",
              "    }\n",
              "  </style>\n",
              "\n",
              "      <script>\n",
              "        const buttonEl =\n",
              "          document.querySelector('#df-8fa69026-1966-4536-a991-3e949c77f60d button.colab-df-convert');\n",
              "        buttonEl.style.display =\n",
              "          google.colab.kernel.accessAllowed ? 'block' : 'none';\n",
              "\n",
              "        async function convertToInteractive(key) {\n",
              "          const element = document.querySelector('#df-8fa69026-1966-4536-a991-3e949c77f60d');\n",
              "          const dataTable =\n",
              "            await google.colab.kernel.invokeFunction('convertToInteractive',\n",
              "                                                     [key], {});\n",
              "          if (!dataTable) return;\n",
              "\n",
              "          const docLinkHtml = 'Like what you see? Visit the ' +\n",
              "            '<a target=\"_blank\" href=https://colab.research.google.com/notebooks/data_table.ipynb>data table notebook</a>'\n",
              "            + ' to learn more about interactive tables.';\n",
              "          element.innerHTML = '';\n",
              "          dataTable['output_type'] = 'display_data';\n",
              "          await google.colab.output.renderOutput(dataTable, element);\n",
              "          const docLink = document.createElement('div');\n",
              "          docLink.innerHTML = docLinkHtml;\n",
              "          element.appendChild(docLink);\n",
              "        }\n",
              "      </script>\n",
              "    </div>\n",
              "  </div>\n",
              "  "
            ]
          },
          "metadata": {},
          "execution_count": 103
        }
      ]
    },
    {
      "cell_type": "code",
      "source": [
        "cols = ['PassengerId', 'Survived', 'Name', 'Title', 'Combined_features','Group_id']\n",
        "df.loc[(df.Combined_features == '1-1696-134.5-C') & (df.Title != 'man'), cols]\n",
        "#Upon observation of data we can see that, the passengers with different surnames have the same Combined_features,\n",
        "#But have different Group_ids this denotes that these passenger maybe relatives !\n",
        "\n",
        "#Adding such passenger to existing Group_ids.\n",
        "indices = []\n",
        "for i in range(0,1309):\n",
        "    if (df.loc[i,'Title'] != 'man') & (df.loc[i,'Group_id'] == 'noGroup'):\n",
        "        df.loc[i,'Group_id'] = df.loc[(df['Combined_features'] == df.loc[i, 'Combined_features']) & (df.Title != 'man'), 'Group_id'].iloc[0]\n",
        "        if (df.loc[i, 'Group_id'] != 'noGroup'):\n",
        "            indices.append(i)\n",
        "\n",
        "print('All passengers with these Passenger_Id are now added to existing Group_ids ->', indices)"
      ],
      "metadata": {
        "colab": {
          "base_uri": "https://localhost:8080/"
        },
        "id": "hXILYxuEuH57",
        "outputId": "95d5200f-fa24-4167-8985-719753ebac23"
      },
      "execution_count": 104,
      "outputs": [
        {
          "output_type": "stream",
          "name": "stdout",
          "text": [
            "All passengers with these Passenger_Id are now added to existing Group_ids -> [337, 708, 950, 1032, 1067, 1140, 1171, 1258, 1262, 1266, 1291]\n"
          ]
        }
      ]
    },
    {
      "cell_type": "code",
      "source": [
        "'''\n",
        "Creating a new column that consists the survival chances of the passengers that is not a man (as we are trying to only \n",
        "predict for woman & boy) & are in a group with which has UG_Count>1 i.e. passenger(woman or boy) is not alone, and \n",
        "determining the survival_chances(0 to 1) of that passenger, by calculating the mean of 'Survived' of all the passengers \n",
        "in the same group.\n",
        "''' \n",
        "df['Survival_chances'] = df.loc[(df.Title != 'man') & (df.Group_id != 'noGroup')].groupby('Group_id').Survived.transform('mean')"
      ],
      "metadata": {
        "id": "UP74_3LvJ5Fu"
      },
      "execution_count": 105,
      "outputs": []
    },
    {
      "cell_type": "code",
      "source": [
        "df"
      ],
      "metadata": {
        "colab": {
          "base_uri": "https://localhost:8080/",
          "height": 939
        },
        "id": "Cd-BQc_uWnYm",
        "outputId": "9a917552-494d-47f7-9634-10e3bbd1400e"
      },
      "execution_count": 106,
      "outputs": [
        {
          "output_type": "execute_result",
          "data": {
            "text/plain": [
              "      PassengerId  Survived  Pclass  \\\n",
              "0               1       0.0       3   \n",
              "1               2       1.0       1   \n",
              "2               3       1.0       3   \n",
              "3               4       1.0       1   \n",
              "4               5       0.0       3   \n",
              "...           ...       ...     ...   \n",
              "1304         1305       NaN       3   \n",
              "1305         1306       NaN       1   \n",
              "1306         1307       NaN       3   \n",
              "1307         1308       NaN       3   \n",
              "1308         1309       NaN       3   \n",
              "\n",
              "                                                   Name     Sex        Age  \\\n",
              "0                               Braund, Mr. Owen Harris    male  22.000000   \n",
              "1     Cumings, Mrs. John Bradley (Florence Briggs Th...  female  38.000000   \n",
              "2                                Heikkinen, Miss. Laina  female  26.000000   \n",
              "3          Futrelle, Mrs. Jacques Heath (Lily May Peel)  female  35.000000   \n",
              "4                              Allen, Mr. William Henry    male  35.000000   \n",
              "...                                                 ...     ...        ...   \n",
              "1304                                 Spector, Mr. Woolf    male  29.699118   \n",
              "1305                       Oliva y Ocana, Dona. Fermina  female  39.000000   \n",
              "1306                       Saether, Mr. Simon Sivertsen    male  38.500000   \n",
              "1307                                Ware, Mr. Frederick    male  29.699118   \n",
              "1308                           Peter, Master. Michael J    male  29.699118   \n",
              "\n",
              "      SibSp  Parch              Ticket      Fare Cabin Embarked  \\\n",
              "0         1      0           A/5 21171    7.2500   NaN        S   \n",
              "1         1      0            PC 17599   71.2833   C85        C   \n",
              "2         0      0    STON/O2. 3101282    7.9250   NaN        S   \n",
              "3         1      0              113803   53.1000  C123        S   \n",
              "4         0      0              373450    8.0500   NaN        S   \n",
              "...     ...    ...                 ...       ...   ...      ...   \n",
              "1304      0      0           A.5. 3236    8.0500   NaN        S   \n",
              "1305      0      0            PC 17758  108.9000  C105        C   \n",
              "1306      0      0  SOTON/O.Q. 3101262    7.2500   NaN        S   \n",
              "1307      0      0              359309    8.0500   NaN        S   \n",
              "1308      1      1                2668   22.3583   NaN        C   \n",
              "\n",
              "            Surname           Combined_features               Group_id  Title  \\\n",
              "0            Braund           3-A/5 2117-7.25-S                noGroup    man   \n",
              "1           Cumings         1-PC 1759-71.2833-C                noGroup  woman   \n",
              "2         Heikkinen   3-STON/O2. 310128-7.925-S                noGroup  woman   \n",
              "3          Futrelle              1-11380-53.1-S                noGroup  woman   \n",
              "4             Allen              3-37345-8.05-S                noGroup    man   \n",
              "...             ...                         ...                    ...    ...   \n",
              "1304        Spector           3-A.5. 323-8.05-S                noGroup    man   \n",
              "1305  Oliva y Ocana           1-PC 1775-108.9-C                noGroup  woman   \n",
              "1306        Saether  3-SOTON/O.Q. 310126-7.25-S                noGroup    man   \n",
              "1307           Ware              3-35930-8.05-S                noGroup    man   \n",
              "1308          Peter             3-266-22.3583-C  Peter-3-266-22.3583-C    boy   \n",
              "\n",
              "      UG_count  Survival_chances  \n",
              "0          NaN               NaN  \n",
              "1          1.0               NaN  \n",
              "2          1.0               NaN  \n",
              "3          1.0               NaN  \n",
              "4          NaN               NaN  \n",
              "...        ...               ...  \n",
              "1304       NaN               NaN  \n",
              "1305       1.0               NaN  \n",
              "1306       NaN               NaN  \n",
              "1307       NaN               NaN  \n",
              "1308       3.0               1.0  \n",
              "\n",
              "[1309 rows x 18 columns]"
            ],
            "text/html": [
              "\n",
              "  <div id=\"df-b9be1166-db84-4900-a108-ab4614de4df7\">\n",
              "    <div class=\"colab-df-container\">\n",
              "      <div>\n",
              "<style scoped>\n",
              "    .dataframe tbody tr th:only-of-type {\n",
              "        vertical-align: middle;\n",
              "    }\n",
              "\n",
              "    .dataframe tbody tr th {\n",
              "        vertical-align: top;\n",
              "    }\n",
              "\n",
              "    .dataframe thead th {\n",
              "        text-align: right;\n",
              "    }\n",
              "</style>\n",
              "<table border=\"1\" class=\"dataframe\">\n",
              "  <thead>\n",
              "    <tr style=\"text-align: right;\">\n",
              "      <th></th>\n",
              "      <th>PassengerId</th>\n",
              "      <th>Survived</th>\n",
              "      <th>Pclass</th>\n",
              "      <th>Name</th>\n",
              "      <th>Sex</th>\n",
              "      <th>Age</th>\n",
              "      <th>SibSp</th>\n",
              "      <th>Parch</th>\n",
              "      <th>Ticket</th>\n",
              "      <th>Fare</th>\n",
              "      <th>Cabin</th>\n",
              "      <th>Embarked</th>\n",
              "      <th>Surname</th>\n",
              "      <th>Combined_features</th>\n",
              "      <th>Group_id</th>\n",
              "      <th>Title</th>\n",
              "      <th>UG_count</th>\n",
              "      <th>Survival_chances</th>\n",
              "    </tr>\n",
              "  </thead>\n",
              "  <tbody>\n",
              "    <tr>\n",
              "      <th>0</th>\n",
              "      <td>1</td>\n",
              "      <td>0.0</td>\n",
              "      <td>3</td>\n",
              "      <td>Braund, Mr. Owen Harris</td>\n",
              "      <td>male</td>\n",
              "      <td>22.000000</td>\n",
              "      <td>1</td>\n",
              "      <td>0</td>\n",
              "      <td>A/5 21171</td>\n",
              "      <td>7.2500</td>\n",
              "      <td>NaN</td>\n",
              "      <td>S</td>\n",
              "      <td>Braund</td>\n",
              "      <td>3-A/5 2117-7.25-S</td>\n",
              "      <td>noGroup</td>\n",
              "      <td>man</td>\n",
              "      <td>NaN</td>\n",
              "      <td>NaN</td>\n",
              "    </tr>\n",
              "    <tr>\n",
              "      <th>1</th>\n",
              "      <td>2</td>\n",
              "      <td>1.0</td>\n",
              "      <td>1</td>\n",
              "      <td>Cumings, Mrs. John Bradley (Florence Briggs Th...</td>\n",
              "      <td>female</td>\n",
              "      <td>38.000000</td>\n",
              "      <td>1</td>\n",
              "      <td>0</td>\n",
              "      <td>PC 17599</td>\n",
              "      <td>71.2833</td>\n",
              "      <td>C85</td>\n",
              "      <td>C</td>\n",
              "      <td>Cumings</td>\n",
              "      <td>1-PC 1759-71.2833-C</td>\n",
              "      <td>noGroup</td>\n",
              "      <td>woman</td>\n",
              "      <td>1.0</td>\n",
              "      <td>NaN</td>\n",
              "    </tr>\n",
              "    <tr>\n",
              "      <th>2</th>\n",
              "      <td>3</td>\n",
              "      <td>1.0</td>\n",
              "      <td>3</td>\n",
              "      <td>Heikkinen, Miss. Laina</td>\n",
              "      <td>female</td>\n",
              "      <td>26.000000</td>\n",
              "      <td>0</td>\n",
              "      <td>0</td>\n",
              "      <td>STON/O2. 3101282</td>\n",
              "      <td>7.9250</td>\n",
              "      <td>NaN</td>\n",
              "      <td>S</td>\n",
              "      <td>Heikkinen</td>\n",
              "      <td>3-STON/O2. 310128-7.925-S</td>\n",
              "      <td>noGroup</td>\n",
              "      <td>woman</td>\n",
              "      <td>1.0</td>\n",
              "      <td>NaN</td>\n",
              "    </tr>\n",
              "    <tr>\n",
              "      <th>3</th>\n",
              "      <td>4</td>\n",
              "      <td>1.0</td>\n",
              "      <td>1</td>\n",
              "      <td>Futrelle, Mrs. Jacques Heath (Lily May Peel)</td>\n",
              "      <td>female</td>\n",
              "      <td>35.000000</td>\n",
              "      <td>1</td>\n",
              "      <td>0</td>\n",
              "      <td>113803</td>\n",
              "      <td>53.1000</td>\n",
              "      <td>C123</td>\n",
              "      <td>S</td>\n",
              "      <td>Futrelle</td>\n",
              "      <td>1-11380-53.1-S</td>\n",
              "      <td>noGroup</td>\n",
              "      <td>woman</td>\n",
              "      <td>1.0</td>\n",
              "      <td>NaN</td>\n",
              "    </tr>\n",
              "    <tr>\n",
              "      <th>4</th>\n",
              "      <td>5</td>\n",
              "      <td>0.0</td>\n",
              "      <td>3</td>\n",
              "      <td>Allen, Mr. William Henry</td>\n",
              "      <td>male</td>\n",
              "      <td>35.000000</td>\n",
              "      <td>0</td>\n",
              "      <td>0</td>\n",
              "      <td>373450</td>\n",
              "      <td>8.0500</td>\n",
              "      <td>NaN</td>\n",
              "      <td>S</td>\n",
              "      <td>Allen</td>\n",
              "      <td>3-37345-8.05-S</td>\n",
              "      <td>noGroup</td>\n",
              "      <td>man</td>\n",
              "      <td>NaN</td>\n",
              "      <td>NaN</td>\n",
              "    </tr>\n",
              "    <tr>\n",
              "      <th>...</th>\n",
              "      <td>...</td>\n",
              "      <td>...</td>\n",
              "      <td>...</td>\n",
              "      <td>...</td>\n",
              "      <td>...</td>\n",
              "      <td>...</td>\n",
              "      <td>...</td>\n",
              "      <td>...</td>\n",
              "      <td>...</td>\n",
              "      <td>...</td>\n",
              "      <td>...</td>\n",
              "      <td>...</td>\n",
              "      <td>...</td>\n",
              "      <td>...</td>\n",
              "      <td>...</td>\n",
              "      <td>...</td>\n",
              "      <td>...</td>\n",
              "      <td>...</td>\n",
              "    </tr>\n",
              "    <tr>\n",
              "      <th>1304</th>\n",
              "      <td>1305</td>\n",
              "      <td>NaN</td>\n",
              "      <td>3</td>\n",
              "      <td>Spector, Mr. Woolf</td>\n",
              "      <td>male</td>\n",
              "      <td>29.699118</td>\n",
              "      <td>0</td>\n",
              "      <td>0</td>\n",
              "      <td>A.5. 3236</td>\n",
              "      <td>8.0500</td>\n",
              "      <td>NaN</td>\n",
              "      <td>S</td>\n",
              "      <td>Spector</td>\n",
              "      <td>3-A.5. 323-8.05-S</td>\n",
              "      <td>noGroup</td>\n",
              "      <td>man</td>\n",
              "      <td>NaN</td>\n",
              "      <td>NaN</td>\n",
              "    </tr>\n",
              "    <tr>\n",
              "      <th>1305</th>\n",
              "      <td>1306</td>\n",
              "      <td>NaN</td>\n",
              "      <td>1</td>\n",
              "      <td>Oliva y Ocana, Dona. Fermina</td>\n",
              "      <td>female</td>\n",
              "      <td>39.000000</td>\n",
              "      <td>0</td>\n",
              "      <td>0</td>\n",
              "      <td>PC 17758</td>\n",
              "      <td>108.9000</td>\n",
              "      <td>C105</td>\n",
              "      <td>C</td>\n",
              "      <td>Oliva y Ocana</td>\n",
              "      <td>1-PC 1775-108.9-C</td>\n",
              "      <td>noGroup</td>\n",
              "      <td>woman</td>\n",
              "      <td>1.0</td>\n",
              "      <td>NaN</td>\n",
              "    </tr>\n",
              "    <tr>\n",
              "      <th>1306</th>\n",
              "      <td>1307</td>\n",
              "      <td>NaN</td>\n",
              "      <td>3</td>\n",
              "      <td>Saether, Mr. Simon Sivertsen</td>\n",
              "      <td>male</td>\n",
              "      <td>38.500000</td>\n",
              "      <td>0</td>\n",
              "      <td>0</td>\n",
              "      <td>SOTON/O.Q. 3101262</td>\n",
              "      <td>7.2500</td>\n",
              "      <td>NaN</td>\n",
              "      <td>S</td>\n",
              "      <td>Saether</td>\n",
              "      <td>3-SOTON/O.Q. 310126-7.25-S</td>\n",
              "      <td>noGroup</td>\n",
              "      <td>man</td>\n",
              "      <td>NaN</td>\n",
              "      <td>NaN</td>\n",
              "    </tr>\n",
              "    <tr>\n",
              "      <th>1307</th>\n",
              "      <td>1308</td>\n",
              "      <td>NaN</td>\n",
              "      <td>3</td>\n",
              "      <td>Ware, Mr. Frederick</td>\n",
              "      <td>male</td>\n",
              "      <td>29.699118</td>\n",
              "      <td>0</td>\n",
              "      <td>0</td>\n",
              "      <td>359309</td>\n",
              "      <td>8.0500</td>\n",
              "      <td>NaN</td>\n",
              "      <td>S</td>\n",
              "      <td>Ware</td>\n",
              "      <td>3-35930-8.05-S</td>\n",
              "      <td>noGroup</td>\n",
              "      <td>man</td>\n",
              "      <td>NaN</td>\n",
              "      <td>NaN</td>\n",
              "    </tr>\n",
              "    <tr>\n",
              "      <th>1308</th>\n",
              "      <td>1309</td>\n",
              "      <td>NaN</td>\n",
              "      <td>3</td>\n",
              "      <td>Peter, Master. Michael J</td>\n",
              "      <td>male</td>\n",
              "      <td>29.699118</td>\n",
              "      <td>1</td>\n",
              "      <td>1</td>\n",
              "      <td>2668</td>\n",
              "      <td>22.3583</td>\n",
              "      <td>NaN</td>\n",
              "      <td>C</td>\n",
              "      <td>Peter</td>\n",
              "      <td>3-266-22.3583-C</td>\n",
              "      <td>Peter-3-266-22.3583-C</td>\n",
              "      <td>boy</td>\n",
              "      <td>3.0</td>\n",
              "      <td>1.0</td>\n",
              "    </tr>\n",
              "  </tbody>\n",
              "</table>\n",
              "<p>1309 rows × 18 columns</p>\n",
              "</div>\n",
              "      <button class=\"colab-df-convert\" onclick=\"convertToInteractive('df-b9be1166-db84-4900-a108-ab4614de4df7')\"\n",
              "              title=\"Convert this dataframe to an interactive table.\"\n",
              "              style=\"display:none;\">\n",
              "        \n",
              "  <svg xmlns=\"http://www.w3.org/2000/svg\" height=\"24px\"viewBox=\"0 0 24 24\"\n",
              "       width=\"24px\">\n",
              "    <path d=\"M0 0h24v24H0V0z\" fill=\"none\"/>\n",
              "    <path d=\"M18.56 5.44l.94 2.06.94-2.06 2.06-.94-2.06-.94-.94-2.06-.94 2.06-2.06.94zm-11 1L8.5 8.5l.94-2.06 2.06-.94-2.06-.94L8.5 2.5l-.94 2.06-2.06.94zm10 10l.94 2.06.94-2.06 2.06-.94-2.06-.94-.94-2.06-.94 2.06-2.06.94z\"/><path d=\"M17.41 7.96l-1.37-1.37c-.4-.4-.92-.59-1.43-.59-.52 0-1.04.2-1.43.59L10.3 9.45l-7.72 7.72c-.78.78-.78 2.05 0 2.83L4 21.41c.39.39.9.59 1.41.59.51 0 1.02-.2 1.41-.59l7.78-7.78 2.81-2.81c.8-.78.8-2.07 0-2.86zM5.41 20L4 18.59l7.72-7.72 1.47 1.35L5.41 20z\"/>\n",
              "  </svg>\n",
              "      </button>\n",
              "      \n",
              "  <style>\n",
              "    .colab-df-container {\n",
              "      display:flex;\n",
              "      flex-wrap:wrap;\n",
              "      gap: 12px;\n",
              "    }\n",
              "\n",
              "    .colab-df-convert {\n",
              "      background-color: #E8F0FE;\n",
              "      border: none;\n",
              "      border-radius: 50%;\n",
              "      cursor: pointer;\n",
              "      display: none;\n",
              "      fill: #1967D2;\n",
              "      height: 32px;\n",
              "      padding: 0 0 0 0;\n",
              "      width: 32px;\n",
              "    }\n",
              "\n",
              "    .colab-df-convert:hover {\n",
              "      background-color: #E2EBFA;\n",
              "      box-shadow: 0px 1px 2px rgba(60, 64, 67, 0.3), 0px 1px 3px 1px rgba(60, 64, 67, 0.15);\n",
              "      fill: #174EA6;\n",
              "    }\n",
              "\n",
              "    [theme=dark] .colab-df-convert {\n",
              "      background-color: #3B4455;\n",
              "      fill: #D2E3FC;\n",
              "    }\n",
              "\n",
              "    [theme=dark] .colab-df-convert:hover {\n",
              "      background-color: #434B5C;\n",
              "      box-shadow: 0px 1px 3px 1px rgba(0, 0, 0, 0.15);\n",
              "      filter: drop-shadow(0px 1px 2px rgba(0, 0, 0, 0.3));\n",
              "      fill: #FFFFFF;\n",
              "    }\n",
              "  </style>\n",
              "\n",
              "      <script>\n",
              "        const buttonEl =\n",
              "          document.querySelector('#df-b9be1166-db84-4900-a108-ab4614de4df7 button.colab-df-convert');\n",
              "        buttonEl.style.display =\n",
              "          google.colab.kernel.accessAllowed ? 'block' : 'none';\n",
              "\n",
              "        async function convertToInteractive(key) {\n",
              "          const element = document.querySelector('#df-b9be1166-db84-4900-a108-ab4614de4df7');\n",
              "          const dataTable =\n",
              "            await google.colab.kernel.invokeFunction('convertToInteractive',\n",
              "                                                     [key], {});\n",
              "          if (!dataTable) return;\n",
              "\n",
              "          const docLinkHtml = 'Like what you see? Visit the ' +\n",
              "            '<a target=\"_blank\" href=https://colab.research.google.com/notebooks/data_table.ipynb>data table notebook</a>'\n",
              "            + ' to learn more about interactive tables.';\n",
              "          element.innerHTML = '';\n",
              "          dataTable['output_type'] = 'display_data';\n",
              "          await google.colab.output.renderOutput(dataTable, element);\n",
              "          const docLink = document.createElement('div');\n",
              "          docLink.innerHTML = docLinkHtml;\n",
              "          element.appendChild(docLink);\n",
              "        }\n",
              "      </script>\n",
              "    </div>\n",
              "  </div>\n",
              "  "
            ]
          },
          "metadata": {},
          "execution_count": 106
        }
      ]
    },
    {
      "cell_type": "code",
      "source": [
        "#From this study we get predicted chances for woman and boy, that are in a group.\n",
        "predicted_chances=df[['PassengerId','Survival_chances']][891:1309]"
      ],
      "metadata": {
        "id": "2O2J-CfrMX7u"
      },
      "execution_count": 107,
      "outputs": []
    },
    {
      "cell_type": "code",
      "source": [
        "print(sum(predicted_chances['Survival_chances']==0))\n",
        "print(sum(predicted_chances['Survival_chances']==1))\n",
        "print(sum(predicted_chances['Survival_chances'].isnull()))\n",
        "print(sum(predicted_chances['Survival_chances']==0.5))\n",
        "print(sum(predicted_chances['Survival_chances']==0.75))"
      ],
      "metadata": {
        "colab": {
          "base_uri": "https://localhost:8080/"
        },
        "id": "7FFHi3DtKy7D",
        "outputId": "77c7240a-6bee-4b2e-8fd3-c080ae45dc1f"
      },
      "execution_count": 108,
      "outputs": [
        {
          "output_type": "stream",
          "name": "stdout",
          "text": [
            "17\n",
            "45\n",
            "353\n",
            "1\n",
            "2\n"
          ]
        }
      ]
    },
    {
      "cell_type": "code",
      "source": [
        "#These are the predictions of the previous best Model.\n",
        "model_predictions=pd.read_csv('gender_submission.csv')"
      ],
      "metadata": {
        "id": "V-GDbIDza71N"
      },
      "execution_count": 109,
      "outputs": []
    },
    {
      "cell_type": "code",
      "source": [
        "#Here we merge both outputs on PassengerId of Part-I(best Model) & Part-II(Analysis on woman and boy in groups).\n",
        "Merged = pd.merge(model_predictions, predicted_chances, on='PassengerId')"
      ],
      "metadata": {
        "id": "dJJyLlvob27m"
      },
      "execution_count": 110,
      "outputs": []
    },
    {
      "cell_type": "code",
      "source": [
        "'''\n",
        "Now we are replacing the survival_chances>0.5 with 1 and survival_chances<0.5 with 0.\n",
        "And replacing all other Nan with 0.5 as to denote that the man and passengers with noGroup have 50/50 survival_chances\n",
        "according to this method, and these passengers survival status(0/1) will be declared by using Part-I(best_Model).\n",
        "'''\n",
        "\n",
        "Merged['Survival_chances']=Merged['Survival_chances'].fillna(0.5)\n",
        "\n",
        "chances_col = Merged['Survival_chances']\n",
        "chances_col.replace(to_replace = 0.75, value = 1, inplace=True)\n",
        "#Combining the recquired survival status from the Part-I & Part-II as discussed. \n",
        "survival_status=[]\n",
        "PassengerId=[]\n",
        "for i in range(0,418):\n",
        "  id = Merged['PassengerId'][i]\n",
        "  chances = Merged['Survival_chances'][i]\n",
        "  model = Merged['Survived'][i]\n",
        "  if chances == 0.5:\n",
        "    survival_status.append(int(model))\n",
        "  else:\n",
        "    survival_status.append(int(chances))\n",
        "  PassengerId.append(int(id))"
      ],
      "metadata": {
        "id": "m_11-WbfcslD"
      },
      "execution_count": 111,
      "outputs": []
    },
    {
      "cell_type": "code",
      "source": [
        "#Preparing final Kaggle submission dataframe.\n",
        "data_tuples = list(zip(PassengerId, survival_status))\n",
        "final_df = pd.DataFrame(data_tuples,columns=['PassengerId', 'Survived'])\n",
        "\n",
        "#Saving the obtained dataframe to .csv file.\n",
        "final_df.to_csv('kaggle_submission (1).csv', index = False, encoding='utf-8')"
      ],
      "metadata": {
        "id": "VHJew0eFdFEa"
      },
      "execution_count": 112,
      "outputs": []
    },
    {
      "cell_type": "markdown",
      "source": [
        "## **--> Obtained a improved Leaderboard score of *0.80143***  \n",
        "\n",
        "![Screenshot (400).png](data:image/png;base64,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)"
      ],
      "metadata": {
        "id": "iHqK6Cb6zXAo"
      }
    }
  ]
}